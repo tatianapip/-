{
  "cells": [
    {
      "cell_type": "markdown",
      "metadata": {
        "id": "view-in-github",
        "colab_type": "text"
      },
      "source": [
        "<a href=\"https://colab.research.google.com/github/tatianapip/-/blob/main/_ipynb.ipynb\" target=\"_parent\"><img src=\"https://colab.research.google.com/assets/colab-badge.svg\" alt=\"Open In Colab\"/></a>"
      ]
    },
    {
      "cell_type": "markdown",
      "metadata": {
        "id": "nroUYJ3zhVXx"
      },
      "source": [
        "# Диагностика рака молочной железы"
      ]
    },
    {
      "cell_type": "markdown",
      "source": [
        "Ежегодно в России регистрируется более 50 тыс. новых случаев рака молочной железы.\n",
        "Более 22 тысяч смертей от рака молочной железы. Казалось бы, что диагностировать новообразование молочной железы довольно просто, но в каждом методе есть свои ньюансы. Часто исользуют рентген и МРТ диагностику. Данная программа нацелена на улучшение диагностики по средствам МРТ снимков. Для осуществления данного проекта будет израсходованно мало средств, по скольку планируется предложить его в клиники области, которые уже располагают оборудованием. Из минусов и рисков можно отметить высокую конкуренцию и несовершенство проекта. Но если рассмотреть более простые варианты, такие как ФАПы, на данный момент идет активное снабжение медицинских организаций МРТ аппаратами, то есть вероятность усовершеннствования программы.  "
      ],
      "metadata": {
        "id": "8rwougWBkEvH"
      }
    },
    {
      "cell_type": "markdown",
      "metadata": {
        "id": "IimFBr89hVX3"
      },
      "source": [
        "## Введение"
      ]
    },
    {
      "cell_type": "markdown",
      "metadata": {
        "id": "cDkzVO_uhVX5"
      },
      "source": [
        "Многие заболевания молочной железы в медицинских центрах диагностируются с помощью УЗИ, МРТ и маммографии. Наиболее точным и информативным методом является магнитно-резонансная томография.\n",
        "УЗИ - это обследование груди с помощью ультразвуковых волн. Маммография - это сканирование молочных желез с помощью рентген-установки. МРТ груди - это томографическое обследование молочной железы и лимфоузлов с помощью эффекта ядерного магнитного резонанса. В магнитно-резонансном томографе установлен мощный магнит, который создает сильное магнитное поле. Оно заставляет атомы водорода в клетках человека определенным образом реагировать на радиочастотный импульс. МРТ аппарат считывает эту реакцию, преобразовывает в картинки и в виде трехмерного изображения выводит на экран томографа. Поскольку способ получения данных при УЗИ, маммографии и МРТ молочных желез отличается, то и диагностические способности у этих видов сканирования будут разными.\n",
        "МРТ груди - это самый дорогой, но и самый точный метод обследования молочных желез и лимфатических узлов. МРТ молочных желез чаще всего назначается для выявления злокачественных опухолей. Если сравнить ее с альтернативными способами диагностики, такими как УЗИ и маммография, то можно с уверенностью сказать, что метод МРТ - это наиболее эффективная форма диагностики при опухолевой патологии груди. Она выявляет онкологию в 96% случаев, в то время как точность маммографии - около 45%.\n"
      ]
    },
    {
      "cell_type": "markdown",
      "metadata": {
        "id": "nibqXy7ChVX6"
      },
      "source": [
        "## Постановка задачи\n",
        "\n",
        "Обнаружение и распознавание любого рода отклонений на снимках для упрощения постановки диагноза. Выявления опухолей различной этиологии, установить их размеры, степень поражения и локацию, измерить лимфоузлы и обнаружить другие патологические процессы, необходимо разработать автоматизированную систему, которая сможет эффективно распознавать наличие патологий."
      ]
    },
    {
      "cell_type": "markdown",
      "metadata": {
        "id": "4rqnnKDYhVX6"
      },
      "source": [
        "## Цель проекта\n",
        "Создание модели глубокого обучения с использованием алгоритма сверточной нейронной сети (CNN), которая будет оповещать о патологиях молочной железы. Сверточная нейронная сеть – это класс глубоких нейронных сетей, наиболее часто применяемый для анализа визуальных образов. В работе используется Keras – это программная библиотека с открытым исходным кодом, которая предоставляет интерфейс Python для искусственных нейронных сетей, в частности, сверточных.\n"
      ]
    },
    {
      "cell_type": "markdown",
      "metadata": {
        "id": "nO8LF4SuhVX7"
      },
      "source": [
        "## Методология\n",
        "\n",
        "Необходимо решить задачу классификации изображений, которая включает в себя предоставление изображения в качестве входных данных для модели, построенной с использованием определенного алгоритма, который выводит метку класса, или вероятность класса, к которому принадлежит это изображение. Такой процесс относится к обучению с учителем. Алгоритм сверточной нейронной сети в основном используется для визуальных образов. Модель CNN состоит из двух основных слоев. Первая часть состоит из сверточных слоев и слоев пулинга, в которых происходит основной процесс извлечения признаков. Во второй части полносвязные слои выполняют несколько нелинейных преобразований извлеченных признаков и действуют как часть классификатора.\n"
      ]
    },
    {
      "cell_type": "markdown",
      "metadata": {
        "id": "gFSpGsXAhVX_"
      },
      "source": [
        "## Набор данных\n",
        "\n",
        "Для решения поставленной задачи в работе предлагается использовать набор данных с сайта Kaggle, состоящий из изображений, половина из которых содержит патологии молочных желез. Каталог был опубликован 15 августа 2021 г., данные выложил ВУППАЛА АДИТЬЯ САЙРАМ. Данные были скачаны на гугл диск для удобства работы. Изображений МРТ в файле было недостаточно для обучения нейросети, поэтому их количество исскуственно увеличено. Планируется пополнение файлов из организации внедрения проекта. Датасет разделен на две части: «больные» (имеющие патологию) и «здоровые» (без патологии).\n",
        "\n",
        "Ссылка: https://www.kaggle.com/datasets/uzairkhan45/breast-cancer-patients-mris"
      ]
    },
    {
      "cell_type": "markdown",
      "metadata": {
        "id": "ycf26ON9hVYA"
      },
      "source": [
        "## Подключение необходимых библиотек"
      ]
    },
    {
      "cell_type": "code",
      "execution_count": null,
      "metadata": {
        "colab": {
          "base_uri": "https://localhost:8080/"
        },
        "id": "2zp5atqBhVYA",
        "outputId": "56fa8dce-1ad9-4bf6-e5d6-be1f8c196dd1"
      },
      "outputs": [
        {
          "output_type": "stream",
          "name": "stdout",
          "text": [
            "Looking in indexes: https://pypi.org/simple, https://us-python.pkg.dev/colab-wheels/public/simple/\n",
            "Requirement already satisfied: opencv-python in /usr/local/lib/python3.8/dist-packages (4.6.0.66)\n",
            "Requirement already satisfied: numpy>=1.14.5 in /usr/local/lib/python3.8/dist-packages (from opencv-python) (1.22.4)\n"
          ]
        }
      ],
      "source": [
        "pip install opencv-python"
      ]
    },
    {
      "cell_type": "markdown",
      "source": [
        "Библиотека Opencv является базовым инструментом для работы с компьютерным зрением на языке Python. Она позволяет применять различные операции с изображениями,позволяет работать с потоками видео."
      ],
      "metadata": {
        "id": "4PYXAoW8xU_X"
      }
    },
    {
      "cell_type": "code",
      "execution_count": null,
      "metadata": {
        "id": "DpCQPp45hVYD"
      },
      "outputs": [],
      "source": [
        "import cv2 as cv                                                        # Метод cv2.imshow() используется для того, чтобы отобразить изображение в окне, которое автоматически подстраивается под размер изображения\n",
        "import numpy as np                                                      # Математические операции над массивами \n",
        "import pandas as pd                                                     # Простые в использовании структуры данных и инструменты анализа данных с открытым исходным кодом\n",
        "import matplotlib.pyplot as plt                                         # Библиотека построения графиков вроде MATLAB\n",
        "import seaborn as sns                                                   # Использует Matplotlib для построения графиков\n",
        "from pathlib import Path                                                # Функция для использования рабочих файлов и каталогов\n",
        "from sklearn.model_selection import train_test_split                    # Используется для разбиения набора на обучающую и тестовую выборки\n",
        "from keras.models import Sequential                                     # Позволяет создавать модели нейронных сетей слой за слоем в пошаговом режиме\n",
        "from keras.layers import Dense, Conv2D, MaxPool2D, Flatten, Dropout     # Позволяет создавать слои, которые являются основными строительными блоками нейронных сетей в Keras\n",
        "import tensorflow as tf                                                 # Нейросетевая библиотека для работы с нейронными сетями\n",
        "import keras                                                            # Оболочка над Tensorflow\n",
        "from sklearn.metrics import confusion_matrix, classification_report     # Матрица ошибок и метрики модели \n",
        "from tensorflow.keras import datasets, layers, models                   # Наборы данных, слои и предварительно обученные модели из Tensorflow"
      ]
    },
    {
      "cell_type": "code",
      "execution_count": null,
      "metadata": {
        "id": "9GIZtEyphVYD"
      },
      "outputs": [],
      "source": [
        "from tensorflow.keras.utils import img_to_array                         # Преобразовывает экземпляр изображения в numpy-массив\n",
        "from matplotlib import pyplot                                           # Упрощение использования Matplotlib для построения графиков\n",
        "from numpy import expand_dims                                           # Добавляет новую ось к массиву\n",
        "from keras.preprocessing.image import ImageDataGenerator                # Генерация новых изображений для аугментации данных"
      ]
    },
    {
      "cell_type": "markdown",
      "metadata": {
        "id": "Cuu-5kbphVYE"
      },
      "source": [
        "## Загрузка набора данных"
      ]
    },
    {
      "cell_type": "code",
      "source": [
        "import zipfile"
      ],
      "metadata": {
        "id": "XU3uqcP6p4TK"
      },
      "execution_count": null,
      "outputs": []
    },
    {
      "cell_type": "code",
      "source": [
        "from google.colab import drive\n",
        "drive.mount('/content/drive')"
      ],
      "metadata": {
        "colab": {
          "base_uri": "https://localhost:8080/"
        },
        "id": "D2N3SmvJVGvU",
        "outputId": "50e2a725-6ad7-45ed-daff-e690e75c0dfe"
      },
      "execution_count": null,
      "outputs": [
        {
          "output_type": "stream",
          "name": "stdout",
          "text": [
            "Mounted at /content/drive\n"
          ]
        }
      ]
    },
    {
      "cell_type": "code",
      "source": [
        "! unzip '/content/drive/MyDrive/Colab Notebooks/archive.zip'"
      ],
      "metadata": {
        "colab": {
          "base_uri": "https://localhost:8080/"
        },
        "id": "oMfm1of66LIx",
        "outputId": "039a445e-4c5e-44a9-f0a1-01ae9ab1c295"
      },
      "execution_count": null,
      "outputs": [
        {
          "output_type": "stream",
          "name": "stdout",
          "text": [
            "Archive:  /content/drive/MyDrive/Colab Notebooks/archive.zip\n",
            "   creating: Breast Cancer Patients MRI's/Healthy/\n",
            "  inflating: Breast Cancer Patients MRI's/Healthy/H_1.jpg  \n",
            "  inflating: Breast Cancer Patients MRI's/Healthy/H_10.jpg  \n",
            "  inflating: Breast Cancer Patients MRI's/Healthy/H_100.jpg  \n",
            "  inflating: Breast Cancer Patients MRI's/Healthy/H_101.jpg  \n",
            "  inflating: Breast Cancer Patients MRI's/Healthy/H_102.jpg  \n",
            "  inflating: Breast Cancer Patients MRI's/Healthy/H_103.jpg  \n",
            "  inflating: Breast Cancer Patients MRI's/Healthy/H_104.jpg  \n",
            "  inflating: Breast Cancer Patients MRI's/Healthy/H_105.jpg  \n",
            "  inflating: Breast Cancer Patients MRI's/Healthy/H_106.jpg  \n",
            "  inflating: Breast Cancer Patients MRI's/Healthy/H_107.jpg  \n",
            "  inflating: Breast Cancer Patients MRI's/Healthy/H_108.jpg  \n",
            "  inflating: Breast Cancer Patients MRI's/Healthy/H_109.jpg  \n",
            "  inflating: Breast Cancer Patients MRI's/Healthy/H_11.jpg  \n",
            "  inflating: Breast Cancer Patients MRI's/Healthy/H_110.jpg  \n",
            "  inflating: Breast Cancer Patients MRI's/Healthy/H_111.jpg  \n",
            "  inflating: Breast Cancer Patients MRI's/Healthy/H_112.jpg  \n",
            "  inflating: Breast Cancer Patients MRI's/Healthy/H_113.jpg  \n",
            "  inflating: Breast Cancer Patients MRI's/Healthy/H_114.jpg  \n",
            "  inflating: Breast Cancer Patients MRI's/Healthy/H_115.jpg  \n",
            "  inflating: Breast Cancer Patients MRI's/Healthy/H_116.jpg  \n",
            "  inflating: Breast Cancer Patients MRI's/Healthy/H_117.jpg  \n",
            "  inflating: Breast Cancer Patients MRI's/Healthy/H_118.jpg  \n",
            "  inflating: Breast Cancer Patients MRI's/Healthy/H_119.jpg  \n",
            "  inflating: Breast Cancer Patients MRI's/Healthy/H_12.jpg  \n",
            "  inflating: Breast Cancer Patients MRI's/Healthy/H_120.jpg  \n",
            "  inflating: Breast Cancer Patients MRI's/Healthy/H_121.jpg  \n",
            "  inflating: Breast Cancer Patients MRI's/Healthy/H_122.jpg  \n",
            "  inflating: Breast Cancer Patients MRI's/Healthy/H_123.jpg  \n",
            "  inflating: Breast Cancer Patients MRI's/Healthy/H_124.jpg  \n",
            "  inflating: Breast Cancer Patients MRI's/Healthy/H_125.jpg  \n",
            "  inflating: Breast Cancer Patients MRI's/Healthy/H_126.jpg  \n",
            "  inflating: Breast Cancer Patients MRI's/Healthy/H_127.jpg  \n",
            "  inflating: Breast Cancer Patients MRI's/Healthy/H_128.jpg  \n",
            "  inflating: Breast Cancer Patients MRI's/Healthy/H_129.jpg  \n",
            "  inflating: Breast Cancer Patients MRI's/Healthy/H_13.jpg  \n",
            "  inflating: Breast Cancer Patients MRI's/Healthy/H_130.jpg  \n",
            "  inflating: Breast Cancer Patients MRI's/Healthy/H_131.jpg  \n",
            "  inflating: Breast Cancer Patients MRI's/Healthy/H_132.jpg  \n",
            "  inflating: Breast Cancer Patients MRI's/Healthy/H_133.jpg  \n",
            "  inflating: Breast Cancer Patients MRI's/Healthy/H_134.jpg  \n",
            "  inflating: Breast Cancer Patients MRI's/Healthy/H_135.jpg  \n",
            "  inflating: Breast Cancer Patients MRI's/Healthy/H_136.jpg  \n",
            "  inflating: Breast Cancer Patients MRI's/Healthy/H_137.jpg  \n",
            "  inflating: Breast Cancer Patients MRI's/Healthy/H_138.jpg  \n",
            "  inflating: Breast Cancer Patients MRI's/Healthy/H_139.jpg  \n",
            "  inflating: Breast Cancer Patients MRI's/Healthy/H_14.jpg  \n",
            "  inflating: Breast Cancer Patients MRI's/Healthy/H_140.jpg  \n",
            "  inflating: Breast Cancer Patients MRI's/Healthy/H_141.jpg  \n",
            "  inflating: Breast Cancer Patients MRI's/Healthy/H_142.jpg  \n",
            "  inflating: Breast Cancer Patients MRI's/Healthy/H_143.jpg  \n",
            "  inflating: Breast Cancer Patients MRI's/Healthy/H_144.jpg  \n",
            "  inflating: Breast Cancer Patients MRI's/Healthy/H_145.jpg  \n",
            "  inflating: Breast Cancer Patients MRI's/Healthy/H_146.jpg  \n",
            "  inflating: Breast Cancer Patients MRI's/Healthy/H_147.jpg  \n",
            "  inflating: Breast Cancer Patients MRI's/Healthy/H_148.jpg  \n",
            "  inflating: Breast Cancer Patients MRI's/Healthy/H_149.jpg  \n",
            "  inflating: Breast Cancer Patients MRI's/Healthy/H_15.jpg  \n",
            "  inflating: Breast Cancer Patients MRI's/Healthy/H_150.jpg  \n",
            "  inflating: Breast Cancer Patients MRI's/Healthy/H_151.jpg  \n",
            "  inflating: Breast Cancer Patients MRI's/Healthy/H_152.jpg  \n",
            "  inflating: Breast Cancer Patients MRI's/Healthy/H_153.jpg  \n",
            "  inflating: Breast Cancer Patients MRI's/Healthy/H_154.jpg  \n",
            "  inflating: Breast Cancer Patients MRI's/Healthy/H_155.jpg  \n",
            "  inflating: Breast Cancer Patients MRI's/Healthy/H_156.jpg  \n",
            "  inflating: Breast Cancer Patients MRI's/Healthy/H_157.jpg  \n",
            "  inflating: Breast Cancer Patients MRI's/Healthy/H_158.jpg  \n",
            "  inflating: Breast Cancer Patients MRI's/Healthy/H_159.jpg  \n",
            "  inflating: Breast Cancer Patients MRI's/Healthy/H_16.jpg  \n",
            "  inflating: Breast Cancer Patients MRI's/Healthy/H_160.jpg  \n",
            "  inflating: Breast Cancer Patients MRI's/Healthy/H_161.jpg  \n",
            "  inflating: Breast Cancer Patients MRI's/Healthy/H_162.jpg  \n",
            "  inflating: Breast Cancer Patients MRI's/Healthy/H_163.jpg  \n",
            "  inflating: Breast Cancer Patients MRI's/Healthy/H_164.jpg  \n",
            "  inflating: Breast Cancer Patients MRI's/Healthy/H_165.jpg  \n",
            "  inflating: Breast Cancer Patients MRI's/Healthy/H_166.jpg  \n",
            "  inflating: Breast Cancer Patients MRI's/Healthy/H_167.jpg  \n",
            "  inflating: Breast Cancer Patients MRI's/Healthy/H_168.jpg  \n",
            "  inflating: Breast Cancer Patients MRI's/Healthy/H_169.jpg  \n",
            "  inflating: Breast Cancer Patients MRI's/Healthy/H_17.jpg  \n",
            "  inflating: Breast Cancer Patients MRI's/Healthy/H_170.jpg  \n",
            "  inflating: Breast Cancer Patients MRI's/Healthy/H_171.jpg  \n",
            "  inflating: Breast Cancer Patients MRI's/Healthy/H_172.jpg  \n",
            "  inflating: Breast Cancer Patients MRI's/Healthy/H_173.jpg  \n",
            "  inflating: Breast Cancer Patients MRI's/Healthy/H_174.jpg  \n",
            "  inflating: Breast Cancer Patients MRI's/Healthy/H_175.jpg  \n",
            "  inflating: Breast Cancer Patients MRI's/Healthy/H_176.jpg  \n",
            "  inflating: Breast Cancer Patients MRI's/Healthy/H_177.jpg  \n",
            "  inflating: Breast Cancer Patients MRI's/Healthy/H_178.jpg  \n",
            "  inflating: Breast Cancer Patients MRI's/Healthy/H_179.jpg  \n",
            "  inflating: Breast Cancer Patients MRI's/Healthy/H_18.jpg  \n",
            "  inflating: Breast Cancer Patients MRI's/Healthy/H_180.jpg  \n",
            "  inflating: Breast Cancer Patients MRI's/Healthy/H_181.jpg  \n",
            "  inflating: Breast Cancer Patients MRI's/Healthy/H_182.jpg  \n",
            "  inflating: Breast Cancer Patients MRI's/Healthy/H_183.jpg  \n",
            "  inflating: Breast Cancer Patients MRI's/Healthy/H_184.jpg  \n",
            "  inflating: Breast Cancer Patients MRI's/Healthy/H_185.jpg  \n",
            "  inflating: Breast Cancer Patients MRI's/Healthy/H_186.jpg  \n",
            "  inflating: Breast Cancer Patients MRI's/Healthy/H_187.jpg  \n",
            "  inflating: Breast Cancer Patients MRI's/Healthy/H_188.jpg  \n",
            "  inflating: Breast Cancer Patients MRI's/Healthy/H_189.jpg  \n",
            "  inflating: Breast Cancer Patients MRI's/Healthy/H_19.jpg  \n",
            "  inflating: Breast Cancer Patients MRI's/Healthy/H_190.jpg  \n",
            "  inflating: Breast Cancer Patients MRI's/Healthy/H_191.jpg  \n",
            "  inflating: Breast Cancer Patients MRI's/Healthy/H_192.jpg  \n",
            "  inflating: Breast Cancer Patients MRI's/Healthy/H_193.jpg  \n",
            "  inflating: Breast Cancer Patients MRI's/Healthy/H_194.jpg  \n",
            "  inflating: Breast Cancer Patients MRI's/Healthy/H_195.jpg  \n",
            "  inflating: Breast Cancer Patients MRI's/Healthy/H_196.jpg  \n",
            "  inflating: Breast Cancer Patients MRI's/Healthy/H_197.jpg  \n",
            "  inflating: Breast Cancer Patients MRI's/Healthy/H_198.jpg  \n",
            "  inflating: Breast Cancer Patients MRI's/Healthy/H_199.jpg  \n",
            "  inflating: Breast Cancer Patients MRI's/Healthy/H_2.jpg  \n",
            "  inflating: Breast Cancer Patients MRI's/Healthy/H_20.jpg  \n",
            "  inflating: Breast Cancer Patients MRI's/Healthy/H_200.jpg  \n",
            "  inflating: Breast Cancer Patients MRI's/Healthy/H_201.jpg  \n",
            "  inflating: Breast Cancer Patients MRI's/Healthy/H_202.jpg  \n",
            "  inflating: Breast Cancer Patients MRI's/Healthy/H_204.jpg  \n",
            "  inflating: Breast Cancer Patients MRI's/Healthy/H_205.jpg  \n",
            "  inflating: Breast Cancer Patients MRI's/Healthy/H_206.jpg  \n",
            "  inflating: Breast Cancer Patients MRI's/Healthy/H_207.jpg  \n",
            "  inflating: Breast Cancer Patients MRI's/Healthy/H_208.jpg  \n",
            "  inflating: Breast Cancer Patients MRI's/Healthy/H_209.jpg  \n",
            "  inflating: Breast Cancer Patients MRI's/Healthy/H_21.jpg  \n",
            "  inflating: Breast Cancer Patients MRI's/Healthy/H_210.jpg  \n",
            "  inflating: Breast Cancer Patients MRI's/Healthy/H_211.jpg  \n",
            "  inflating: Breast Cancer Patients MRI's/Healthy/H_212.jpg  \n",
            "  inflating: Breast Cancer Patients MRI's/Healthy/H_213.jpg  \n",
            "  inflating: Breast Cancer Patients MRI's/Healthy/H_22.jpg  \n",
            "  inflating: Breast Cancer Patients MRI's/Healthy/H_23.jpg  \n",
            "  inflating: Breast Cancer Patients MRI's/Healthy/H_235.jpg  \n",
            "  inflating: Breast Cancer Patients MRI's/Healthy/H_236.jpg  \n",
            "  inflating: Breast Cancer Patients MRI's/Healthy/H_237.jpg  \n",
            "  inflating: Breast Cancer Patients MRI's/Healthy/H_238.jpg  \n",
            "  inflating: Breast Cancer Patients MRI's/Healthy/H_239.jpg  \n",
            "  inflating: Breast Cancer Patients MRI's/Healthy/H_24.jpg  \n",
            "  inflating: Breast Cancer Patients MRI's/Healthy/H_240.jpg  \n",
            "  inflating: Breast Cancer Patients MRI's/Healthy/H_241.jpg  \n",
            "  inflating: Breast Cancer Patients MRI's/Healthy/H_242.jpg  \n",
            "  inflating: Breast Cancer Patients MRI's/Healthy/H_243.jpg  \n",
            "  inflating: Breast Cancer Patients MRI's/Healthy/H_244.jpg  \n",
            "  inflating: Breast Cancer Patients MRI's/Healthy/H_245.jpg  \n",
            "  inflating: Breast Cancer Patients MRI's/Healthy/H_246.jpg  \n",
            "  inflating: Breast Cancer Patients MRI's/Healthy/H_247.jpg  \n",
            "  inflating: Breast Cancer Patients MRI's/Healthy/H_249.jpg  \n",
            "  inflating: Breast Cancer Patients MRI's/Healthy/H_25.jpg  \n",
            "  inflating: Breast Cancer Patients MRI's/Healthy/H_250.jpg  \n",
            "  inflating: Breast Cancer Patients MRI's/Healthy/H_251.jpg  \n",
            "  inflating: Breast Cancer Patients MRI's/Healthy/H_252.jpg  \n",
            "  inflating: Breast Cancer Patients MRI's/Healthy/H_253.jpg  \n",
            "  inflating: Breast Cancer Patients MRI's/Healthy/H_255.jpg  \n",
            "  inflating: Breast Cancer Patients MRI's/Healthy/H_256.jpg  \n",
            "  inflating: Breast Cancer Patients MRI's/Healthy/H_257.jpg  \n",
            "  inflating: Breast Cancer Patients MRI's/Healthy/H_258.jpg  \n",
            "  inflating: Breast Cancer Patients MRI's/Healthy/H_259.jpg  \n",
            "  inflating: Breast Cancer Patients MRI's/Healthy/H_26.jpg  \n",
            "  inflating: Breast Cancer Patients MRI's/Healthy/H_260.jpg  \n",
            "  inflating: Breast Cancer Patients MRI's/Healthy/H_261.jpg  \n",
            "  inflating: Breast Cancer Patients MRI's/Healthy/H_262.jpg  \n",
            "  inflating: Breast Cancer Patients MRI's/Healthy/H_263.jpg  \n",
            "  inflating: Breast Cancer Patients MRI's/Healthy/H_264.jpg  \n",
            "  inflating: Breast Cancer Patients MRI's/Healthy/H_265.jpg  \n",
            "  inflating: Breast Cancer Patients MRI's/Healthy/H_266.jpg  \n",
            "  inflating: Breast Cancer Patients MRI's/Healthy/H_267.jpg  \n",
            "  inflating: Breast Cancer Patients MRI's/Healthy/H_268.jpg  \n",
            "  inflating: Breast Cancer Patients MRI's/Healthy/H_269.jpg  \n",
            "  inflating: Breast Cancer Patients MRI's/Healthy/H_27.jpg  \n",
            "  inflating: Breast Cancer Patients MRI's/Healthy/H_270.jpg  \n",
            "  inflating: Breast Cancer Patients MRI's/Healthy/H_271.jpg  \n",
            "  inflating: Breast Cancer Patients MRI's/Healthy/H_272.jpg  \n",
            "  inflating: Breast Cancer Patients MRI's/Healthy/H_273.jpg  \n",
            "  inflating: Breast Cancer Patients MRI's/Healthy/H_274.jpg  \n",
            "  inflating: Breast Cancer Patients MRI's/Healthy/H_275.jpg  \n",
            "  inflating: Breast Cancer Patients MRI's/Healthy/H_276.jpg  \n",
            "  inflating: Breast Cancer Patients MRI's/Healthy/H_277.jpg  \n",
            "  inflating: Breast Cancer Patients MRI's/Healthy/H_278.jpg  \n",
            "  inflating: Breast Cancer Patients MRI's/Healthy/H_279.jpg  \n",
            "  inflating: Breast Cancer Patients MRI's/Healthy/H_28.jpg  \n",
            "  inflating: Breast Cancer Patients MRI's/Healthy/H_280.jpg  \n",
            "  inflating: Breast Cancer Patients MRI's/Healthy/H_281.jpg  \n",
            "  inflating: Breast Cancer Patients MRI's/Healthy/H_282.jpg  \n",
            "  inflating: Breast Cancer Patients MRI's/Healthy/H_283.jpg  \n",
            "  inflating: Breast Cancer Patients MRI's/Healthy/H_285.jpg  \n",
            "  inflating: Breast Cancer Patients MRI's/Healthy/H_286.jpg  \n",
            "  inflating: Breast Cancer Patients MRI's/Healthy/H_287.jpg  \n",
            "  inflating: Breast Cancer Patients MRI's/Healthy/H_288.jpg  \n",
            "  inflating: Breast Cancer Patients MRI's/Healthy/H_289.jpg  \n",
            "  inflating: Breast Cancer Patients MRI's/Healthy/H_29.jpg  \n",
            "  inflating: Breast Cancer Patients MRI's/Healthy/H_290.jpg  \n",
            "  inflating: Breast Cancer Patients MRI's/Healthy/H_291.jpg  \n",
            "  inflating: Breast Cancer Patients MRI's/Healthy/H_292.jpg  \n",
            "  inflating: Breast Cancer Patients MRI's/Healthy/H_293.jpg  \n",
            "  inflating: Breast Cancer Patients MRI's/Healthy/H_294.jpg  \n",
            "  inflating: Breast Cancer Patients MRI's/Healthy/H_295.jpg  \n",
            "  inflating: Breast Cancer Patients MRI's/Healthy/H_296.jpg  \n",
            "  inflating: Breast Cancer Patients MRI's/Healthy/H_297.jpg  \n",
            "  inflating: Breast Cancer Patients MRI's/Healthy/H_298.jpg  \n",
            "  inflating: Breast Cancer Patients MRI's/Healthy/H_299.jpg  \n",
            "  inflating: Breast Cancer Patients MRI's/Healthy/H_3.jpg  \n",
            "  inflating: Breast Cancer Patients MRI's/Healthy/H_30.jpg  \n",
            "  inflating: Breast Cancer Patients MRI's/Healthy/H_300.jpg  \n",
            "  inflating: Breast Cancer Patients MRI's/Healthy/H_301.jpg  \n",
            "  inflating: Breast Cancer Patients MRI's/Healthy/H_302.jpg  \n",
            "  inflating: Breast Cancer Patients MRI's/Healthy/H_303.jpg  \n",
            "  inflating: Breast Cancer Patients MRI's/Healthy/H_304.jpg  \n",
            "  inflating: Breast Cancer Patients MRI's/Healthy/H_305.jpg  \n",
            "  inflating: Breast Cancer Patients MRI's/Healthy/H_306.jpg  \n",
            "  inflating: Breast Cancer Patients MRI's/Healthy/H_307.jpg  \n",
            "  inflating: Breast Cancer Patients MRI's/Healthy/H_308.jpg  \n",
            "  inflating: Breast Cancer Patients MRI's/Healthy/H_309.jpg  \n",
            "  inflating: Breast Cancer Patients MRI's/Healthy/H_31.jpg  \n",
            "  inflating: Breast Cancer Patients MRI's/Healthy/H_310.jpg  \n",
            "  inflating: Breast Cancer Patients MRI's/Healthy/H_311.jpg  \n",
            "  inflating: Breast Cancer Patients MRI's/Healthy/H_312.jpg  \n",
            "  inflating: Breast Cancer Patients MRI's/Healthy/H_313.jpg  \n",
            "  inflating: Breast Cancer Patients MRI's/Healthy/H_314.jpg  \n",
            "  inflating: Breast Cancer Patients MRI's/Healthy/H_315.jpg  \n",
            "  inflating: Breast Cancer Patients MRI's/Healthy/H_316.jpg  \n",
            "  inflating: Breast Cancer Patients MRI's/Healthy/H_317.jpg  \n",
            "  inflating: Breast Cancer Patients MRI's/Healthy/H_318.jpg  \n",
            "  inflating: Breast Cancer Patients MRI's/Healthy/H_319.jpg  \n",
            "  inflating: Breast Cancer Patients MRI's/Healthy/H_32.jpg  \n",
            "  inflating: Breast Cancer Patients MRI's/Healthy/H_320.jpg  \n",
            "  inflating: Breast Cancer Patients MRI's/Healthy/H_321.jpg  \n",
            "  inflating: Breast Cancer Patients MRI's/Healthy/H_322.jpg  \n",
            "  inflating: Breast Cancer Patients MRI's/Healthy/H_323.jpg  \n",
            "  inflating: Breast Cancer Patients MRI's/Healthy/H_324.jpg  \n",
            "  inflating: Breast Cancer Patients MRI's/Healthy/H_325.jpg  \n",
            "  inflating: Breast Cancer Patients MRI's/Healthy/H_326.jpg  \n",
            "  inflating: Breast Cancer Patients MRI's/Healthy/H_327.jpg  \n",
            "  inflating: Breast Cancer Patients MRI's/Healthy/H_328.jpg  \n",
            "  inflating: Breast Cancer Patients MRI's/Healthy/H_329.jpg  \n",
            "  inflating: Breast Cancer Patients MRI's/Healthy/H_33.jpg  \n",
            "  inflating: Breast Cancer Patients MRI's/Healthy/H_330.jpg  \n",
            "  inflating: Breast Cancer Patients MRI's/Healthy/H_331.jpg  \n",
            "  inflating: Breast Cancer Patients MRI's/Healthy/H_332.jpg  \n",
            "  inflating: Breast Cancer Patients MRI's/Healthy/H_333.jpg  \n",
            "  inflating: Breast Cancer Patients MRI's/Healthy/H_334.jpg  \n",
            "  inflating: Breast Cancer Patients MRI's/Healthy/H_335.jpg  \n",
            "  inflating: Breast Cancer Patients MRI's/Healthy/H_336.jpg  \n",
            "  inflating: Breast Cancer Patients MRI's/Healthy/H_337.jpg  \n",
            "  inflating: Breast Cancer Patients MRI's/Healthy/H_338.jpg  \n",
            "  inflating: Breast Cancer Patients MRI's/Healthy/H_339.jpg  \n",
            "  inflating: Breast Cancer Patients MRI's/Healthy/H_34.jpg  \n",
            "  inflating: Breast Cancer Patients MRI's/Healthy/H_340.jpg  \n",
            "  inflating: Breast Cancer Patients MRI's/Healthy/H_341.jpg  \n",
            "  inflating: Breast Cancer Patients MRI's/Healthy/H_342.jpg  \n",
            "  inflating: Breast Cancer Patients MRI's/Healthy/H_343.jpg  \n",
            "  inflating: Breast Cancer Patients MRI's/Healthy/H_344.jpg  \n",
            "  inflating: Breast Cancer Patients MRI's/Healthy/H_345.jpg  \n",
            "  inflating: Breast Cancer Patients MRI's/Healthy/H_346.jpg  \n",
            "  inflating: Breast Cancer Patients MRI's/Healthy/H_347.jpg  \n",
            "  inflating: Breast Cancer Patients MRI's/Healthy/H_348.jpg  \n",
            "  inflating: Breast Cancer Patients MRI's/Healthy/H_349.jpg  \n",
            "  inflating: Breast Cancer Patients MRI's/Healthy/H_35.jpg  \n",
            "  inflating: Breast Cancer Patients MRI's/Healthy/H_350.jpg  \n",
            "  inflating: Breast Cancer Patients MRI's/Healthy/H_351.jpg  \n",
            "  inflating: Breast Cancer Patients MRI's/Healthy/H_352.jpg  \n",
            "  inflating: Breast Cancer Patients MRI's/Healthy/H_353.jpg  \n",
            "  inflating: Breast Cancer Patients MRI's/Healthy/H_354.jpg  \n",
            "  inflating: Breast Cancer Patients MRI's/Healthy/H_355.jpg  \n",
            "  inflating: Breast Cancer Patients MRI's/Healthy/H_356.jpg  \n",
            "  inflating: Breast Cancer Patients MRI's/Healthy/H_357.jpg  \n",
            "  inflating: Breast Cancer Patients MRI's/Healthy/H_358.jpg  \n",
            "  inflating: Breast Cancer Patients MRI's/Healthy/H_359.jpg  \n",
            "  inflating: Breast Cancer Patients MRI's/Healthy/H_36.jpg  \n",
            "  inflating: Breast Cancer Patients MRI's/Healthy/H_360.jpg  \n",
            "  inflating: Breast Cancer Patients MRI's/Healthy/H_361.jpg  \n",
            "  inflating: Breast Cancer Patients MRI's/Healthy/H_362.jpg  \n",
            "  inflating: Breast Cancer Patients MRI's/Healthy/H_363.jpg  \n",
            "  inflating: Breast Cancer Patients MRI's/Healthy/H_364.jpg  \n",
            "  inflating: Breast Cancer Patients MRI's/Healthy/H_365.jpg  \n",
            "  inflating: Breast Cancer Patients MRI's/Healthy/H_366.jpg  \n",
            "  inflating: Breast Cancer Patients MRI's/Healthy/H_367.jpg  \n",
            "  inflating: Breast Cancer Patients MRI's/Healthy/H_368.jpg  \n",
            "  inflating: Breast Cancer Patients MRI's/Healthy/H_369.jpg  \n",
            "  inflating: Breast Cancer Patients MRI's/Healthy/H_37.jpg  \n",
            "  inflating: Breast Cancer Patients MRI's/Healthy/H_370.jpg  \n",
            "  inflating: Breast Cancer Patients MRI's/Healthy/H_371.jpg  \n",
            "  inflating: Breast Cancer Patients MRI's/Healthy/H_372.jpg  \n",
            "  inflating: Breast Cancer Patients MRI's/Healthy/H_373.jpg  \n",
            "  inflating: Breast Cancer Patients MRI's/Healthy/H_374.jpg  \n",
            "  inflating: Breast Cancer Patients MRI's/Healthy/H_375.jpg  \n",
            "  inflating: Breast Cancer Patients MRI's/Healthy/H_376.jpg  \n",
            "  inflating: Breast Cancer Patients MRI's/Healthy/H_377.jpg  \n",
            "  inflating: Breast Cancer Patients MRI's/Healthy/H_378.jpg  \n",
            "  inflating: Breast Cancer Patients MRI's/Healthy/H_379.jpg  \n",
            "  inflating: Breast Cancer Patients MRI's/Healthy/H_38.jpg  \n",
            "  inflating: Breast Cancer Patients MRI's/Healthy/H_380.jpg  \n",
            "  inflating: Breast Cancer Patients MRI's/Healthy/H_381.jpg  \n",
            "  inflating: Breast Cancer Patients MRI's/Healthy/H_382.jpg  \n",
            "  inflating: Breast Cancer Patients MRI's/Healthy/H_383.jpg  \n",
            "  inflating: Breast Cancer Patients MRI's/Healthy/H_384.jpg  \n",
            "  inflating: Breast Cancer Patients MRI's/Healthy/H_385.jpg  \n",
            "  inflating: Breast Cancer Patients MRI's/Healthy/H_386.jpg  \n",
            "  inflating: Breast Cancer Patients MRI's/Healthy/H_387.jpg  \n",
            "  inflating: Breast Cancer Patients MRI's/Healthy/H_388.jpg  \n",
            "  inflating: Breast Cancer Patients MRI's/Healthy/H_389.jpg  \n",
            "  inflating: Breast Cancer Patients MRI's/Healthy/H_39.jpg  \n",
            "  inflating: Breast Cancer Patients MRI's/Healthy/H_390.jpg  \n",
            "  inflating: Breast Cancer Patients MRI's/Healthy/H_391.jpg  \n",
            "  inflating: Breast Cancer Patients MRI's/Healthy/H_392.jpg  \n",
            "  inflating: Breast Cancer Patients MRI's/Healthy/H_394.jpg  \n",
            "  inflating: Breast Cancer Patients MRI's/Healthy/H_395.jpg  \n",
            "  inflating: Breast Cancer Patients MRI's/Healthy/H_396.jpg  \n",
            "  inflating: Breast Cancer Patients MRI's/Healthy/H_397.jpg  \n",
            "  inflating: Breast Cancer Patients MRI's/Healthy/H_398.jpg  \n",
            "  inflating: Breast Cancer Patients MRI's/Healthy/H_399.jpg  \n",
            "  inflating: Breast Cancer Patients MRI's/Healthy/H_4.jpg  \n",
            "  inflating: Breast Cancer Patients MRI's/Healthy/H_400.jpg  \n",
            "  inflating: Breast Cancer Patients MRI's/Healthy/H_402.jpg  \n",
            "  inflating: Breast Cancer Patients MRI's/Healthy/H_403.jpg  \n",
            "  inflating: Breast Cancer Patients MRI's/Healthy/H_404.jpg  \n",
            "  inflating: Breast Cancer Patients MRI's/Healthy/H_405.jpg  \n",
            "  inflating: Breast Cancer Patients MRI's/Healthy/H_406.jpg  \n",
            "  inflating: Breast Cancer Patients MRI's/Healthy/H_407.jpg  \n",
            "  inflating: Breast Cancer Patients MRI's/Healthy/H_408.jpg  \n",
            "  inflating: Breast Cancer Patients MRI's/Healthy/H_409.jpg  \n",
            "  inflating: Breast Cancer Patients MRI's/Healthy/H_41.jpg  \n",
            "  inflating: Breast Cancer Patients MRI's/Healthy/H_410.jpg  \n",
            "  inflating: Breast Cancer Patients MRI's/Healthy/H_411.jpg  \n",
            "  inflating: Breast Cancer Patients MRI's/Healthy/H_412.jpg  \n",
            "  inflating: Breast Cancer Patients MRI's/Healthy/H_413.jpg  \n",
            "  inflating: Breast Cancer Patients MRI's/Healthy/H_414.jpg  \n",
            "  inflating: Breast Cancer Patients MRI's/Healthy/H_415.jpg  \n",
            "  inflating: Breast Cancer Patients MRI's/Healthy/H_416.jpg  \n",
            "  inflating: Breast Cancer Patients MRI's/Healthy/H_417.jpg  \n",
            "  inflating: Breast Cancer Patients MRI's/Healthy/H_418.jpg  \n",
            "  inflating: Breast Cancer Patients MRI's/Healthy/H_419.jpg  \n",
            "  inflating: Breast Cancer Patients MRI's/Healthy/H_42.jpg  \n",
            "  inflating: Breast Cancer Patients MRI's/Healthy/H_420.jpg  \n",
            "  inflating: Breast Cancer Patients MRI's/Healthy/H_421.jpg  \n",
            "  inflating: Breast Cancer Patients MRI's/Healthy/H_422.jpg  \n",
            "  inflating: Breast Cancer Patients MRI's/Healthy/H_424.jpg  \n",
            "  inflating: Breast Cancer Patients MRI's/Healthy/H_425.jpg  \n",
            "  inflating: Breast Cancer Patients MRI's/Healthy/H_426.jpg  \n",
            "  inflating: Breast Cancer Patients MRI's/Healthy/H_427.jpg  \n",
            "  inflating: Breast Cancer Patients MRI's/Healthy/H_428.jpg  \n",
            "  inflating: Breast Cancer Patients MRI's/Healthy/H_429.jpg  \n",
            "  inflating: Breast Cancer Patients MRI's/Healthy/H_43.jpg  \n",
            "  inflating: Breast Cancer Patients MRI's/Healthy/H_430.jpg  \n",
            "  inflating: Breast Cancer Patients MRI's/Healthy/H_431.jpg  \n",
            "  inflating: Breast Cancer Patients MRI's/Healthy/H_432.jpg  \n",
            "  inflating: Breast Cancer Patients MRI's/Healthy/H_433.jpg  \n",
            "  inflating: Breast Cancer Patients MRI's/Healthy/H_434.jpg  \n",
            "  inflating: Breast Cancer Patients MRI's/Healthy/H_435.jpg  \n",
            "  inflating: Breast Cancer Patients MRI's/Healthy/H_436.jpg  \n",
            "  inflating: Breast Cancer Patients MRI's/Healthy/H_437.jpg  \n",
            "  inflating: Breast Cancer Patients MRI's/Healthy/H_438.jpg  \n",
            "  inflating: Breast Cancer Patients MRI's/Healthy/H_439.jpg  \n",
            "  inflating: Breast Cancer Patients MRI's/Healthy/H_44.jpg  \n",
            "  inflating: Breast Cancer Patients MRI's/Healthy/H_440.jpg  \n",
            "  inflating: Breast Cancer Patients MRI's/Healthy/H_441.jpg  \n",
            "  inflating: Breast Cancer Patients MRI's/Healthy/H_442.jpg  \n",
            "  inflating: Breast Cancer Patients MRI's/Healthy/H_443.jpg  \n",
            "  inflating: Breast Cancer Patients MRI's/Healthy/H_444.jpg  \n",
            "  inflating: Breast Cancer Patients MRI's/Healthy/H_445.jpg  \n",
            "  inflating: Breast Cancer Patients MRI's/Healthy/H_446.jpg  \n",
            "  inflating: Breast Cancer Patients MRI's/Healthy/H_447.jpg  \n",
            "  inflating: Breast Cancer Patients MRI's/Healthy/H_448.jpg  \n",
            "  inflating: Breast Cancer Patients MRI's/Healthy/H_449.jpg  \n",
            "  inflating: Breast Cancer Patients MRI's/Healthy/H_45.jpg  \n",
            "  inflating: Breast Cancer Patients MRI's/Healthy/H_450.jpg  \n",
            "  inflating: Breast Cancer Patients MRI's/Healthy/H_451.jpg  \n",
            "  inflating: Breast Cancer Patients MRI's/Healthy/H_452.jpg  \n",
            "  inflating: Breast Cancer Patients MRI's/Healthy/H_453.jpg  \n",
            "  inflating: Breast Cancer Patients MRI's/Healthy/H_454.jpg  \n",
            "  inflating: Breast Cancer Patients MRI's/Healthy/H_455.jpg  \n",
            "  inflating: Breast Cancer Patients MRI's/Healthy/H_456.jpg  \n",
            "  inflating: Breast Cancer Patients MRI's/Healthy/H_457.jpg  \n",
            "  inflating: Breast Cancer Patients MRI's/Healthy/H_458.jpg  \n",
            "  inflating: Breast Cancer Patients MRI's/Healthy/H_459.jpg  \n",
            "  inflating: Breast Cancer Patients MRI's/Healthy/H_46.jpg  \n",
            "  inflating: Breast Cancer Patients MRI's/Healthy/H_460.jpg  \n",
            "  inflating: Breast Cancer Patients MRI's/Healthy/H_461.jpg  \n",
            "  inflating: Breast Cancer Patients MRI's/Healthy/H_462.jpg  \n",
            "  inflating: Breast Cancer Patients MRI's/Healthy/H_463.jpg  \n",
            "  inflating: Breast Cancer Patients MRI's/Healthy/H_464.jpg  \n",
            "  inflating: Breast Cancer Patients MRI's/Healthy/H_465.jpg  \n",
            "  inflating: Breast Cancer Patients MRI's/Healthy/H_466.jpg  \n",
            "  inflating: Breast Cancer Patients MRI's/Healthy/H_467.jpg  \n",
            "  inflating: Breast Cancer Patients MRI's/Healthy/H_468.jpg  \n",
            "  inflating: Breast Cancer Patients MRI's/Healthy/H_469.jpg  \n",
            "  inflating: Breast Cancer Patients MRI's/Healthy/H_47.jpg  \n",
            "  inflating: Breast Cancer Patients MRI's/Healthy/H_470.jpg  \n",
            "  inflating: Breast Cancer Patients MRI's/Healthy/H_471.jpg  \n",
            "  inflating: Breast Cancer Patients MRI's/Healthy/H_472.jpg  \n",
            "  inflating: Breast Cancer Patients MRI's/Healthy/H_473.jpg  \n",
            "  inflating: Breast Cancer Patients MRI's/Healthy/H_474.jpg  \n",
            "  inflating: Breast Cancer Patients MRI's/Healthy/H_475.jpg  \n",
            "  inflating: Breast Cancer Patients MRI's/Healthy/H_476.jpg  \n",
            "  inflating: Breast Cancer Patients MRI's/Healthy/H_477.jpg  \n",
            "  inflating: Breast Cancer Patients MRI's/Healthy/H_478.jpg  \n",
            "  inflating: Breast Cancer Patients MRI's/Healthy/H_479.jpg  \n",
            "  inflating: Breast Cancer Patients MRI's/Healthy/H_48.jpg  \n",
            "  inflating: Breast Cancer Patients MRI's/Healthy/H_480.jpg  \n",
            "  inflating: Breast Cancer Patients MRI's/Healthy/H_481.jpg  \n",
            "  inflating: Breast Cancer Patients MRI's/Healthy/H_482.jpg  \n",
            "  inflating: Breast Cancer Patients MRI's/Healthy/H_483.jpg  \n",
            "  inflating: Breast Cancer Patients MRI's/Healthy/H_484.jpg  \n",
            "  inflating: Breast Cancer Patients MRI's/Healthy/H_485.jpg  \n",
            "  inflating: Breast Cancer Patients MRI's/Healthy/H_49.jpg  \n",
            "  inflating: Breast Cancer Patients MRI's/Healthy/H_5.jpg  \n",
            "  inflating: Breast Cancer Patients MRI's/Healthy/H_50.jpg  \n",
            "  inflating: Breast Cancer Patients MRI's/Healthy/H_51.jpg  \n",
            "  inflating: Breast Cancer Patients MRI's/Healthy/H_52.jpg  \n",
            "  inflating: Breast Cancer Patients MRI's/Healthy/H_528.jpg  \n",
            "  inflating: Breast Cancer Patients MRI's/Healthy/H_529.jpg  \n",
            "  inflating: Breast Cancer Patients MRI's/Healthy/H_53.jpg  \n",
            "  inflating: Breast Cancer Patients MRI's/Healthy/H_530.jpg  \n",
            "  inflating: Breast Cancer Patients MRI's/Healthy/H_531.jpg  \n",
            "  inflating: Breast Cancer Patients MRI's/Healthy/H_532.jpg  \n",
            "  inflating: Breast Cancer Patients MRI's/Healthy/H_533.jpg  \n",
            "  inflating: Breast Cancer Patients MRI's/Healthy/H_534.jpg  \n",
            "  inflating: Breast Cancer Patients MRI's/Healthy/H_535.jpg  \n",
            "  inflating: Breast Cancer Patients MRI's/Healthy/H_536.jpg  \n",
            "  inflating: Breast Cancer Patients MRI's/Healthy/H_537.jpg  \n",
            "  inflating: Breast Cancer Patients MRI's/Healthy/H_538.jpg  \n",
            "  inflating: Breast Cancer Patients MRI's/Healthy/H_539.jpg  \n",
            "  inflating: Breast Cancer Patients MRI's/Healthy/H_54.jpg  \n",
            "  inflating: Breast Cancer Patients MRI's/Healthy/H_540.jpg  \n",
            "  inflating: Breast Cancer Patients MRI's/Healthy/H_541.jpg  \n",
            "  inflating: Breast Cancer Patients MRI's/Healthy/H_542.jpg  \n",
            "  inflating: Breast Cancer Patients MRI's/Healthy/H_543.jpg  \n",
            "  inflating: Breast Cancer Patients MRI's/Healthy/H_544.jpg  \n",
            "  inflating: Breast Cancer Patients MRI's/Healthy/H_545.jpg  \n",
            "  inflating: Breast Cancer Patients MRI's/Healthy/H_546.jpg  \n",
            "  inflating: Breast Cancer Patients MRI's/Healthy/H_547.jpg  \n",
            "  inflating: Breast Cancer Patients MRI's/Healthy/H_548.jpg  \n",
            "  inflating: Breast Cancer Patients MRI's/Healthy/H_549.jpg  \n",
            "  inflating: Breast Cancer Patients MRI's/Healthy/H_55.jpg  \n",
            "  inflating: Breast Cancer Patients MRI's/Healthy/H_550.jpg  \n",
            "  inflating: Breast Cancer Patients MRI's/Healthy/H_551.jpg  \n",
            "  inflating: Breast Cancer Patients MRI's/Healthy/H_552.jpg  \n",
            "  inflating: Breast Cancer Patients MRI's/Healthy/H_553.jpg  \n",
            "  inflating: Breast Cancer Patients MRI's/Healthy/H_554.jpg  \n",
            "  inflating: Breast Cancer Patients MRI's/Healthy/H_555.jpg  \n",
            "  inflating: Breast Cancer Patients MRI's/Healthy/H_556.jpg  \n",
            "  inflating: Breast Cancer Patients MRI's/Healthy/H_557.jpg  \n",
            "  inflating: Breast Cancer Patients MRI's/Healthy/H_558.jpg  \n",
            "  inflating: Breast Cancer Patients MRI's/Healthy/H_559.jpg  \n",
            "  inflating: Breast Cancer Patients MRI's/Healthy/H_56.jpg  \n",
            "  inflating: Breast Cancer Patients MRI's/Healthy/H_560.jpg  \n",
            "  inflating: Breast Cancer Patients MRI's/Healthy/H_561.jpg  \n",
            "  inflating: Breast Cancer Patients MRI's/Healthy/H_562.jpg  \n",
            "  inflating: Breast Cancer Patients MRI's/Healthy/H_563.jpg  \n",
            "  inflating: Breast Cancer Patients MRI's/Healthy/H_564.jpg  \n",
            "  inflating: Breast Cancer Patients MRI's/Healthy/H_565.jpg  \n",
            "  inflating: Breast Cancer Patients MRI's/Healthy/H_566.jpg  \n",
            "  inflating: Breast Cancer Patients MRI's/Healthy/H_567.jpg  \n",
            "  inflating: Breast Cancer Patients MRI's/Healthy/H_568.jpg  \n",
            "  inflating: Breast Cancer Patients MRI's/Healthy/H_569.jpg  \n",
            "  inflating: Breast Cancer Patients MRI's/Healthy/H_57.jpg  \n",
            "  inflating: Breast Cancer Patients MRI's/Healthy/H_570.jpg  \n",
            "  inflating: Breast Cancer Patients MRI's/Healthy/H_571.jpg  \n",
            "  inflating: Breast Cancer Patients MRI's/Healthy/H_572.jpg  \n",
            "  inflating: Breast Cancer Patients MRI's/Healthy/H_573.jpg  \n",
            "  inflating: Breast Cancer Patients MRI's/Healthy/H_574.jpg  \n",
            "  inflating: Breast Cancer Patients MRI's/Healthy/H_575.jpg  \n",
            "  inflating: Breast Cancer Patients MRI's/Healthy/H_576.jpg  \n",
            "  inflating: Breast Cancer Patients MRI's/Healthy/H_577.jpg  \n",
            "  inflating: Breast Cancer Patients MRI's/Healthy/H_578.jpg  \n",
            "  inflating: Breast Cancer Patients MRI's/Healthy/H_579.jpg  \n",
            "  inflating: Breast Cancer Patients MRI's/Healthy/H_58.jpg  \n",
            "  inflating: Breast Cancer Patients MRI's/Healthy/H_580.jpg  \n",
            "  inflating: Breast Cancer Patients MRI's/Healthy/H_581.jpg  \n",
            "  inflating: Breast Cancer Patients MRI's/Healthy/H_582.jpg  \n",
            "  inflating: Breast Cancer Patients MRI's/Healthy/H_583.jpg  \n",
            "  inflating: Breast Cancer Patients MRI's/Healthy/H_584.jpg  \n",
            "  inflating: Breast Cancer Patients MRI's/Healthy/H_585.jpg  \n",
            "  inflating: Breast Cancer Patients MRI's/Healthy/H_586.jpg  \n",
            "  inflating: Breast Cancer Patients MRI's/Healthy/H_587.jpg  \n",
            "  inflating: Breast Cancer Patients MRI's/Healthy/H_588.jpg  \n",
            "  inflating: Breast Cancer Patients MRI's/Healthy/H_589.jpg  \n",
            "  inflating: Breast Cancer Patients MRI's/Healthy/H_59.jpg  \n",
            "  inflating: Breast Cancer Patients MRI's/Healthy/H_590.jpg  \n",
            "  inflating: Breast Cancer Patients MRI's/Healthy/H_591.jpg  \n",
            "  inflating: Breast Cancer Patients MRI's/Healthy/H_592.jpg  \n",
            "  inflating: Breast Cancer Patients MRI's/Healthy/H_593.jpg  \n",
            "  inflating: Breast Cancer Patients MRI's/Healthy/H_594.jpg  \n",
            "  inflating: Breast Cancer Patients MRI's/Healthy/H_595.jpg  \n",
            "  inflating: Breast Cancer Patients MRI's/Healthy/H_596.jpg  \n",
            "  inflating: Breast Cancer Patients MRI's/Healthy/H_597.jpg  \n",
            "  inflating: Breast Cancer Patients MRI's/Healthy/H_598.jpg  \n",
            "  inflating: Breast Cancer Patients MRI's/Healthy/H_599.jpg  \n",
            "  inflating: Breast Cancer Patients MRI's/Healthy/H_6.jpg  \n",
            "  inflating: Breast Cancer Patients MRI's/Healthy/H_60.jpg  \n",
            "  inflating: Breast Cancer Patients MRI's/Healthy/H_600.jpg  \n",
            "  inflating: Breast Cancer Patients MRI's/Healthy/H_601.jpg  \n",
            "  inflating: Breast Cancer Patients MRI's/Healthy/H_602.jpg  \n",
            "  inflating: Breast Cancer Patients MRI's/Healthy/H_603.jpg  \n",
            "  inflating: Breast Cancer Patients MRI's/Healthy/H_604.jpg  \n",
            "  inflating: Breast Cancer Patients MRI's/Healthy/H_605.jpg  \n",
            "  inflating: Breast Cancer Patients MRI's/Healthy/H_606.jpg  \n",
            "  inflating: Breast Cancer Patients MRI's/Healthy/H_607.jpg  \n",
            "  inflating: Breast Cancer Patients MRI's/Healthy/H_608.jpg  \n",
            "  inflating: Breast Cancer Patients MRI's/Healthy/H_609.jpg  \n",
            "  inflating: Breast Cancer Patients MRI's/Healthy/H_61.jpg  \n",
            "  inflating: Breast Cancer Patients MRI's/Healthy/H_610.jpg  \n",
            "  inflating: Breast Cancer Patients MRI's/Healthy/H_611.jpg  \n",
            "  inflating: Breast Cancer Patients MRI's/Healthy/H_612.jpg  \n",
            "  inflating: Breast Cancer Patients MRI's/Healthy/H_613.jpg  \n",
            "  inflating: Breast Cancer Patients MRI's/Healthy/H_614.jpg  \n",
            "  inflating: Breast Cancer Patients MRI's/Healthy/H_615.jpg  \n",
            "  inflating: Breast Cancer Patients MRI's/Healthy/H_616.jpg  \n",
            "  inflating: Breast Cancer Patients MRI's/Healthy/H_617.jpg  \n",
            "  inflating: Breast Cancer Patients MRI's/Healthy/H_618.jpg  \n",
            "  inflating: Breast Cancer Patients MRI's/Healthy/H_619.jpg  \n",
            "  inflating: Breast Cancer Patients MRI's/Healthy/H_62.jpg  \n",
            "  inflating: Breast Cancer Patients MRI's/Healthy/H_620.jpg  \n",
            "  inflating: Breast Cancer Patients MRI's/Healthy/H_621.jpg  \n",
            "  inflating: Breast Cancer Patients MRI's/Healthy/H_622.jpg  \n",
            "  inflating: Breast Cancer Patients MRI's/Healthy/H_623.jpg  \n",
            "  inflating: Breast Cancer Patients MRI's/Healthy/H_624.jpg  \n",
            "  inflating: Breast Cancer Patients MRI's/Healthy/H_625.jpg  \n",
            "  inflating: Breast Cancer Patients MRI's/Healthy/H_626.jpg  \n",
            "  inflating: Breast Cancer Patients MRI's/Healthy/H_627.jpg  \n",
            "  inflating: Breast Cancer Patients MRI's/Healthy/H_628.jpg  \n",
            "  inflating: Breast Cancer Patients MRI's/Healthy/H_629.jpg  \n",
            "  inflating: Breast Cancer Patients MRI's/Healthy/H_63.jpg  \n",
            "  inflating: Breast Cancer Patients MRI's/Healthy/H_630.jpg  \n",
            "  inflating: Breast Cancer Patients MRI's/Healthy/H_631.jpg  \n",
            "  inflating: Breast Cancer Patients MRI's/Healthy/H_632.jpg  \n",
            "  inflating: Breast Cancer Patients MRI's/Healthy/H_633.jpg  \n",
            "  inflating: Breast Cancer Patients MRI's/Healthy/H_634.jpg  \n",
            "  inflating: Breast Cancer Patients MRI's/Healthy/H_635.jpg  \n",
            "  inflating: Breast Cancer Patients MRI's/Healthy/H_636.jpg  \n",
            "  inflating: Breast Cancer Patients MRI's/Healthy/H_637.jpg  \n",
            "  inflating: Breast Cancer Patients MRI's/Healthy/H_638.jpg  \n",
            "  inflating: Breast Cancer Patients MRI's/Healthy/H_639.jpg  \n",
            "  inflating: Breast Cancer Patients MRI's/Healthy/H_640.jpg  \n",
            "  inflating: Breast Cancer Patients MRI's/Healthy/H_641.jpg  \n",
            "  inflating: Breast Cancer Patients MRI's/Healthy/H_642.jpg  \n",
            "  inflating: Breast Cancer Patients MRI's/Healthy/H_643.jpg  \n",
            "  inflating: Breast Cancer Patients MRI's/Healthy/H_644.jpg  \n",
            "  inflating: Breast Cancer Patients MRI's/Healthy/H_645.jpg  \n",
            "  inflating: Breast Cancer Patients MRI's/Healthy/H_646.jpg  \n",
            "  inflating: Breast Cancer Patients MRI's/Healthy/H_647.jpg  \n",
            "  inflating: Breast Cancer Patients MRI's/Healthy/H_648.jpg  \n",
            "  inflating: Breast Cancer Patients MRI's/Healthy/H_649.jpg  \n",
            "  inflating: Breast Cancer Patients MRI's/Healthy/H_65.jpg  \n",
            "  inflating: Breast Cancer Patients MRI's/Healthy/H_650.jpg  \n",
            "  inflating: Breast Cancer Patients MRI's/Healthy/H_651.jpg  \n",
            "  inflating: Breast Cancer Patients MRI's/Healthy/H_652.jpg  \n",
            "  inflating: Breast Cancer Patients MRI's/Healthy/H_653.jpg  \n",
            "  inflating: Breast Cancer Patients MRI's/Healthy/H_654.jpg  \n",
            "  inflating: Breast Cancer Patients MRI's/Healthy/H_655.jpg  \n",
            "  inflating: Breast Cancer Patients MRI's/Healthy/H_656.jpg  \n",
            "  inflating: Breast Cancer Patients MRI's/Healthy/H_657.jpg  \n",
            "  inflating: Breast Cancer Patients MRI's/Healthy/H_658.jpg  \n",
            "  inflating: Breast Cancer Patients MRI's/Healthy/H_659.jpg  \n",
            "  inflating: Breast Cancer Patients MRI's/Healthy/H_66.jpg  \n",
            "  inflating: Breast Cancer Patients MRI's/Healthy/H_660.jpg  \n",
            "  inflating: Breast Cancer Patients MRI's/Healthy/H_661.jpg  \n",
            "  inflating: Breast Cancer Patients MRI's/Healthy/H_662.jpg  \n",
            "  inflating: Breast Cancer Patients MRI's/Healthy/H_663.jpg  \n",
            "  inflating: Breast Cancer Patients MRI's/Healthy/H_664.jpg  \n",
            "  inflating: Breast Cancer Patients MRI's/Healthy/H_665.jpg  \n",
            "  inflating: Breast Cancer Patients MRI's/Healthy/H_666.jpg  \n",
            "  inflating: Breast Cancer Patients MRI's/Healthy/H_667.jpg  \n",
            "  inflating: Breast Cancer Patients MRI's/Healthy/H_668.jpg  \n",
            "  inflating: Breast Cancer Patients MRI's/Healthy/H_669.jpg  \n",
            "  inflating: Breast Cancer Patients MRI's/Healthy/H_67.jpg  \n",
            "  inflating: Breast Cancer Patients MRI's/Healthy/H_670.jpg  \n",
            "  inflating: Breast Cancer Patients MRI's/Healthy/H_671.jpg  \n",
            "  inflating: Breast Cancer Patients MRI's/Healthy/H_672.jpg  \n",
            "  inflating: Breast Cancer Patients MRI's/Healthy/H_673.jpg  \n",
            "  inflating: Breast Cancer Patients MRI's/Healthy/H_674.jpg  \n",
            "  inflating: Breast Cancer Patients MRI's/Healthy/H_675.jpg  \n",
            "  inflating: Breast Cancer Patients MRI's/Healthy/H_676.jpg  \n",
            "  inflating: Breast Cancer Patients MRI's/Healthy/H_677.jpg  \n",
            "  inflating: Breast Cancer Patients MRI's/Healthy/H_678.jpg  \n",
            "  inflating: Breast Cancer Patients MRI's/Healthy/H_679.jpg  \n",
            "  inflating: Breast Cancer Patients MRI's/Healthy/H_68.jpg  \n",
            "  inflating: Breast Cancer Patients MRI's/Healthy/H_680.jpg  \n",
            "  inflating: Breast Cancer Patients MRI's/Healthy/H_681.jpg  \n",
            "  inflating: Breast Cancer Patients MRI's/Healthy/H_682.jpg  \n",
            "  inflating: Breast Cancer Patients MRI's/Healthy/H_683.jpg  \n",
            "  inflating: Breast Cancer Patients MRI's/Healthy/H_684.jpg  \n",
            "  inflating: Breast Cancer Patients MRI's/Healthy/H_685.jpg  \n",
            "  inflating: Breast Cancer Patients MRI's/Healthy/H_686.jpg  \n",
            "  inflating: Breast Cancer Patients MRI's/Healthy/H_687.jpg  \n",
            "  inflating: Breast Cancer Patients MRI's/Healthy/H_688.jpg  \n",
            "  inflating: Breast Cancer Patients MRI's/Healthy/H_689.jpg  \n",
            "  inflating: Breast Cancer Patients MRI's/Healthy/H_690.jpg  \n",
            "  inflating: Breast Cancer Patients MRI's/Healthy/H_691.jpg  \n",
            "  inflating: Breast Cancer Patients MRI's/Healthy/H_692.jpg  \n",
            "  inflating: Breast Cancer Patients MRI's/Healthy/H_693.jpg  \n",
            "  inflating: Breast Cancer Patients MRI's/Healthy/H_694.jpg  \n",
            "  inflating: Breast Cancer Patients MRI's/Healthy/H_695.jpg  \n",
            "  inflating: Breast Cancer Patients MRI's/Healthy/H_696.jpg  \n",
            "  inflating: Breast Cancer Patients MRI's/Healthy/H_697.jpg  \n",
            "  inflating: Breast Cancer Patients MRI's/Healthy/H_698.jpg  \n",
            "  inflating: Breast Cancer Patients MRI's/Healthy/H_699.jpg  \n",
            "  inflating: Breast Cancer Patients MRI's/Healthy/H_7.jpg  \n",
            "  inflating: Breast Cancer Patients MRI's/Healthy/H_70.jpg  \n",
            "  inflating: Breast Cancer Patients MRI's/Healthy/H_700.jpg  \n",
            "  inflating: Breast Cancer Patients MRI's/Healthy/H_701.jpg  \n",
            "  inflating: Breast Cancer Patients MRI's/Healthy/H_702.jpg  \n",
            "  inflating: Breast Cancer Patients MRI's/Healthy/H_703.jpg  \n",
            "  inflating: Breast Cancer Patients MRI's/Healthy/H_704.jpg  \n",
            "  inflating: Breast Cancer Patients MRI's/Healthy/H_705.jpg  \n",
            "  inflating: Breast Cancer Patients MRI's/Healthy/H_706.jpg  \n",
            "  inflating: Breast Cancer Patients MRI's/Healthy/H_707.jpg  \n",
            "  inflating: Breast Cancer Patients MRI's/Healthy/H_708.jpg  \n",
            "  inflating: Breast Cancer Patients MRI's/Healthy/H_709.jpg  \n",
            "  inflating: Breast Cancer Patients MRI's/Healthy/H_71.jpg  \n",
            "  inflating: Breast Cancer Patients MRI's/Healthy/H_710.jpg  \n",
            "  inflating: Breast Cancer Patients MRI's/Healthy/H_711.jpg  \n",
            "  inflating: Breast Cancer Patients MRI's/Healthy/H_712.jpg  \n",
            "  inflating: Breast Cancer Patients MRI's/Healthy/H_713.jpg  \n",
            "  inflating: Breast Cancer Patients MRI's/Healthy/H_714.jpg  \n",
            "  inflating: Breast Cancer Patients MRI's/Healthy/H_715.jpg  \n",
            "  inflating: Breast Cancer Patients MRI's/Healthy/H_716.jpg  \n",
            "  inflating: Breast Cancer Patients MRI's/Healthy/H_72.jpg  \n",
            "  inflating: Breast Cancer Patients MRI's/Healthy/H_73.jpg  \n",
            "  inflating: Breast Cancer Patients MRI's/Healthy/H_739.jpg  \n",
            "  inflating: Breast Cancer Patients MRI's/Healthy/H_74.jpg  \n",
            "  inflating: Breast Cancer Patients MRI's/Healthy/H_740.jpg  \n",
            "  inflating: Breast Cancer Patients MRI's/Healthy/H_741.jpg  \n",
            "  inflating: Breast Cancer Patients MRI's/Healthy/H_742.jpg  \n",
            "  inflating: Breast Cancer Patients MRI's/Healthy/H_743.jpg  \n",
            "  inflating: Breast Cancer Patients MRI's/Healthy/H_744.jpg  \n",
            "  inflating: Breast Cancer Patients MRI's/Healthy/H_745.jpg  \n",
            "  inflating: Breast Cancer Patients MRI's/Healthy/H_746.jpg  \n",
            "  inflating: Breast Cancer Patients MRI's/Healthy/H_747.jpg  \n",
            "  inflating: Breast Cancer Patients MRI's/Healthy/H_748.jpg  \n",
            "  inflating: Breast Cancer Patients MRI's/Healthy/H_749.jpg  \n",
            "  inflating: Breast Cancer Patients MRI's/Healthy/H_75.jpg  \n",
            "  inflating: Breast Cancer Patients MRI's/Healthy/H_750.jpg  \n",
            "  inflating: Breast Cancer Patients MRI's/Healthy/H_751.jpg  \n",
            "  inflating: Breast Cancer Patients MRI's/Healthy/H_752.jpg  \n",
            "  inflating: Breast Cancer Patients MRI's/Healthy/H_753.jpg  \n",
            "  inflating: Breast Cancer Patients MRI's/Healthy/H_754.jpg  \n",
            "  inflating: Breast Cancer Patients MRI's/Healthy/H_755.jpg  \n",
            "  inflating: Breast Cancer Patients MRI's/Healthy/H_756.jpg  \n",
            "  inflating: Breast Cancer Patients MRI's/Healthy/H_757.jpg  \n",
            "  inflating: Breast Cancer Patients MRI's/Healthy/H_758.jpg  \n",
            "  inflating: Breast Cancer Patients MRI's/Healthy/H_759.jpg  \n",
            "  inflating: Breast Cancer Patients MRI's/Healthy/H_76.jpg  \n",
            "  inflating: Breast Cancer Patients MRI's/Healthy/H_760.jpg  \n",
            "  inflating: Breast Cancer Patients MRI's/Healthy/H_761.jpg  \n",
            "  inflating: Breast Cancer Patients MRI's/Healthy/H_762.jpg  \n",
            "  inflating: Breast Cancer Patients MRI's/Healthy/H_763.jpg  \n",
            "  inflating: Breast Cancer Patients MRI's/Healthy/H_764.jpg  \n",
            "  inflating: Breast Cancer Patients MRI's/Healthy/H_765.jpg  \n",
            "  inflating: Breast Cancer Patients MRI's/Healthy/H_766.jpg  \n",
            "  inflating: Breast Cancer Patients MRI's/Healthy/H_767.jpg  \n",
            "  inflating: Breast Cancer Patients MRI's/Healthy/H_768.jpg  \n",
            "  inflating: Breast Cancer Patients MRI's/Healthy/H_769.jpg  \n",
            "  inflating: Breast Cancer Patients MRI's/Healthy/H_770.jpg  \n",
            "  inflating: Breast Cancer Patients MRI's/Healthy/H_771.jpg  \n",
            "  inflating: Breast Cancer Patients MRI's/Healthy/H_772.jpg  \n",
            "  inflating: Breast Cancer Patients MRI's/Healthy/H_773.jpg  \n",
            "  inflating: Breast Cancer Patients MRI's/Healthy/H_774.jpg  \n",
            "  inflating: Breast Cancer Patients MRI's/Healthy/H_775.jpg  \n",
            "  inflating: Breast Cancer Patients MRI's/Healthy/H_776.jpg  \n",
            "  inflating: Breast Cancer Patients MRI's/Healthy/H_777.jpg  \n",
            "  inflating: Breast Cancer Patients MRI's/Healthy/H_778.jpg  \n",
            "  inflating: Breast Cancer Patients MRI's/Healthy/H_779.jpg  \n",
            "  inflating: Breast Cancer Patients MRI's/Healthy/H_78.jpg  \n",
            "  inflating: Breast Cancer Patients MRI's/Healthy/H_780.jpg  \n",
            "  inflating: Breast Cancer Patients MRI's/Healthy/H_781.jpg  \n",
            "  inflating: Breast Cancer Patients MRI's/Healthy/H_782.jpg  \n",
            "  inflating: Breast Cancer Patients MRI's/Healthy/H_783.jpg  \n",
            "  inflating: Breast Cancer Patients MRI's/Healthy/H_784.jpg  \n",
            "  inflating: Breast Cancer Patients MRI's/Healthy/H_785.jpg  \n",
            "  inflating: Breast Cancer Patients MRI's/Healthy/H_786.jpg  \n",
            "  inflating: Breast Cancer Patients MRI's/Healthy/H_787.jpg  \n",
            "  inflating: Breast Cancer Patients MRI's/Healthy/H_788.jpg  \n",
            "  inflating: Breast Cancer Patients MRI's/Healthy/H_789.jpg  \n",
            "  inflating: Breast Cancer Patients MRI's/Healthy/H_79.jpg  \n",
            "  inflating: Breast Cancer Patients MRI's/Healthy/H_790.jpg  \n",
            "  inflating: Breast Cancer Patients MRI's/Healthy/H_791.jpg  \n",
            "  inflating: Breast Cancer Patients MRI's/Healthy/H_792.jpg  \n",
            "  inflating: Breast Cancer Patients MRI's/Healthy/H_793.jpg  \n",
            "  inflating: Breast Cancer Patients MRI's/Healthy/H_794.jpg  \n",
            "  inflating: Breast Cancer Patients MRI's/Healthy/H_795.jpg  \n",
            "  inflating: Breast Cancer Patients MRI's/Healthy/H_796.jpg  \n",
            "  inflating: Breast Cancer Patients MRI's/Healthy/H_797.jpg  \n",
            "  inflating: Breast Cancer Patients MRI's/Healthy/H_798.jpg  \n",
            "  inflating: Breast Cancer Patients MRI's/Healthy/H_799.jpg  \n",
            "  inflating: Breast Cancer Patients MRI's/Healthy/H_8.jpg  \n",
            "  inflating: Breast Cancer Patients MRI's/Healthy/H_800.jpg  \n",
            "  inflating: Breast Cancer Patients MRI's/Healthy/H_83.jpg  \n",
            "  inflating: Breast Cancer Patients MRI's/Healthy/H_85.jpg  \n",
            "  inflating: Breast Cancer Patients MRI's/Healthy/H_86.jpg  \n",
            "  inflating: Breast Cancer Patients MRI's/Healthy/H_87.jpg  \n",
            "  inflating: Breast Cancer Patients MRI's/Healthy/H_88.jpg  \n",
            "  inflating: Breast Cancer Patients MRI's/Healthy/H_89.jpg  \n",
            "  inflating: Breast Cancer Patients MRI's/Healthy/H_9.jpg  \n",
            "  inflating: Breast Cancer Patients MRI's/Healthy/H_90.jpg  \n",
            "  inflating: Breast Cancer Patients MRI's/Healthy/H_91.jpg  \n",
            "  inflating: Breast Cancer Patients MRI's/Healthy/H_92.jpg  \n",
            "  inflating: Breast Cancer Patients MRI's/Healthy/H_93.jpg  \n",
            "  inflating: Breast Cancer Patients MRI's/Healthy/H_94.jpg  \n",
            "  inflating: Breast Cancer Patients MRI's/Healthy/H_95.jpg  \n",
            "  inflating: Breast Cancer Patients MRI's/Healthy/H_96.jpg  \n",
            "  inflating: Breast Cancer Patients MRI's/Healthy/H_97.jpg  \n",
            "  inflating: Breast Cancer Patients MRI's/Healthy/H_98.jpg  \n",
            "  inflating: Breast Cancer Patients MRI's/Healthy/H_99.jpg  \n",
            "   creating: Breast Cancer Patients MRI's/Sick/\n",
            "  inflating: Breast Cancer Patients MRI's/Sick/S_1.jpg  \n",
            "  inflating: Breast Cancer Patients MRI's/Sick/S_102.jpg  \n",
            "  inflating: Breast Cancer Patients MRI's/Sick/S_103.jpg  \n",
            "  inflating: Breast Cancer Patients MRI's/Sick/S_104.jpg  \n",
            "  inflating: Breast Cancer Patients MRI's/Sick/S_105.jpg  \n",
            "  inflating: Breast Cancer Patients MRI's/Sick/S_106.jpg  \n",
            "  inflating: Breast Cancer Patients MRI's/Sick/S_107.jpg  \n",
            "  inflating: Breast Cancer Patients MRI's/Sick/S_108.jpg  \n",
            "  inflating: Breast Cancer Patients MRI's/Sick/S_109.jpg  \n",
            "  inflating: Breast Cancer Patients MRI's/Sick/S_110.jpg  \n",
            "  inflating: Breast Cancer Patients MRI's/Sick/S_111.jpg  \n",
            "  inflating: Breast Cancer Patients MRI's/Sick/S_112.jpg  \n",
            "  inflating: Breast Cancer Patients MRI's/Sick/S_113.jpg  \n",
            "  inflating: Breast Cancer Patients MRI's/Sick/S_114.jpg  \n",
            "  inflating: Breast Cancer Patients MRI's/Sick/S_115.jpg  \n",
            "  inflating: Breast Cancer Patients MRI's/Sick/S_116.jpg  \n",
            "  inflating: Breast Cancer Patients MRI's/Sick/S_117.jpg  \n",
            "  inflating: Breast Cancer Patients MRI's/Sick/S_118.jpg  \n",
            "  inflating: Breast Cancer Patients MRI's/Sick/S_119.jpg  \n",
            "  inflating: Breast Cancer Patients MRI's/Sick/S_12.jpg  \n",
            "  inflating: Breast Cancer Patients MRI's/Sick/S_120.jpg  \n",
            "  inflating: Breast Cancer Patients MRI's/Sick/S_121.jpg  \n",
            "  inflating: Breast Cancer Patients MRI's/Sick/S_122.jpg  \n",
            "  inflating: Breast Cancer Patients MRI's/Sick/S_123.jpg  \n",
            "  inflating: Breast Cancer Patients MRI's/Sick/S_124.jpg  \n",
            "  inflating: Breast Cancer Patients MRI's/Sick/S_125.jpg  \n",
            "  inflating: Breast Cancer Patients MRI's/Sick/S_126.jpg  \n",
            "  inflating: Breast Cancer Patients MRI's/Sick/S_127.jpg  \n",
            "  inflating: Breast Cancer Patients MRI's/Sick/S_128.jpg  \n",
            "  inflating: Breast Cancer Patients MRI's/Sick/S_129.jpg  \n",
            "  inflating: Breast Cancer Patients MRI's/Sick/S_13.jpg  \n",
            "  inflating: Breast Cancer Patients MRI's/Sick/S_131.jpg  \n",
            "  inflating: Breast Cancer Patients MRI's/Sick/S_132.jpg  \n",
            "  inflating: Breast Cancer Patients MRI's/Sick/S_133.jpg  \n",
            "  inflating: Breast Cancer Patients MRI's/Sick/S_134.jpg  \n",
            "  inflating: Breast Cancer Patients MRI's/Sick/S_135.jpg  \n",
            "  inflating: Breast Cancer Patients MRI's/Sick/S_139.jpg  \n",
            "  inflating: Breast Cancer Patients MRI's/Sick/S_14.jpg  \n",
            "  inflating: Breast Cancer Patients MRI's/Sick/S_141.jpg  \n",
            "  inflating: Breast Cancer Patients MRI's/Sick/S_142.jpg  \n",
            "  inflating: Breast Cancer Patients MRI's/Sick/S_144.jpg  \n",
            "  inflating: Breast Cancer Patients MRI's/Sick/S_145.jpg  \n",
            "  inflating: Breast Cancer Patients MRI's/Sick/S_146.jpg  \n",
            "  inflating: Breast Cancer Patients MRI's/Sick/S_147.jpg  \n",
            "  inflating: Breast Cancer Patients MRI's/Sick/S_148.jpg  \n",
            "  inflating: Breast Cancer Patients MRI's/Sick/S_149.jpg  \n",
            "  inflating: Breast Cancer Patients MRI's/Sick/S_15.jpg  \n",
            "  inflating: Breast Cancer Patients MRI's/Sick/S_150.jpg  \n",
            "  inflating: Breast Cancer Patients MRI's/Sick/S_151.jpg  \n",
            "  inflating: Breast Cancer Patients MRI's/Sick/S_152.jpg  \n",
            "  inflating: Breast Cancer Patients MRI's/Sick/S_153.jpg  \n",
            "  inflating: Breast Cancer Patients MRI's/Sick/S_155.jpg  \n",
            "  inflating: Breast Cancer Patients MRI's/Sick/S_156.jpg  \n",
            "  inflating: Breast Cancer Patients MRI's/Sick/S_157.jpg  \n",
            "  inflating: Breast Cancer Patients MRI's/Sick/S_158.jpg  \n",
            "  inflating: Breast Cancer Patients MRI's/Sick/S_159.jpg  \n",
            "  inflating: Breast Cancer Patients MRI's/Sick/S_16.jpg  \n",
            "  inflating: Breast Cancer Patients MRI's/Sick/S_160.jpg  \n",
            "  inflating: Breast Cancer Patients MRI's/Sick/S_161.jpg  \n",
            "  inflating: Breast Cancer Patients MRI's/Sick/S_162.jpg  \n",
            "  inflating: Breast Cancer Patients MRI's/Sick/S_163.jpg  \n",
            "  inflating: Breast Cancer Patients MRI's/Sick/S_164.jpg  \n",
            "  inflating: Breast Cancer Patients MRI's/Sick/S_165.jpg  \n",
            "  inflating: Breast Cancer Patients MRI's/Sick/S_166.jpg  \n",
            "  inflating: Breast Cancer Patients MRI's/Sick/S_167.jpg  \n",
            "  inflating: Breast Cancer Patients MRI's/Sick/S_168.jpg  \n",
            "  inflating: Breast Cancer Patients MRI's/Sick/S_169.jpg  \n",
            "  inflating: Breast Cancer Patients MRI's/Sick/S_17.jpg  \n",
            "  inflating: Breast Cancer Patients MRI's/Sick/S_170.jpg  \n",
            "  inflating: Breast Cancer Patients MRI's/Sick/S_171.jpg  \n",
            "  inflating: Breast Cancer Patients MRI's/Sick/S_172.jpg  \n",
            "  inflating: Breast Cancer Patients MRI's/Sick/S_173.jpg  \n",
            "  inflating: Breast Cancer Patients MRI's/Sick/S_174.jpg  \n",
            "  inflating: Breast Cancer Patients MRI's/Sick/S_175.jpg  \n",
            "  inflating: Breast Cancer Patients MRI's/Sick/S_176.jpg  \n",
            "  inflating: Breast Cancer Patients MRI's/Sick/S_177.jpg  \n",
            "  inflating: Breast Cancer Patients MRI's/Sick/S_178.jpg  \n",
            "  inflating: Breast Cancer Patients MRI's/Sick/S_179.jpg  \n",
            "  inflating: Breast Cancer Patients MRI's/Sick/S_18.jpg  \n",
            "  inflating: Breast Cancer Patients MRI's/Sick/S_180.jpg  \n",
            "  inflating: Breast Cancer Patients MRI's/Sick/S_181.jpg  \n",
            "  inflating: Breast Cancer Patients MRI's/Sick/S_182.jpg  \n",
            "  inflating: Breast Cancer Patients MRI's/Sick/S_183.jpg  \n",
            "  inflating: Breast Cancer Patients MRI's/Sick/S_184.jpg  \n",
            "  inflating: Breast Cancer Patients MRI's/Sick/S_185.jpg  \n",
            "  inflating: Breast Cancer Patients MRI's/Sick/S_186.jpg  \n",
            "  inflating: Breast Cancer Patients MRI's/Sick/S_187.jpg  \n",
            "  inflating: Breast Cancer Patients MRI's/Sick/S_188.jpg  \n",
            "  inflating: Breast Cancer Patients MRI's/Sick/S_189.jpg  \n",
            "  inflating: Breast Cancer Patients MRI's/Sick/S_19.jpg  \n",
            "  inflating: Breast Cancer Patients MRI's/Sick/S_190.jpg  \n",
            "  inflating: Breast Cancer Patients MRI's/Sick/S_191.jpg  \n",
            "  inflating: Breast Cancer Patients MRI's/Sick/S_192.jpg  \n",
            "  inflating: Breast Cancer Patients MRI's/Sick/S_193.jpg  \n",
            "  inflating: Breast Cancer Patients MRI's/Sick/S_194.jpg  \n",
            "  inflating: Breast Cancer Patients MRI's/Sick/S_195.jpg  \n",
            "  inflating: Breast Cancer Patients MRI's/Sick/S_196.jpg  \n",
            "  inflating: Breast Cancer Patients MRI's/Sick/S_197.jpg  \n",
            "  inflating: Breast Cancer Patients MRI's/Sick/S_198.jpg  \n",
            "  inflating: Breast Cancer Patients MRI's/Sick/S_199.jpg  \n",
            "  inflating: Breast Cancer Patients MRI's/Sick/S_2.jpg  \n",
            "  inflating: Breast Cancer Patients MRI's/Sick/S_20.jpg  \n",
            "  inflating: Breast Cancer Patients MRI's/Sick/S_200.jpg  \n",
            "  inflating: Breast Cancer Patients MRI's/Sick/S_201.jpg  \n",
            "  inflating: Breast Cancer Patients MRI's/Sick/S_202.jpg  \n",
            "  inflating: Breast Cancer Patients MRI's/Sick/S_203.jpg  \n",
            "  inflating: Breast Cancer Patients MRI's/Sick/S_204.jpg  \n",
            "  inflating: Breast Cancer Patients MRI's/Sick/S_205.jpg  \n",
            "  inflating: Breast Cancer Patients MRI's/Sick/S_206.jpg  \n",
            "  inflating: Breast Cancer Patients MRI's/Sick/S_207.jpg  \n",
            "  inflating: Breast Cancer Patients MRI's/Sick/S_208.jpg  \n",
            "  inflating: Breast Cancer Patients MRI's/Sick/S_209.jpg  \n",
            "  inflating: Breast Cancer Patients MRI's/Sick/S_21.jpg  \n",
            "  inflating: Breast Cancer Patients MRI's/Sick/S_210.jpg  \n",
            "  inflating: Breast Cancer Patients MRI's/Sick/S_211.jpg  \n",
            "  inflating: Breast Cancer Patients MRI's/Sick/S_212.jpg  \n",
            "  inflating: Breast Cancer Patients MRI's/Sick/S_213.jpg  \n",
            "  inflating: Breast Cancer Patients MRI's/Sick/S_214.jpg  \n",
            "  inflating: Breast Cancer Patients MRI's/Sick/S_215.jpg  \n",
            "  inflating: Breast Cancer Patients MRI's/Sick/S_216.jpg  \n",
            "  inflating: Breast Cancer Patients MRI's/Sick/S_217.jpg  \n",
            "  inflating: Breast Cancer Patients MRI's/Sick/S_218.jpg  \n",
            "  inflating: Breast Cancer Patients MRI's/Sick/S_219.jpg  \n",
            "  inflating: Breast Cancer Patients MRI's/Sick/S_22.jpg  \n",
            "  inflating: Breast Cancer Patients MRI's/Sick/S_220.jpg  \n",
            "  inflating: Breast Cancer Patients MRI's/Sick/S_221.jpg  \n",
            "  inflating: Breast Cancer Patients MRI's/Sick/S_222.jpg  \n",
            "  inflating: Breast Cancer Patients MRI's/Sick/S_223.jpg  \n",
            "  inflating: Breast Cancer Patients MRI's/Sick/S_224.jpg  \n",
            "  inflating: Breast Cancer Patients MRI's/Sick/S_225.jpg  \n",
            "  inflating: Breast Cancer Patients MRI's/Sick/S_226.jpg  \n",
            "  inflating: Breast Cancer Patients MRI's/Sick/S_227.jpg  \n",
            "  inflating: Breast Cancer Patients MRI's/Sick/S_228.jpg  \n",
            "  inflating: Breast Cancer Patients MRI's/Sick/S_229.jpg  \n",
            "  inflating: Breast Cancer Patients MRI's/Sick/S_23.jpg  \n",
            "  inflating: Breast Cancer Patients MRI's/Sick/S_230.jpg  \n",
            "  inflating: Breast Cancer Patients MRI's/Sick/S_231.jpg  \n",
            "  inflating: Breast Cancer Patients MRI's/Sick/S_232.jpg  \n",
            "  inflating: Breast Cancer Patients MRI's/Sick/S_233.jpg  \n",
            "  inflating: Breast Cancer Patients MRI's/Sick/S_234.jpg  \n",
            "  inflating: Breast Cancer Patients MRI's/Sick/S_235.jpg  \n",
            "  inflating: Breast Cancer Patients MRI's/Sick/S_236.jpg  \n",
            "  inflating: Breast Cancer Patients MRI's/Sick/S_237.jpg  \n",
            "  inflating: Breast Cancer Patients MRI's/Sick/S_238.jpg  \n",
            "  inflating: Breast Cancer Patients MRI's/Sick/S_239.jpg  \n",
            "  inflating: Breast Cancer Patients MRI's/Sick/S_24.jpg  \n",
            "  inflating: Breast Cancer Patients MRI's/Sick/S_240.jpg  \n",
            "  inflating: Breast Cancer Patients MRI's/Sick/S_241.jpg  \n",
            "  inflating: Breast Cancer Patients MRI's/Sick/S_242.jpg  \n",
            "  inflating: Breast Cancer Patients MRI's/Sick/S_243.jpg  \n",
            "  inflating: Breast Cancer Patients MRI's/Sick/S_244.jpg  \n",
            "  inflating: Breast Cancer Patients MRI's/Sick/S_245.jpg  \n",
            "  inflating: Breast Cancer Patients MRI's/Sick/S_246.jpg  \n",
            "  inflating: Breast Cancer Patients MRI's/Sick/S_247.jpg  \n",
            "  inflating: Breast Cancer Patients MRI's/Sick/S_248.jpg  \n",
            "  inflating: Breast Cancer Patients MRI's/Sick/S_249.jpg  \n",
            "  inflating: Breast Cancer Patients MRI's/Sick/S_25.jpg  \n",
            "  inflating: Breast Cancer Patients MRI's/Sick/S_250.jpg  \n",
            "  inflating: Breast Cancer Patients MRI's/Sick/S_251.jpg  \n",
            "  inflating: Breast Cancer Patients MRI's/Sick/S_252.jpg  \n",
            "  inflating: Breast Cancer Patients MRI's/Sick/S_253.jpg  \n",
            "  inflating: Breast Cancer Patients MRI's/Sick/S_254.jpg  \n",
            "  inflating: Breast Cancer Patients MRI's/Sick/S_255.jpg  \n",
            "  inflating: Breast Cancer Patients MRI's/Sick/S_256.jpg  \n",
            "  inflating: Breast Cancer Patients MRI's/Sick/S_257.jpg  \n",
            "  inflating: Breast Cancer Patients MRI's/Sick/S_258.jpg  \n",
            "  inflating: Breast Cancer Patients MRI's/Sick/S_259.jpg  \n",
            "  inflating: Breast Cancer Patients MRI's/Sick/S_26.jpg  \n",
            "  inflating: Breast Cancer Patients MRI's/Sick/S_261.jpg  \n",
            "  inflating: Breast Cancer Patients MRI's/Sick/S_262.jpg  \n",
            "  inflating: Breast Cancer Patients MRI's/Sick/S_263.jpg  \n",
            "  inflating: Breast Cancer Patients MRI's/Sick/S_264.jpg  \n",
            "  inflating: Breast Cancer Patients MRI's/Sick/S_265.jpg  \n",
            "  inflating: Breast Cancer Patients MRI's/Sick/S_266.jpg  \n",
            "  inflating: Breast Cancer Patients MRI's/Sick/S_267.jpg  \n",
            "  inflating: Breast Cancer Patients MRI's/Sick/S_268.jpg  \n",
            "  inflating: Breast Cancer Patients MRI's/Sick/S_269.jpg  \n",
            "  inflating: Breast Cancer Patients MRI's/Sick/S_27.jpg  \n",
            "  inflating: Breast Cancer Patients MRI's/Sick/S_270.jpg  \n",
            "  inflating: Breast Cancer Patients MRI's/Sick/S_271.jpg  \n",
            "  inflating: Breast Cancer Patients MRI's/Sick/S_272.jpg  \n",
            "  inflating: Breast Cancer Patients MRI's/Sick/S_273.jpg  \n",
            "  inflating: Breast Cancer Patients MRI's/Sick/S_274.jpg  \n",
            "  inflating: Breast Cancer Patients MRI's/Sick/S_275.jpg  \n",
            "  inflating: Breast Cancer Patients MRI's/Sick/S_276.jpg  \n",
            "  inflating: Breast Cancer Patients MRI's/Sick/S_277.jpg  \n",
            "  inflating: Breast Cancer Patients MRI's/Sick/S_278.jpg  \n",
            "  inflating: Breast Cancer Patients MRI's/Sick/S_279.jpg  \n",
            "  inflating: Breast Cancer Patients MRI's/Sick/S_28.jpg  \n",
            "  inflating: Breast Cancer Patients MRI's/Sick/S_280.jpg  \n",
            "  inflating: Breast Cancer Patients MRI's/Sick/S_281.jpg  \n",
            "  inflating: Breast Cancer Patients MRI's/Sick/S_282.jpg  \n",
            "  inflating: Breast Cancer Patients MRI's/Sick/S_283.jpg  \n",
            "  inflating: Breast Cancer Patients MRI's/Sick/S_284.jpg  \n",
            "  inflating: Breast Cancer Patients MRI's/Sick/S_285.jpg  \n",
            "  inflating: Breast Cancer Patients MRI's/Sick/S_286.jpg  \n",
            "  inflating: Breast Cancer Patients MRI's/Sick/S_287.jpg  \n",
            "  inflating: Breast Cancer Patients MRI's/Sick/S_288.jpg  \n",
            "  inflating: Breast Cancer Patients MRI's/Sick/S_289.jpg  \n",
            "  inflating: Breast Cancer Patients MRI's/Sick/S_29.jpg  \n",
            "  inflating: Breast Cancer Patients MRI's/Sick/S_290.jpg  \n",
            "  inflating: Breast Cancer Patients MRI's/Sick/S_291.jpg  \n",
            "  inflating: Breast Cancer Patients MRI's/Sick/S_292.jpg  \n",
            "  inflating: Breast Cancer Patients MRI's/Sick/S_293.jpg  \n",
            "  inflating: Breast Cancer Patients MRI's/Sick/S_294.jpg  \n",
            "  inflating: Breast Cancer Patients MRI's/Sick/S_295.jpg  \n",
            "  inflating: Breast Cancer Patients MRI's/Sick/S_296.jpg  \n",
            "  inflating: Breast Cancer Patients MRI's/Sick/S_297.jpg  \n",
            "  inflating: Breast Cancer Patients MRI's/Sick/S_298.jpg  \n",
            "  inflating: Breast Cancer Patients MRI's/Sick/S_299.jpg  \n",
            "  inflating: Breast Cancer Patients MRI's/Sick/S_30.jpg  \n",
            "  inflating: Breast Cancer Patients MRI's/Sick/S_300.jpg  \n",
            "  inflating: Breast Cancer Patients MRI's/Sick/S_301.jpg  \n",
            "  inflating: Breast Cancer Patients MRI's/Sick/S_302.jpg  \n",
            "  inflating: Breast Cancer Patients MRI's/Sick/S_303.jpg  \n",
            "  inflating: Breast Cancer Patients MRI's/Sick/S_304.jpg  \n",
            "  inflating: Breast Cancer Patients MRI's/Sick/S_305.jpg  \n",
            "  inflating: Breast Cancer Patients MRI's/Sick/S_306.jpg  \n",
            "  inflating: Breast Cancer Patients MRI's/Sick/S_307.jpg  \n",
            "  inflating: Breast Cancer Patients MRI's/Sick/S_308.jpg  \n",
            "  inflating: Breast Cancer Patients MRI's/Sick/S_309.jpg  \n",
            "  inflating: Breast Cancer Patients MRI's/Sick/S_31.jpg  \n",
            "  inflating: Breast Cancer Patients MRI's/Sick/S_310.jpg  \n",
            "  inflating: Breast Cancer Patients MRI's/Sick/S_311.jpg  \n",
            "  inflating: Breast Cancer Patients MRI's/Sick/S_312.jpg  \n",
            "  inflating: Breast Cancer Patients MRI's/Sick/S_313.jpg  \n",
            "  inflating: Breast Cancer Patients MRI's/Sick/S_314.jpg  \n",
            "  inflating: Breast Cancer Patients MRI's/Sick/S_315.jpg  \n",
            "  inflating: Breast Cancer Patients MRI's/Sick/S_316.jpg  \n",
            "  inflating: Breast Cancer Patients MRI's/Sick/S_317.jpg  \n",
            "  inflating: Breast Cancer Patients MRI's/Sick/S_318.jpg  \n",
            "  inflating: Breast Cancer Patients MRI's/Sick/S_319.jpg  \n",
            "  inflating: Breast Cancer Patients MRI's/Sick/S_32.jpg  \n",
            "  inflating: Breast Cancer Patients MRI's/Sick/S_320.jpg  \n",
            "  inflating: Breast Cancer Patients MRI's/Sick/S_321.jpg  \n",
            "  inflating: Breast Cancer Patients MRI's/Sick/S_322.jpg  \n",
            "  inflating: Breast Cancer Patients MRI's/Sick/S_323.jpg  \n",
            "  inflating: Breast Cancer Patients MRI's/Sick/S_324.jpg  \n",
            "  inflating: Breast Cancer Patients MRI's/Sick/S_325.jpg  \n",
            "  inflating: Breast Cancer Patients MRI's/Sick/S_326.jpg  \n",
            "  inflating: Breast Cancer Patients MRI's/Sick/S_327.jpg  \n",
            "  inflating: Breast Cancer Patients MRI's/Sick/S_328.jpg  \n",
            "  inflating: Breast Cancer Patients MRI's/Sick/S_329.jpg  \n",
            "  inflating: Breast Cancer Patients MRI's/Sick/S_33.jpg  \n",
            "  inflating: Breast Cancer Patients MRI's/Sick/S_330.jpg  \n",
            "  inflating: Breast Cancer Patients MRI's/Sick/S_331.jpg  \n",
            "  inflating: Breast Cancer Patients MRI's/Sick/S_332.jpg  \n",
            "  inflating: Breast Cancer Patients MRI's/Sick/S_333.jpg  \n",
            "  inflating: Breast Cancer Patients MRI's/Sick/S_334.jpg  \n",
            "  inflating: Breast Cancer Patients MRI's/Sick/S_335.jpg  \n",
            "  inflating: Breast Cancer Patients MRI's/Sick/S_336.jpg  \n",
            "  inflating: Breast Cancer Patients MRI's/Sick/S_337.jpg  \n",
            "  inflating: Breast Cancer Patients MRI's/Sick/S_338.jpg  \n",
            "  inflating: Breast Cancer Patients MRI's/Sick/S_339.jpg  \n",
            "  inflating: Breast Cancer Patients MRI's/Sick/S_34.jpg  \n",
            "  inflating: Breast Cancer Patients MRI's/Sick/S_340.jpg  \n",
            "  inflating: Breast Cancer Patients MRI's/Sick/S_341.jpg  \n",
            "  inflating: Breast Cancer Patients MRI's/Sick/S_342.jpg  \n",
            "  inflating: Breast Cancer Patients MRI's/Sick/S_343.jpg  \n",
            "  inflating: Breast Cancer Patients MRI's/Sick/S_344.jpg  \n",
            "  inflating: Breast Cancer Patients MRI's/Sick/S_345.jpg  \n",
            "  inflating: Breast Cancer Patients MRI's/Sick/S_346.jpg  \n",
            "  inflating: Breast Cancer Patients MRI's/Sick/S_347.jpg  \n",
            "  inflating: Breast Cancer Patients MRI's/Sick/S_348.jpg  \n",
            "  inflating: Breast Cancer Patients MRI's/Sick/S_349.jpg  \n",
            "  inflating: Breast Cancer Patients MRI's/Sick/S_35.jpg  \n",
            "  inflating: Breast Cancer Patients MRI's/Sick/S_350.jpg  \n",
            "  inflating: Breast Cancer Patients MRI's/Sick/S_351.jpg  \n",
            "  inflating: Breast Cancer Patients MRI's/Sick/S_352.jpg  \n",
            "  inflating: Breast Cancer Patients MRI's/Sick/S_353.jpg  \n",
            "  inflating: Breast Cancer Patients MRI's/Sick/S_354.jpg  \n",
            "  inflating: Breast Cancer Patients MRI's/Sick/S_355.jpg  \n",
            "  inflating: Breast Cancer Patients MRI's/Sick/S_356.jpg  \n",
            "  inflating: Breast Cancer Patients MRI's/Sick/S_357.jpg  \n",
            "  inflating: Breast Cancer Patients MRI's/Sick/S_358.jpg  \n",
            "  inflating: Breast Cancer Patients MRI's/Sick/S_359.jpg  \n",
            "  inflating: Breast Cancer Patients MRI's/Sick/S_36.jpg  \n",
            "  inflating: Breast Cancer Patients MRI's/Sick/S_360.jpg  \n",
            "  inflating: Breast Cancer Patients MRI's/Sick/S_361.jpg  \n",
            "  inflating: Breast Cancer Patients MRI's/Sick/S_362.jpg  \n",
            "  inflating: Breast Cancer Patients MRI's/Sick/S_363.jpg  \n",
            "  inflating: Breast Cancer Patients MRI's/Sick/S_364.jpg  \n",
            "  inflating: Breast Cancer Patients MRI's/Sick/S_365.jpg  \n",
            "  inflating: Breast Cancer Patients MRI's/Sick/S_366.jpg  \n",
            "  inflating: Breast Cancer Patients MRI's/Sick/S_367.jpg  \n",
            "  inflating: Breast Cancer Patients MRI's/Sick/S_368.jpg  \n",
            "  inflating: Breast Cancer Patients MRI's/Sick/S_369.jpg  \n",
            "  inflating: Breast Cancer Patients MRI's/Sick/S_37.jpg  \n",
            "  inflating: Breast Cancer Patients MRI's/Sick/S_370.jpg  \n",
            "  inflating: Breast Cancer Patients MRI's/Sick/S_371.jpg  \n",
            "  inflating: Breast Cancer Patients MRI's/Sick/S_372.jpg  \n",
            "  inflating: Breast Cancer Patients MRI's/Sick/S_373.jpg  \n",
            "  inflating: Breast Cancer Patients MRI's/Sick/S_374.jpg  \n",
            "  inflating: Breast Cancer Patients MRI's/Sick/S_375.jpg  \n",
            "  inflating: Breast Cancer Patients MRI's/Sick/S_376.jpg  \n",
            "  inflating: Breast Cancer Patients MRI's/Sick/S_377.jpg  \n",
            "  inflating: Breast Cancer Patients MRI's/Sick/S_378.jpg  \n",
            "  inflating: Breast Cancer Patients MRI's/Sick/S_379.jpg  \n",
            "  inflating: Breast Cancer Patients MRI's/Sick/S_38.jpg  \n",
            "  inflating: Breast Cancer Patients MRI's/Sick/S_380.jpg  \n",
            "  inflating: Breast Cancer Patients MRI's/Sick/S_381.jpg  \n",
            "  inflating: Breast Cancer Patients MRI's/Sick/S_382.jpg  \n",
            "  inflating: Breast Cancer Patients MRI's/Sick/S_383.jpg  \n",
            "  inflating: Breast Cancer Patients MRI's/Sick/S_384.jpg  \n",
            "  inflating: Breast Cancer Patients MRI's/Sick/S_385.jpg  \n",
            "  inflating: Breast Cancer Patients MRI's/Sick/S_386.jpg  \n",
            "  inflating: Breast Cancer Patients MRI's/Sick/S_387.jpg  \n",
            "  inflating: Breast Cancer Patients MRI's/Sick/S_388.jpg  \n",
            "  inflating: Breast Cancer Patients MRI's/Sick/S_389.jpg  \n",
            "  inflating: Breast Cancer Patients MRI's/Sick/S_39.jpg  \n",
            "  inflating: Breast Cancer Patients MRI's/Sick/S_390.jpg  \n",
            "  inflating: Breast Cancer Patients MRI's/Sick/S_391.jpg  \n",
            "  inflating: Breast Cancer Patients MRI's/Sick/S_392.jpg  \n",
            "  inflating: Breast Cancer Patients MRI's/Sick/S_393.jpg  \n",
            "  inflating: Breast Cancer Patients MRI's/Sick/S_394.jpg  \n",
            "  inflating: Breast Cancer Patients MRI's/Sick/S_395.jpg  \n",
            "  inflating: Breast Cancer Patients MRI's/Sick/S_396.jpg  \n",
            "  inflating: Breast Cancer Patients MRI's/Sick/S_397.jpg  \n",
            "  inflating: Breast Cancer Patients MRI's/Sick/S_398.jpg  \n",
            "  inflating: Breast Cancer Patients MRI's/Sick/S_399.jpg  \n",
            "  inflating: Breast Cancer Patients MRI's/Sick/S_40.jpg  \n",
            "  inflating: Breast Cancer Patients MRI's/Sick/S_400.jpg  \n",
            "  inflating: Breast Cancer Patients MRI's/Sick/S_404.jpg  \n",
            "  inflating: Breast Cancer Patients MRI's/Sick/S_405.jpg  \n",
            "  inflating: Breast Cancer Patients MRI's/Sick/S_406.jpg  \n",
            "  inflating: Breast Cancer Patients MRI's/Sick/S_407.jpg  \n",
            "  inflating: Breast Cancer Patients MRI's/Sick/S_408.jpg  \n",
            "  inflating: Breast Cancer Patients MRI's/Sick/S_41.jpg  \n",
            "  inflating: Breast Cancer Patients MRI's/Sick/S_410.jpg  \n",
            "  inflating: Breast Cancer Patients MRI's/Sick/S_412.jpg  \n",
            "  inflating: Breast Cancer Patients MRI's/Sick/S_414.jpg  \n",
            "  inflating: Breast Cancer Patients MRI's/Sick/S_415.jpg  \n",
            "  inflating: Breast Cancer Patients MRI's/Sick/S_416.jpg  \n",
            "  inflating: Breast Cancer Patients MRI's/Sick/S_417.jpg  \n",
            "  inflating: Breast Cancer Patients MRI's/Sick/S_418.jpg  \n",
            "  inflating: Breast Cancer Patients MRI's/Sick/S_42.jpg  \n",
            "  inflating: Breast Cancer Patients MRI's/Sick/S_420.jpg  \n",
            "  inflating: Breast Cancer Patients MRI's/Sick/S_421.jpg  \n",
            "  inflating: Breast Cancer Patients MRI's/Sick/S_424.jpg  \n",
            "  inflating: Breast Cancer Patients MRI's/Sick/S_426.jpg  \n",
            "  inflating: Breast Cancer Patients MRI's/Sick/S_427.jpg  \n",
            "  inflating: Breast Cancer Patients MRI's/Sick/S_43.jpg  \n",
            "  inflating: Breast Cancer Patients MRI's/Sick/S_430.jpg  \n",
            "  inflating: Breast Cancer Patients MRI's/Sick/S_44.jpg  \n",
            "  inflating: Breast Cancer Patients MRI's/Sick/S_441.jpg  \n",
            "  inflating: Breast Cancer Patients MRI's/Sick/S_442.jpg  \n",
            "  inflating: Breast Cancer Patients MRI's/Sick/S_443.jpg  \n",
            "  inflating: Breast Cancer Patients MRI's/Sick/S_444.jpg  \n",
            "  inflating: Breast Cancer Patients MRI's/Sick/S_445.jpg  \n",
            "  inflating: Breast Cancer Patients MRI's/Sick/S_446.jpg  \n",
            "  inflating: Breast Cancer Patients MRI's/Sick/S_447.jpg  \n",
            "  inflating: Breast Cancer Patients MRI's/Sick/S_448.jpg  \n",
            "  inflating: Breast Cancer Patients MRI's/Sick/S_449.jpg  \n",
            "  inflating: Breast Cancer Patients MRI's/Sick/S_45.jpg  \n",
            "  inflating: Breast Cancer Patients MRI's/Sick/S_450.jpg  \n",
            "  inflating: Breast Cancer Patients MRI's/Sick/S_451.jpg  \n",
            "  inflating: Breast Cancer Patients MRI's/Sick/S_452.jpg  \n",
            "  inflating: Breast Cancer Patients MRI's/Sick/S_453.jpg  \n",
            "  inflating: Breast Cancer Patients MRI's/Sick/S_454.jpg  \n",
            "  inflating: Breast Cancer Patients MRI's/Sick/S_455.jpg  \n",
            "  inflating: Breast Cancer Patients MRI's/Sick/S_456.jpg  \n",
            "  inflating: Breast Cancer Patients MRI's/Sick/S_457.jpg  \n",
            "  inflating: Breast Cancer Patients MRI's/Sick/S_458.jpg  \n",
            "  inflating: Breast Cancer Patients MRI's/Sick/S_459.jpg  \n",
            "  inflating: Breast Cancer Patients MRI's/Sick/S_46.jpg  \n",
            "  inflating: Breast Cancer Patients MRI's/Sick/S_460.jpg  \n",
            "  inflating: Breast Cancer Patients MRI's/Sick/S_461.jpg  \n",
            "  inflating: Breast Cancer Patients MRI's/Sick/S_462.jpg  \n",
            "  inflating: Breast Cancer Patients MRI's/Sick/S_463.jpg  \n",
            "  inflating: Breast Cancer Patients MRI's/Sick/S_464.jpg  \n",
            "  inflating: Breast Cancer Patients MRI's/Sick/S_465.jpg  \n",
            "  inflating: Breast Cancer Patients MRI's/Sick/S_466.jpg  \n",
            "  inflating: Breast Cancer Patients MRI's/Sick/S_467.jpg  \n",
            "  inflating: Breast Cancer Patients MRI's/Sick/S_468.jpg  \n",
            "  inflating: Breast Cancer Patients MRI's/Sick/S_469.jpg  \n",
            "  inflating: Breast Cancer Patients MRI's/Sick/S_47.jpg  \n",
            "  inflating: Breast Cancer Patients MRI's/Sick/S_470.jpg  \n",
            "  inflating: Breast Cancer Patients MRI's/Sick/S_471.jpg  \n",
            "  inflating: Breast Cancer Patients MRI's/Sick/S_472.jpg  \n",
            "  inflating: Breast Cancer Patients MRI's/Sick/S_473.jpg  \n",
            "  inflating: Breast Cancer Patients MRI's/Sick/S_474.jpg  \n",
            "  inflating: Breast Cancer Patients MRI's/Sick/S_475.jpg  \n",
            "  inflating: Breast Cancer Patients MRI's/Sick/S_476.jpg  \n",
            "  inflating: Breast Cancer Patients MRI's/Sick/S_477.jpg  \n",
            "  inflating: Breast Cancer Patients MRI's/Sick/S_478.jpg  \n",
            "  inflating: Breast Cancer Patients MRI's/Sick/S_479.jpg  \n",
            "  inflating: Breast Cancer Patients MRI's/Sick/S_48.jpg  \n",
            "  inflating: Breast Cancer Patients MRI's/Sick/S_480.jpg  \n",
            "  inflating: Breast Cancer Patients MRI's/Sick/S_481.jpg  \n",
            "  inflating: Breast Cancer Patients MRI's/Sick/S_482.jpg  \n",
            "  inflating: Breast Cancer Patients MRI's/Sick/S_483.jpg  \n",
            "  inflating: Breast Cancer Patients MRI's/Sick/S_485.jpg  \n",
            "  inflating: Breast Cancer Patients MRI's/Sick/S_486.jpg  \n",
            "  inflating: Breast Cancer Patients MRI's/Sick/S_487.jpg  \n",
            "  inflating: Breast Cancer Patients MRI's/Sick/S_488.jpg  \n",
            "  inflating: Breast Cancer Patients MRI's/Sick/S_489.jpg  \n",
            "  inflating: Breast Cancer Patients MRI's/Sick/S_49.jpg  \n",
            "  inflating: Breast Cancer Patients MRI's/Sick/S_490.jpg  \n",
            "  inflating: Breast Cancer Patients MRI's/Sick/S_491.jpg  \n",
            "  inflating: Breast Cancer Patients MRI's/Sick/S_492.jpg  \n",
            "  inflating: Breast Cancer Patients MRI's/Sick/S_493.jpg  \n",
            "  inflating: Breast Cancer Patients MRI's/Sick/S_494.jpg  \n",
            "  inflating: Breast Cancer Patients MRI's/Sick/S_495.jpg  \n",
            "  inflating: Breast Cancer Patients MRI's/Sick/S_496.jpg  \n",
            "  inflating: Breast Cancer Patients MRI's/Sick/S_497.jpg  \n",
            "  inflating: Breast Cancer Patients MRI's/Sick/S_498.jpg  \n",
            "  inflating: Breast Cancer Patients MRI's/Sick/S_499.jpg  \n",
            "  inflating: Breast Cancer Patients MRI's/Sick/S_50.jpg  \n",
            "  inflating: Breast Cancer Patients MRI's/Sick/S_500.jpg  \n",
            "  inflating: Breast Cancer Patients MRI's/Sick/S_501.jpg  \n",
            "  inflating: Breast Cancer Patients MRI's/Sick/S_502.jpg  \n",
            "  inflating: Breast Cancer Patients MRI's/Sick/S_503.jpg  \n",
            "  inflating: Breast Cancer Patients MRI's/Sick/S_504.jpg  \n",
            "  inflating: Breast Cancer Patients MRI's/Sick/S_51.jpg  \n",
            "  inflating: Breast Cancer Patients MRI's/Sick/S_52.jpg  \n",
            "  inflating: Breast Cancer Patients MRI's/Sick/S_526.jpg  \n",
            "  inflating: Breast Cancer Patients MRI's/Sick/S_527.jpg  \n",
            "  inflating: Breast Cancer Patients MRI's/Sick/S_528.jpg  \n",
            "  inflating: Breast Cancer Patients MRI's/Sick/S_529.jpg  \n",
            "  inflating: Breast Cancer Patients MRI's/Sick/S_53.jpg  \n",
            "  inflating: Breast Cancer Patients MRI's/Sick/S_530.jpg  \n",
            "  inflating: Breast Cancer Patients MRI's/Sick/S_531.jpg  \n",
            "  inflating: Breast Cancer Patients MRI's/Sick/S_532.jpg  \n",
            "  inflating: Breast Cancer Patients MRI's/Sick/S_533.jpg  \n",
            "  inflating: Breast Cancer Patients MRI's/Sick/S_534.jpg  \n",
            "  inflating: Breast Cancer Patients MRI's/Sick/S_535.jpg  \n",
            "  inflating: Breast Cancer Patients MRI's/Sick/S_536.jpg  \n",
            "  inflating: Breast Cancer Patients MRI's/Sick/S_537.jpg  \n",
            "  inflating: Breast Cancer Patients MRI's/Sick/S_538.jpg  \n",
            "  inflating: Breast Cancer Patients MRI's/Sick/S_539.jpg  \n",
            "  inflating: Breast Cancer Patients MRI's/Sick/S_54.jpg  \n",
            "  inflating: Breast Cancer Patients MRI's/Sick/S_540.jpg  \n",
            "  inflating: Breast Cancer Patients MRI's/Sick/S_541.jpg  \n",
            "  inflating: Breast Cancer Patients MRI's/Sick/S_542.jpg  \n",
            "  inflating: Breast Cancer Patients MRI's/Sick/S_543.jpg  \n",
            "  inflating: Breast Cancer Patients MRI's/Sick/S_544.jpg  \n",
            "  inflating: Breast Cancer Patients MRI's/Sick/S_545.jpg  \n",
            "  inflating: Breast Cancer Patients MRI's/Sick/S_546.jpg  \n",
            "  inflating: Breast Cancer Patients MRI's/Sick/S_547.jpg  \n",
            "  inflating: Breast Cancer Patients MRI's/Sick/S_548.jpg  \n",
            "  inflating: Breast Cancer Patients MRI's/Sick/S_549.jpg  \n",
            "  inflating: Breast Cancer Patients MRI's/Sick/S_55.jpg  \n",
            "  inflating: Breast Cancer Patients MRI's/Sick/S_550.jpg  \n",
            "  inflating: Breast Cancer Patients MRI's/Sick/S_551.jpg  \n",
            "  inflating: Breast Cancer Patients MRI's/Sick/S_552.jpg  \n",
            "  inflating: Breast Cancer Patients MRI's/Sick/S_553.jpg  \n",
            "  inflating: Breast Cancer Patients MRI's/Sick/S_554.jpg  \n",
            "  inflating: Breast Cancer Patients MRI's/Sick/S_555.jpg  \n",
            "  inflating: Breast Cancer Patients MRI's/Sick/S_556.jpg  \n",
            "  inflating: Breast Cancer Patients MRI's/Sick/S_557.jpg  \n",
            "  inflating: Breast Cancer Patients MRI's/Sick/S_558.jpg  \n",
            "  inflating: Breast Cancer Patients MRI's/Sick/S_559.jpg  \n",
            "  inflating: Breast Cancer Patients MRI's/Sick/S_56.jpg  \n",
            "  inflating: Breast Cancer Patients MRI's/Sick/S_560.jpg  \n",
            "  inflating: Breast Cancer Patients MRI's/Sick/S_561.jpg  \n",
            "  inflating: Breast Cancer Patients MRI's/Sick/S_562.jpg  \n",
            "  inflating: Breast Cancer Patients MRI's/Sick/S_563.jpg  \n",
            "  inflating: Breast Cancer Patients MRI's/Sick/S_564.jpg  \n",
            "  inflating: Breast Cancer Patients MRI's/Sick/S_565.jpg  \n",
            "  inflating: Breast Cancer Patients MRI's/Sick/S_566.jpg  \n",
            "  inflating: Breast Cancer Patients MRI's/Sick/S_567.jpg  \n",
            "  inflating: Breast Cancer Patients MRI's/Sick/S_568.jpg  \n",
            "  inflating: Breast Cancer Patients MRI's/Sick/S_569.jpg  \n",
            "  inflating: Breast Cancer Patients MRI's/Sick/S_57.jpg  \n",
            "  inflating: Breast Cancer Patients MRI's/Sick/S_570.jpg  \n",
            "  inflating: Breast Cancer Patients MRI's/Sick/S_571.jpg  \n",
            "  inflating: Breast Cancer Patients MRI's/Sick/S_572.jpg  \n",
            "  inflating: Breast Cancer Patients MRI's/Sick/S_573.jpg  \n",
            "  inflating: Breast Cancer Patients MRI's/Sick/S_574.jpg  \n",
            "  inflating: Breast Cancer Patients MRI's/Sick/S_575.jpg  \n",
            "  inflating: Breast Cancer Patients MRI's/Sick/S_576.jpg  \n",
            "  inflating: Breast Cancer Patients MRI's/Sick/S_577.jpg  \n",
            "  inflating: Breast Cancer Patients MRI's/Sick/S_578.jpg  \n",
            "  inflating: Breast Cancer Patients MRI's/Sick/S_579.jpg  \n",
            "  inflating: Breast Cancer Patients MRI's/Sick/S_58.jpg  \n",
            "  inflating: Breast Cancer Patients MRI's/Sick/S_580.jpg  \n",
            "  inflating: Breast Cancer Patients MRI's/Sick/S_581.jpg  \n",
            "  inflating: Breast Cancer Patients MRI's/Sick/S_582.jpg  \n",
            "  inflating: Breast Cancer Patients MRI's/Sick/S_583.jpg  \n",
            "  inflating: Breast Cancer Patients MRI's/Sick/S_584.jpg  \n",
            "  inflating: Breast Cancer Patients MRI's/Sick/S_585.jpg  \n",
            "  inflating: Breast Cancer Patients MRI's/Sick/S_586.jpg  \n",
            "  inflating: Breast Cancer Patients MRI's/Sick/S_587.jpg  \n",
            "  inflating: Breast Cancer Patients MRI's/Sick/S_588.jpg  \n",
            "  inflating: Breast Cancer Patients MRI's/Sick/S_589.jpg  \n",
            "  inflating: Breast Cancer Patients MRI's/Sick/S_59.jpg  \n",
            "  inflating: Breast Cancer Patients MRI's/Sick/S_590.jpg  \n",
            "  inflating: Breast Cancer Patients MRI's/Sick/S_591.jpg  \n",
            "  inflating: Breast Cancer Patients MRI's/Sick/S_592.jpg  \n",
            "  inflating: Breast Cancer Patients MRI's/Sick/S_593.jpg  \n",
            "  inflating: Breast Cancer Patients MRI's/Sick/S_594.jpg  \n",
            "  inflating: Breast Cancer Patients MRI's/Sick/S_595.jpg  \n",
            "  inflating: Breast Cancer Patients MRI's/Sick/S_596.jpg  \n",
            "  inflating: Breast Cancer Patients MRI's/Sick/S_597.jpg  \n",
            "  inflating: Breast Cancer Patients MRI's/Sick/S_598.jpg  \n",
            "  inflating: Breast Cancer Patients MRI's/Sick/S_599.jpg  \n",
            "  inflating: Breast Cancer Patients MRI's/Sick/S_60.jpg  \n",
            "  inflating: Breast Cancer Patients MRI's/Sick/S_600.jpg  \n",
            "  inflating: Breast Cancer Patients MRI's/Sick/S_601.jpg  \n",
            "  inflating: Breast Cancer Patients MRI's/Sick/S_602.jpg  \n",
            "  inflating: Breast Cancer Patients MRI's/Sick/S_603.jpg  \n",
            "  inflating: Breast Cancer Patients MRI's/Sick/S_604.jpg  \n",
            "  inflating: Breast Cancer Patients MRI's/Sick/S_605.jpg  \n",
            "  inflating: Breast Cancer Patients MRI's/Sick/S_606.jpg  \n",
            "  inflating: Breast Cancer Patients MRI's/Sick/S_607.jpg  \n",
            "  inflating: Breast Cancer Patients MRI's/Sick/S_608.jpg  \n",
            "  inflating: Breast Cancer Patients MRI's/Sick/S_609.jpg  \n",
            "  inflating: Breast Cancer Patients MRI's/Sick/S_61.jpg  \n",
            "  inflating: Breast Cancer Patients MRI's/Sick/S_610.jpg  \n",
            "  inflating: Breast Cancer Patients MRI's/Sick/S_611.jpg  \n",
            "  inflating: Breast Cancer Patients MRI's/Sick/S_612.jpg  \n",
            "  inflating: Breast Cancer Patients MRI's/Sick/S_614.jpg  \n",
            "  inflating: Breast Cancer Patients MRI's/Sick/S_615.jpg  \n",
            "  inflating: Breast Cancer Patients MRI's/Sick/S_616.jpg  \n",
            "  inflating: Breast Cancer Patients MRI's/Sick/S_617.jpg  \n",
            "  inflating: Breast Cancer Patients MRI's/Sick/S_619.jpg  \n",
            "  inflating: Breast Cancer Patients MRI's/Sick/S_62.jpg  \n",
            "  inflating: Breast Cancer Patients MRI's/Sick/S_620.jpg  \n",
            "  inflating: Breast Cancer Patients MRI's/Sick/S_621.jpg  \n",
            "  inflating: Breast Cancer Patients MRI's/Sick/S_622.jpg  \n",
            "  inflating: Breast Cancer Patients MRI's/Sick/S_623.jpg  \n",
            "  inflating: Breast Cancer Patients MRI's/Sick/S_624.jpg  \n",
            "  inflating: Breast Cancer Patients MRI's/Sick/S_625.jpg  \n",
            "  inflating: Breast Cancer Patients MRI's/Sick/S_626.jpg  \n",
            "  inflating: Breast Cancer Patients MRI's/Sick/S_627.jpg  \n",
            "  inflating: Breast Cancer Patients MRI's/Sick/S_628.jpg  \n",
            "  inflating: Breast Cancer Patients MRI's/Sick/S_63.jpg  \n",
            "  inflating: Breast Cancer Patients MRI's/Sick/S_630.jpg  \n",
            "  inflating: Breast Cancer Patients MRI's/Sick/S_631.jpg  \n",
            "  inflating: Breast Cancer Patients MRI's/Sick/S_632.jpg  \n",
            "  inflating: Breast Cancer Patients MRI's/Sick/S_633.jpg  \n",
            "  inflating: Breast Cancer Patients MRI's/Sick/S_634.jpg  \n",
            "  inflating: Breast Cancer Patients MRI's/Sick/S_635.jpg  \n",
            "  inflating: Breast Cancer Patients MRI's/Sick/S_636.jpg  \n",
            "  inflating: Breast Cancer Patients MRI's/Sick/S_637.jpg  \n",
            "  inflating: Breast Cancer Patients MRI's/Sick/S_638.jpg  \n",
            "  inflating: Breast Cancer Patients MRI's/Sick/S_639.jpg  \n",
            "  inflating: Breast Cancer Patients MRI's/Sick/S_64.jpg  \n",
            "  inflating: Breast Cancer Patients MRI's/Sick/S_640.jpg  \n",
            "  inflating: Breast Cancer Patients MRI's/Sick/S_641.jpg  \n",
            "  inflating: Breast Cancer Patients MRI's/Sick/S_642.jpg  \n",
            "  inflating: Breast Cancer Patients MRI's/Sick/S_644.jpg  \n",
            "  inflating: Breast Cancer Patients MRI's/Sick/S_645.jpg  \n",
            "  inflating: Breast Cancer Patients MRI's/Sick/S_646.jpg  \n",
            "  inflating: Breast Cancer Patients MRI's/Sick/S_647.jpg  \n",
            "  inflating: Breast Cancer Patients MRI's/Sick/S_648.jpg  \n",
            "  inflating: Breast Cancer Patients MRI's/Sick/S_649.jpg  \n",
            "  inflating: Breast Cancer Patients MRI's/Sick/S_65.jpg  \n",
            "  inflating: Breast Cancer Patients MRI's/Sick/S_650.jpg  \n",
            "  inflating: Breast Cancer Patients MRI's/Sick/S_651.jpg  \n",
            "  inflating: Breast Cancer Patients MRI's/Sick/S_652.jpg  \n",
            "  inflating: Breast Cancer Patients MRI's/Sick/S_653.jpg  \n",
            "  inflating: Breast Cancer Patients MRI's/Sick/S_654.jpg  \n",
            "  inflating: Breast Cancer Patients MRI's/Sick/S_655.jpg  \n",
            "  inflating: Breast Cancer Patients MRI's/Sick/S_656.jpg  \n",
            "  inflating: Breast Cancer Patients MRI's/Sick/S_657.jpg  \n",
            "  inflating: Breast Cancer Patients MRI's/Sick/S_658.jpg  \n",
            "  inflating: Breast Cancer Patients MRI's/Sick/S_659.jpg  \n",
            "  inflating: Breast Cancer Patients MRI's/Sick/S_66.jpg  \n",
            "  inflating: Breast Cancer Patients MRI's/Sick/S_660.jpg  \n",
            "  inflating: Breast Cancer Patients MRI's/Sick/S_661.jpg  \n",
            "  inflating: Breast Cancer Patients MRI's/Sick/S_662.jpg  \n",
            "  inflating: Breast Cancer Patients MRI's/Sick/S_663.jpg  \n",
            "  inflating: Breast Cancer Patients MRI's/Sick/S_664.jpg  \n",
            "  inflating: Breast Cancer Patients MRI's/Sick/S_665.jpg  \n",
            "  inflating: Breast Cancer Patients MRI's/Sick/S_666.jpg  \n",
            "  inflating: Breast Cancer Patients MRI's/Sick/S_667.jpg  \n",
            "  inflating: Breast Cancer Patients MRI's/Sick/S_668.jpg  \n",
            "  inflating: Breast Cancer Patients MRI's/Sick/S_669.jpg  \n",
            "  inflating: Breast Cancer Patients MRI's/Sick/S_67.jpg  \n",
            "  inflating: Breast Cancer Patients MRI's/Sick/S_670.jpg  \n",
            "  inflating: Breast Cancer Patients MRI's/Sick/S_671.jpg  \n",
            "  inflating: Breast Cancer Patients MRI's/Sick/S_672.jpg  \n",
            "  inflating: Breast Cancer Patients MRI's/Sick/S_673.jpg  \n",
            "  inflating: Breast Cancer Patients MRI's/Sick/S_674.jpg  \n",
            "  inflating: Breast Cancer Patients MRI's/Sick/S_675.jpg  \n",
            "  inflating: Breast Cancer Patients MRI's/Sick/S_676.jpg  \n",
            "  inflating: Breast Cancer Patients MRI's/Sick/S_677.jpg  \n",
            "  inflating: Breast Cancer Patients MRI's/Sick/S_678.jpg  \n",
            "  inflating: Breast Cancer Patients MRI's/Sick/S_679.jpg  \n",
            "  inflating: Breast Cancer Patients MRI's/Sick/S_68.jpg  \n",
            "  inflating: Breast Cancer Patients MRI's/Sick/S_680.jpg  \n",
            "  inflating: Breast Cancer Patients MRI's/Sick/S_681.jpg  \n",
            "  inflating: Breast Cancer Patients MRI's/Sick/S_682.jpg  \n",
            "  inflating: Breast Cancer Patients MRI's/Sick/S_683.jpg  \n",
            "  inflating: Breast Cancer Patients MRI's/Sick/S_684.jpg  \n",
            "  inflating: Breast Cancer Patients MRI's/Sick/S_685.jpg  \n",
            "  inflating: Breast Cancer Patients MRI's/Sick/S_686.jpg  \n",
            "  inflating: Breast Cancer Patients MRI's/Sick/S_687.jpg  \n",
            "  inflating: Breast Cancer Patients MRI's/Sick/S_688.jpg  \n",
            "  inflating: Breast Cancer Patients MRI's/Sick/S_689.jpg  \n",
            "  inflating: Breast Cancer Patients MRI's/Sick/S_690.jpg  \n",
            "  inflating: Breast Cancer Patients MRI's/Sick/S_691.jpg  \n",
            "  inflating: Breast Cancer Patients MRI's/Sick/S_692.jpg  \n",
            "  inflating: Breast Cancer Patients MRI's/Sick/S_693.jpg  \n",
            "  inflating: Breast Cancer Patients MRI's/Sick/S_694.jpg  \n",
            "  inflating: Breast Cancer Patients MRI's/Sick/S_695.jpg  \n",
            "  inflating: Breast Cancer Patients MRI's/Sick/S_696.jpg  \n",
            "  inflating: Breast Cancer Patients MRI's/Sick/S_697.jpg  \n",
            "  inflating: Breast Cancer Patients MRI's/Sick/S_698.jpg  \n",
            "  inflating: Breast Cancer Patients MRI's/Sick/S_699.jpg  \n",
            "  inflating: Breast Cancer Patients MRI's/Sick/S_70.jpg  \n",
            "  inflating: Breast Cancer Patients MRI's/Sick/S_700.jpg  \n",
            "  inflating: Breast Cancer Patients MRI's/Sick/S_701.jpg  \n",
            "  inflating: Breast Cancer Patients MRI's/Sick/S_702.jpg  \n",
            "  inflating: Breast Cancer Patients MRI's/Sick/S_703.jpg  \n",
            "  inflating: Breast Cancer Patients MRI's/Sick/S_704.jpg  \n",
            "  inflating: Breast Cancer Patients MRI's/Sick/S_705.jpg  \n",
            "  inflating: Breast Cancer Patients MRI's/Sick/S_706.jpg  \n",
            "  inflating: Breast Cancer Patients MRI's/Sick/S_707.jpg  \n",
            "  inflating: Breast Cancer Patients MRI's/Sick/S_708.jpg  \n",
            "  inflating: Breast Cancer Patients MRI's/Sick/S_709.jpg  \n",
            "  inflating: Breast Cancer Patients MRI's/Sick/S_710.jpg  \n",
            "  inflating: Breast Cancer Patients MRI's/Sick/S_711.jpg  \n",
            "  inflating: Breast Cancer Patients MRI's/Sick/S_712.jpg  \n",
            "  inflating: Breast Cancer Patients MRI's/Sick/S_713.jpg  \n",
            "  inflating: Breast Cancer Patients MRI's/Sick/S_714.jpg  \n",
            "  inflating: Breast Cancer Patients MRI's/Sick/S_715.jpg  \n",
            "  inflating: Breast Cancer Patients MRI's/Sick/S_716.jpg  \n",
            "  inflating: Breast Cancer Patients MRI's/Sick/S_717.jpg  \n",
            "  inflating: Breast Cancer Patients MRI's/Sick/S_718.jpg  \n",
            "  inflating: Breast Cancer Patients MRI's/Sick/S_719.jpg  \n",
            "  inflating: Breast Cancer Patients MRI's/Sick/S_72.jpg  \n",
            "  inflating: Breast Cancer Patients MRI's/Sick/S_720.jpg  \n",
            "  inflating: Breast Cancer Patients MRI's/Sick/S_721.jpg  \n",
            "  inflating: Breast Cancer Patients MRI's/Sick/S_722.jpg  \n",
            "  inflating: Breast Cancer Patients MRI's/Sick/S_723.jpg  \n",
            "  inflating: Breast Cancer Patients MRI's/Sick/S_724.jpg  \n",
            "  inflating: Breast Cancer Patients MRI's/Sick/S_725.jpg  \n",
            "  inflating: Breast Cancer Patients MRI's/Sick/S_726.jpg  \n",
            "  inflating: Breast Cancer Patients MRI's/Sick/S_727.jpg  \n",
            "  inflating: Breast Cancer Patients MRI's/Sick/S_728.jpg  \n",
            "  inflating: Breast Cancer Patients MRI's/Sick/S_73.jpg  \n",
            "  inflating: Breast Cancer Patients MRI's/Sick/S_750.jpg  \n",
            "  inflating: Breast Cancer Patients MRI's/Sick/S_751.jpg  \n",
            "  inflating: Breast Cancer Patients MRI's/Sick/S_752.jpg  \n",
            "  inflating: Breast Cancer Patients MRI's/Sick/S_753.jpg  \n",
            "  inflating: Breast Cancer Patients MRI's/Sick/S_754.jpg  \n",
            "  inflating: Breast Cancer Patients MRI's/Sick/S_755.jpg  \n",
            "  inflating: Breast Cancer Patients MRI's/Sick/S_756.jpg  \n",
            "  inflating: Breast Cancer Patients MRI's/Sick/S_757.jpg  \n",
            "  inflating: Breast Cancer Patients MRI's/Sick/S_758.jpg  \n",
            "  inflating: Breast Cancer Patients MRI's/Sick/S_759.jpg  \n",
            "  inflating: Breast Cancer Patients MRI's/Sick/S_76.jpg  \n",
            "  inflating: Breast Cancer Patients MRI's/Sick/S_760.jpg  \n",
            "  inflating: Breast Cancer Patients MRI's/Sick/S_761.jpg  \n",
            "  inflating: Breast Cancer Patients MRI's/Sick/S_762.jpg  \n",
            "  inflating: Breast Cancer Patients MRI's/Sick/S_763.jpg  \n",
            "  inflating: Breast Cancer Patients MRI's/Sick/S_765.jpg  \n",
            "  inflating: Breast Cancer Patients MRI's/Sick/S_766.jpg  \n",
            "  inflating: Breast Cancer Patients MRI's/Sick/S_767.jpg  \n",
            "  inflating: Breast Cancer Patients MRI's/Sick/S_768.jpg  \n",
            "  inflating: Breast Cancer Patients MRI's/Sick/S_769.jpg  \n",
            "  inflating: Breast Cancer Patients MRI's/Sick/S_77.jpg  \n",
            "  inflating: Breast Cancer Patients MRI's/Sick/S_770.jpg  \n",
            "  inflating: Breast Cancer Patients MRI's/Sick/S_771.jpg  \n",
            "  inflating: Breast Cancer Patients MRI's/Sick/S_772.jpg  \n",
            "  inflating: Breast Cancer Patients MRI's/Sick/S_774.jpg  \n",
            "  inflating: Breast Cancer Patients MRI's/Sick/S_775.jpg  \n",
            "  inflating: Breast Cancer Patients MRI's/Sick/S_776.jpg  \n",
            "  inflating: Breast Cancer Patients MRI's/Sick/S_777.jpg  \n",
            "  inflating: Breast Cancer Patients MRI's/Sick/S_778.jpg  \n",
            "  inflating: Breast Cancer Patients MRI's/Sick/S_779.jpg  \n",
            "  inflating: Breast Cancer Patients MRI's/Sick/S_78.jpg  \n",
            "  inflating: Breast Cancer Patients MRI's/Sick/S_780.jpg  \n",
            "  inflating: Breast Cancer Patients MRI's/Sick/S_781.jpg  \n",
            "  inflating: Breast Cancer Patients MRI's/Sick/S_782.jpg  \n",
            "  inflating: Breast Cancer Patients MRI's/Sick/S_783.jpg  \n",
            "  inflating: Breast Cancer Patients MRI's/Sick/S_785.jpg  \n",
            "  inflating: Breast Cancer Patients MRI's/Sick/S_786.jpg  \n",
            "  inflating: Breast Cancer Patients MRI's/Sick/S_787.jpg  \n",
            "  inflating: Breast Cancer Patients MRI's/Sick/S_788.jpg  \n",
            "  inflating: Breast Cancer Patients MRI's/Sick/S_789.jpg  \n",
            "  inflating: Breast Cancer Patients MRI's/Sick/S_79.jpg  \n",
            "  inflating: Breast Cancer Patients MRI's/Sick/S_790.jpg  \n",
            "  inflating: Breast Cancer Patients MRI's/Sick/S_791.jpg  \n",
            "  inflating: Breast Cancer Patients MRI's/Sick/S_792.jpg  \n",
            "  inflating: Breast Cancer Patients MRI's/Sick/S_793.jpg  \n",
            "  inflating: Breast Cancer Patients MRI's/Sick/S_794.jpg  \n",
            "  inflating: Breast Cancer Patients MRI's/Sick/S_795.jpg  \n",
            "  inflating: Breast Cancer Patients MRI's/Sick/S_796.jpg  \n",
            "  inflating: Breast Cancer Patients MRI's/Sick/S_797.jpg  \n",
            "  inflating: Breast Cancer Patients MRI's/Sick/S_798.jpg  \n",
            "  inflating: Breast Cancer Patients MRI's/Sick/S_799.jpg  \n",
            "  inflating: Breast Cancer Patients MRI's/Sick/S_80.jpg  \n",
            "  inflating: Breast Cancer Patients MRI's/Sick/S_800.jpg  \n",
            "  inflating: Breast Cancer Patients MRI's/Sick/S_81.jpg  \n",
            "  inflating: Breast Cancer Patients MRI's/Sick/S_82.jpg  \n",
            "  inflating: Breast Cancer Patients MRI's/Sick/S_83.jpg  \n",
            "  inflating: Breast Cancer Patients MRI's/Sick/S_85.jpg  \n",
            "  inflating: Breast Cancer Patients MRI's/Sick/S_87.jpg  \n",
            "  inflating: Breast Cancer Patients MRI's/Sick/S_88.jpg  \n",
            "  inflating: Breast Cancer Patients MRI's/Sick/S_89.jpg  \n",
            "  inflating: Breast Cancer Patients MRI's/Sick/S_90.jpg  \n",
            "  inflating: Breast Cancer Patients MRI's/Sick/S_91.jpg  \n",
            "  inflating: Breast Cancer Patients MRI's/Sick/S_92.jpg  \n",
            "  inflating: Breast Cancer Patients MRI's/Sick/S_93.jpg  \n",
            "  inflating: Breast Cancer Patients MRI's/Sick/S_94.jpg  \n",
            "  inflating: Breast Cancer Patients MRI's/Sick/S_95.jpg  \n",
            "  inflating: Breast Cancer Patients MRI's/Sick/S_96.jpg  \n",
            "  inflating: Breast Cancer Patients MRI's/Sick/S_69.jpg  \n",
            "  inflating: Breast Cancer Patients MRI's/Sick/S_71.jpg  \n",
            "  inflating: Breast Cancer Patients MRI's/Sick/S_74.jpg  \n",
            "  inflating: Breast Cancer Patients MRI's/Sick/S_75.jpg  \n",
            "  inflating: Breast Cancer Patients MRI's/Sick/S_1022.jpg  \n",
            "  inflating: Breast Cancer Patients MRI's/Sick/S_1922.jpg  \n",
            "  inflating: Breast Cancer Patients MRI's/Sick/S_2122.jpg  \n",
            "  inflating: Breast Cancer Patients MRI's/Sick/S_2222.jpg  \n",
            "  inflating: Breast Cancer Patients MRI's/Sick/S_2332.jpg  \n",
            "  inflating: Breast Cancer Patients MRI's/Sick/S_2422.jpg  \n",
            "  inflating: Breast Cancer Patients MRI's/Sick/S_2522.jpg  \n",
            "  inflating: Breast Cancer Patients MRI's/Sick/S_2622.jpg  \n",
            "  inflating: Breast Cancer Patients MRI's/Sick/S_2722.jpg  \n",
            "  inflating: Breast Cancer Patients MRI's/Sick/S_2822.jpg  \n",
            "  inflating: Breast Cancer Patients MRI's/Sick/S_3022.jpg  \n",
            "  inflating: Breast Cancer Patients MRI's/Sick/S_3222.jpg  \n",
            "  inflating: Breast Cancer Patients MRI's/Sick/S_3322.jpg  \n",
            "  inflating: Breast Cancer Patients MRI's/Sick/S_3422.jpg  \n",
            "  inflating: Breast Cancer Patients MRI's/Sick/S_3722.jpg  \n",
            "  inflating: Breast Cancer Patients MRI's/Sick/S_3822.jpg  \n",
            "  inflating: Breast Cancer Patients MRI's/Sick/S_4122.jpg  \n",
            "  inflating: Breast Cancer Patients MRI's/Sick/S_4322.jpg  \n",
            "  inflating: Breast Cancer Patients MRI's/Sick/S_4422.jpg  \n",
            "  inflating: Breast Cancer Patients MRI's/Sick/S_4522.jpg  \n",
            "  inflating: Breast Cancer Patients MRI's/Sick/S_4622.jpg  \n",
            "  inflating: Breast Cancer Patients MRI's/Sick/S_4722.jpg  \n",
            "  inflating: Breast Cancer Patients MRI's/Sick/S_4822.jpg  \n",
            "  inflating: Breast Cancer Patients MRI's/Sick/S_4922.jpg  \n",
            "  inflating: Breast Cancer Patients MRI's/Sick/S_5122.jpg  \n",
            "  inflating: Breast Cancer Patients MRI's/Sick/S_5222.jpg  \n",
            "  inflating: Breast Cancer Patients MRI's/Sick/S_5422.jpg  \n",
            "  inflating: Breast Cancer Patients MRI's/Sick/S_5522.jpg  \n",
            "  inflating: Breast Cancer Patients MRI's/Sick/S_5822.jpg  \n",
            "  inflating: Breast Cancer Patients MRI's/Sick/S_6122.jpg  \n",
            "  inflating: Breast Cancer Patients MRI's/Sick/S_6211.jpg  \n",
            "  inflating: Breast Cancer Patients MRI's/Sick/S_6432.jpg  \n",
            "  inflating: Breast Cancer Patients MRI's/Sick/S_6622.jpg  \n",
            "  inflating: Breast Cancer Patients MRI's/Sick/S_6722.jpg  \n",
            "  inflating: Breast Cancer Patients MRI's/Sick/S_6822.jpg  \n",
            "  inflating: Breast Cancer Patients MRI's/Sick/S_7112.jpg  \n",
            "  inflating: Breast Cancer Patients MRI's/Sick/S_7222.jpg  \n",
            "  inflating: Breast Cancer Patients MRI's/Sick/S_7522.jpg  \n",
            "  inflating: Breast Cancer Patients MRI's/Sick/S_8122.jpg  \n",
            "  inflating: Breast Cancer Patients MRI's/Sick/S_922.jpg  \n",
            "  inflating: Breast Cancer Patients MRI's/Healthy/H_10012.jpg  \n",
            "  inflating: Breast Cancer Patients MRI's/Healthy/H_1011.jpg  \n",
            "  inflating: Breast Cancer Patients MRI's/Healthy/H_10112.jpg  \n",
            "  inflating: Breast Cancer Patients MRI's/Healthy/H_10211.jpg  \n",
            "  inflating: Breast Cancer Patients MRI's/Healthy/H_10311.jpg  \n",
            "  inflating: Breast Cancer Patients MRI's/Healthy/H_10411.jpg  \n",
            "  inflating: Breast Cancer Patients MRI's/Healthy/H_10511.jpg  \n",
            "  inflating: Breast Cancer Patients MRI's/Healthy/H_10611.jpg  \n",
            "  inflating: Breast Cancer Patients MRI's/Healthy/H_10711.jpg  \n",
            "  inflating: Breast Cancer Patients MRI's/Healthy/H_10811.jpg  \n",
            "  inflating: Breast Cancer Patients MRI's/Healthy/H_10911.jpg  \n",
            "  inflating: Breast Cancer Patients MRI's/Healthy/H_11011.jpg  \n",
            "  inflating: Breast Cancer Patients MRI's/Healthy/H_1111.jpg  \n",
            "  inflating: Breast Cancer Patients MRI's/Healthy/H_11121.jpg  \n",
            "  inflating: Breast Cancer Patients MRI's/Healthy/H_1121.jpg  \n",
            "  inflating: Breast Cancer Patients MRI's/Healthy/H_11311.jpg  \n",
            "  inflating: Breast Cancer Patients MRI's/Healthy/H_11411.jpg  \n",
            "  inflating: Breast Cancer Patients MRI's/Healthy/H_11511.jpg  \n",
            "  inflating: Breast Cancer Patients MRI's/Healthy/H_11611.jpg  \n",
            "  inflating: Breast Cancer Patients MRI's/Healthy/H_11711.jpg  \n",
            "  inflating: Breast Cancer Patients MRI's/Healthy/H_11811.jpg  \n",
            "  inflating: Breast Cancer Patients MRI's/Healthy/H_11911.jpg  \n",
            "  inflating: Breast Cancer Patients MRI's/Healthy/H_12011.jpg  \n",
            "  inflating: Breast Cancer Patients MRI's/Healthy/H_12111.jpg  \n",
            "  inflating: Breast Cancer Patients MRI's/Healthy/H_1221.jpg  \n",
            "  inflating: Breast Cancer Patients MRI's/Healthy/H_12211.jpg  \n",
            "  inflating: Breast Cancer Patients MRI's/Healthy/H_12311.jpg  \n",
            "  inflating: Breast Cancer Patients MRI's/Healthy/H_12411.jpg  \n",
            "  inflating: Breast Cancer Patients MRI's/Healthy/H_12511.jpg  \n",
            "  inflating: Breast Cancer Patients MRI's/Healthy/H_12611.jpg  \n",
            "  inflating: Breast Cancer Patients MRI's/Healthy/H_12711.jpg  \n",
            "  inflating: Breast Cancer Patients MRI's/Healthy/H_12911.jpg  \n",
            "  inflating: Breast Cancer Patients MRI's/Healthy/H_13011.jpg  \n",
            "  inflating: Breast Cancer Patients MRI's/Healthy/H_13111.jpg  \n",
            "  inflating: Breast Cancer Patients MRI's/Healthy/H_1321.jpg  \n",
            "  inflating: Breast Cancer Patients MRI's/Healthy/H_13211.jpg  \n",
            "  inflating: Breast Cancer Patients MRI's/Healthy/H_13311.jpg  \n",
            "  inflating: Breast Cancer Patients MRI's/Healthy/H_13411.jpg  \n",
            "  inflating: Breast Cancer Patients MRI's/Healthy/H_13511.jpg  \n",
            "  inflating: Breast Cancer Patients MRI's/Healthy/H_13611.jpg  \n",
            "  inflating: Breast Cancer Patients MRI's/Healthy/H_13711.jpg  \n",
            "  inflating: Breast Cancer Patients MRI's/Healthy/H_13811.jpg  \n",
            "  inflating: Breast Cancer Patients MRI's/Healthy/H_13911.jpg  \n",
            "  inflating: Breast Cancer Patients MRI's/Healthy/H_14011.jpg  \n",
            "  inflating: Breast Cancer Patients MRI's/Healthy/H_14111.jpg  \n",
            "  inflating: Breast Cancer Patients MRI's/Healthy/H_1421.jpg  \n",
            "  inflating: Breast Cancer Patients MRI's/Healthy/H_14211.jpg  \n",
            "  inflating: Breast Cancer Patients MRI's/Healthy/H_14311.jpg  \n",
            "  inflating: Breast Cancer Patients MRI's/Healthy/H_14411.jpg  \n",
            "  inflating: Breast Cancer Patients MRI's/Healthy/H_14511.jpg  \n",
            "  inflating: Breast Cancer Patients MRI's/Healthy/H_14611.jpg  \n",
            "  inflating: Breast Cancer Patients MRI's/Healthy/H_14711.jpg  \n",
            "  inflating: Breast Cancer Patients MRI's/Healthy/H_14811.jpg  \n",
            "  inflating: Breast Cancer Patients MRI's/Healthy/H_14911.jpg  \n",
            "  inflating: Breast Cancer Patients MRI's/Healthy/H_15011.jpg  \n",
            "  inflating: Breast Cancer Patients MRI's/Healthy/H_15111.jpg  \n",
            "  inflating: Breast Cancer Patients MRI's/Healthy/H_1521.jpg  \n",
            "  inflating: Breast Cancer Patients MRI's/Healthy/H_15211.jpg  \n",
            "  inflating: Breast Cancer Patients MRI's/Healthy/H_15311.jpg  \n",
            "  inflating: Breast Cancer Patients MRI's/Healthy/H_15411.jpg  \n",
            "  inflating: Breast Cancer Patients MRI's/Healthy/H_15511.jpg  \n",
            "  inflating: Breast Cancer Patients MRI's/Healthy/H_15611.jpg  \n",
            "  inflating: Breast Cancer Patients MRI's/Healthy/H_15711.jpg  \n",
            "  inflating: Breast Cancer Patients MRI's/Healthy/H_15811.jpg  \n",
            "  inflating: Breast Cancer Patients MRI's/Healthy/H_15911.jpg  \n",
            "  inflating: Breast Cancer Patients MRI's/Healthy/H_16011.jpg  \n",
            "  inflating: Breast Cancer Patients MRI's/Healthy/H_16111.jpg  \n",
            "  inflating: Breast Cancer Patients MRI's/Healthy/H_1621.jpg  \n",
            "  inflating: Breast Cancer Patients MRI's/Healthy/H_16211.jpg  \n",
            "  inflating: Breast Cancer Patients MRI's/Healthy/H_16311.jpg  \n",
            "  inflating: Breast Cancer Patients MRI's/Healthy/H_16411.jpg  \n",
            "  inflating: Breast Cancer Patients MRI's/Healthy/H_165111.jpg  \n",
            "  inflating: Breast Cancer Patients MRI's/Healthy/H_16611.jpg  \n",
            "  inflating: Breast Cancer Patients MRI's/Healthy/H_16711.jpg  \n",
            "  inflating: Breast Cancer Patients MRI's/Healthy/H_16811.jpg  \n",
            "  inflating: Breast Cancer Patients MRI's/Healthy/H_169111.jpg  \n",
            "  inflating: Breast Cancer Patients MRI's/Healthy/H_17011.jpg  \n",
            "  inflating: Breast Cancer Patients MRI's/Healthy/H_17111.jpg  \n",
            "  inflating: Breast Cancer Patients MRI's/Healthy/H_1721.jpg  \n",
            "  inflating: Breast Cancer Patients MRI's/Healthy/H_17211.jpg  \n",
            "  inflating: Breast Cancer Patients MRI's/Healthy/H_17311.jpg  \n",
            "  inflating: Breast Cancer Patients MRI's/Healthy/H_17411.jpg  \n",
            "  inflating: Breast Cancer Patients MRI's/Healthy/H_17511.jpg  \n",
            "  inflating: Breast Cancer Patients MRI's/Healthy/H_17611.jpg  \n",
            "  inflating: Breast Cancer Patients MRI's/Healthy/H_17711.jpg  \n",
            "  inflating: Breast Cancer Patients MRI's/Healthy/H_17811.jpg  \n",
            "  inflating: Breast Cancer Patients MRI's/Healthy/H_17911.jpg  \n",
            "  inflating: Breast Cancer Patients MRI's/Healthy/H_18011.jpg  \n",
            "  inflating: Breast Cancer Patients MRI's/Healthy/H_18111.jpg  \n",
            "  inflating: Breast Cancer Patients MRI's/Healthy/H_1821.jpg  \n",
            "  inflating: Breast Cancer Patients MRI's/Healthy/H_18211.jpg  \n",
            "  inflating: Breast Cancer Patients MRI's/Healthy/H_18311.jpg  \n",
            "  inflating: Breast Cancer Patients MRI's/Healthy/H_18411.jpg  \n",
            "  inflating: Breast Cancer Patients MRI's/Healthy/H_18511.jpg  \n",
            "  inflating: Breast Cancer Patients MRI's/Healthy/H_18611.jpg  \n",
            "  inflating: Breast Cancer Patients MRI's/Healthy/H_18711.jpg  \n",
            "  inflating: Breast Cancer Patients MRI's/Healthy/H_18811.jpg  \n",
            "  inflating: Breast Cancer Patients MRI's/Healthy/H_18911.jpg  \n",
            "  inflating: Breast Cancer Patients MRI's/Healthy/H_19011.jpg  \n",
            "  inflating: Breast Cancer Patients MRI's/Healthy/H_19111.jpg  \n",
            "  inflating: Breast Cancer Patients MRI's/Healthy/H_1921.jpg  \n",
            "  inflating: Breast Cancer Patients MRI's/Healthy/H_19211.jpg  \n",
            "  inflating: Breast Cancer Patients MRI's/Healthy/H_19311.jpg  \n",
            "  inflating: Breast Cancer Patients MRI's/Healthy/H_19512.jpg  \n",
            "  inflating: Breast Cancer Patients MRI's/Healthy/H_19611.jpg  \n",
            "  inflating: Breast Cancer Patients MRI's/Healthy/H_19711.jpg  \n",
            "  inflating: Breast Cancer Patients MRI's/Healthy/H_19811.jpg  \n",
            "  inflating: Breast Cancer Patients MRI's/Healthy/H_19911.jpg  \n",
            "  inflating: Breast Cancer Patients MRI's/Healthy/H_20011.jpg  \n",
            "  inflating: Breast Cancer Patients MRI's/Healthy/H_20111.jpg  \n",
            "  inflating: Breast Cancer Patients MRI's/Healthy/H_2021.jpg  \n",
            "  inflating: Breast Cancer Patients MRI's/Healthy/H_20211.jpg  \n",
            "  inflating: Breast Cancer Patients MRI's/Healthy/H_20411.jpg  \n",
            "  inflating: Breast Cancer Patients MRI's/Healthy/H_20511.jpg  \n",
            "  inflating: Breast Cancer Patients MRI's/Healthy/H_20611.jpg  \n",
            "  inflating: Breast Cancer Patients MRI's/Healthy/H_20711.jpg  \n",
            "  inflating: Breast Cancer Patients MRI's/Healthy/H_20811.jpg  \n",
            "  inflating: Breast Cancer Patients MRI's/Healthy/H_20911.jpg  \n",
            "  inflating: Breast Cancer Patients MRI's/Healthy/H_21011.jpg  \n",
            "  inflating: Breast Cancer Patients MRI's/Healthy/H_2111.jpg  \n",
            "  inflating: Breast Cancer Patients MRI's/Healthy/H_21122.jpg  \n",
            "  inflating: Breast Cancer Patients MRI's/Healthy/H_2121.jpg  \n",
            "  inflating: Breast Cancer Patients MRI's/Healthy/H_21211.jpg  \n",
            "  inflating: Breast Cancer Patients MRI's/Healthy/H_21311.jpg  \n",
            "  inflating: Breast Cancer Patients MRI's/Healthy/H_2221.jpg  \n",
            "  inflating: Breast Cancer Patients MRI's/Healthy/H_2321.jpg  \n",
            "  inflating: Breast Cancer Patients MRI's/Healthy/H_23511.jpg  \n",
            "  inflating: Breast Cancer Patients MRI's/Healthy/H_23611.jpg  \n",
            "  inflating: Breast Cancer Patients MRI's/Healthy/H_23711.jpg  \n",
            "  inflating: Breast Cancer Patients MRI's/Healthy/H_23811.jpg  \n",
            "  inflating: Breast Cancer Patients MRI's/Healthy/H_23911.jpg  \n",
            "  inflating: Breast Cancer Patients MRI's/Healthy/H_24011.jpg  \n",
            "  inflating: Breast Cancer Patients MRI's/Healthy/H_2411.jpg  \n",
            "  inflating: Breast Cancer Patients MRI's/Healthy/H_24111.jpg  \n",
            "  inflating: Breast Cancer Patients MRI's/Healthy/H_24211.jpg  \n",
            "  inflating: Breast Cancer Patients MRI's/Healthy/H_24311.jpg  \n",
            "  inflating: Breast Cancer Patients MRI's/Healthy/H_24411.jpg  \n",
            "  inflating: Breast Cancer Patients MRI's/Healthy/H_24511.jpg  \n",
            "  inflating: Breast Cancer Patients MRI's/Healthy/H_24611.jpg  \n",
            "  inflating: Breast Cancer Patients MRI's/Healthy/H_24711.jpg  \n",
            "  inflating: Breast Cancer Patients MRI's/Healthy/H_24911.jpg  \n",
            "  inflating: Breast Cancer Patients MRI's/Healthy/H_25011.jpg  \n",
            "  inflating: Breast Cancer Patients MRI's/Healthy/H_2511.jpg  \n",
            "  inflating: Breast Cancer Patients MRI's/Healthy/H_25111.jpg  \n",
            "  inflating: Breast Cancer Patients MRI's/Healthy/H_25211.jpg  \n",
            "  inflating: Breast Cancer Patients MRI's/Healthy/H_25311.jpg  \n",
            "  inflating: Breast Cancer Patients MRI's/Healthy/H_25511.jpg  \n",
            "  inflating: Breast Cancer Patients MRI's/Healthy/H_25611.jpg  \n",
            "  inflating: Breast Cancer Patients MRI's/Healthy/H_25711.jpg  \n",
            "  inflating: Breast Cancer Patients MRI's/Healthy/H_25811.jpg  \n",
            "  inflating: Breast Cancer Patients MRI's/Healthy/H_25911.jpg  \n",
            "  inflating: Breast Cancer Patients MRI's/Healthy/H_26011.jpg  \n",
            "  inflating: Breast Cancer Patients MRI's/Healthy/H_2611.jpg  \n",
            "  inflating: Breast Cancer Patients MRI's/Healthy/H_26111.jpg  \n",
            "  inflating: Breast Cancer Patients MRI's/Healthy/H_26211.jpg  \n",
            "  inflating: Breast Cancer Patients MRI's/Healthy/H_26311.jpg  \n",
            "  inflating: Breast Cancer Patients MRI's/Healthy/H_26411.jpg  \n",
            "  inflating: Breast Cancer Patients MRI's/Healthy/H_26511.jpg  \n",
            "  inflating: Breast Cancer Patients MRI's/Healthy/H_26611.jpg  \n",
            "  inflating: Breast Cancer Patients MRI's/Healthy/H_26711.jpg  \n",
            "  inflating: Breast Cancer Patients MRI's/Healthy/H_26811.jpg  \n",
            "  inflating: Breast Cancer Patients MRI's/Healthy/H_26911.jpg  \n",
            "  inflating: Breast Cancer Patients MRI's/Healthy/H_27011.jpg  \n",
            "  inflating: Breast Cancer Patients MRI's/Healthy/H_2711.jpg  \n",
            "  inflating: Breast Cancer Patients MRI's/Healthy/H_27111.jpg  \n",
            "  inflating: Breast Cancer Patients MRI's/Healthy/H_27211.jpg  \n",
            "  inflating: Breast Cancer Patients MRI's/Healthy/H_27311.jpg  \n",
            "  inflating: Breast Cancer Patients MRI's/Healthy/H_27411.jpg  \n",
            "  inflating: Breast Cancer Patients MRI's/Healthy/H_27511.jpg  \n",
            "  inflating: Breast Cancer Patients MRI's/Healthy/H_27611.jpg  \n",
            "  inflating: Breast Cancer Patients MRI's/Healthy/H_27711.jpg  \n",
            "  inflating: Breast Cancer Patients MRI's/Healthy/H_27811.jpg  \n",
            "  inflating: Breast Cancer Patients MRI's/Healthy/H_27911.jpg  \n",
            "  inflating: Breast Cancer Patients MRI's/Healthy/H_28011.jpg  \n",
            "  inflating: Breast Cancer Patients MRI's/Healthy/H_2811.jpg  \n",
            "  inflating: Breast Cancer Patients MRI's/Healthy/H_28111.jpg  \n",
            "  inflating: Breast Cancer Patients MRI's/Healthy/H_28211.jpg  \n",
            "  inflating: Breast Cancer Patients MRI's/Healthy/H_28311.jpg  \n",
            "  inflating: Breast Cancer Patients MRI's/Healthy/H_28511.jpg  \n",
            "  inflating: Breast Cancer Patients MRI's/Healthy/H_28611.jpg  \n",
            "  inflating: Breast Cancer Patients MRI's/Healthy/H_28711.jpg  \n",
            "  inflating: Breast Cancer Patients MRI's/Healthy/H_28811.jpg  \n",
            "  inflating: Breast Cancer Patients MRI's/Healthy/H_28911.jpg  \n",
            "  inflating: Breast Cancer Patients MRI's/Healthy/H_29011.jpg  \n",
            "  inflating: Breast Cancer Patients MRI's/Healthy/H_2911.jpg  \n",
            "  inflating: Breast Cancer Patients MRI's/Healthy/H_29111.jpg  \n",
            "  inflating: Breast Cancer Patients MRI's/Healthy/H_29211.jpg  \n",
            "  inflating: Breast Cancer Patients MRI's/Healthy/H_293111.jpg  \n",
            "  inflating: Breast Cancer Patients MRI's/Healthy/H_29411.jpg  \n",
            "  inflating: Breast Cancer Patients MRI's/Healthy/H_29511.jpg  \n",
            "  inflating: Breast Cancer Patients MRI's/Healthy/H_29611.jpg  \n",
            "  inflating: Breast Cancer Patients MRI's/Healthy/H_29711.jpg  \n",
            "  inflating: Breast Cancer Patients MRI's/Healthy/H_29811.jpg  \n",
            "  inflating: Breast Cancer Patients MRI's/Healthy/H_29911.jpg  \n",
            "  inflating: Breast Cancer Patients MRI's/Healthy/H_30011.jpg  \n",
            "  inflating: Breast Cancer Patients MRI's/Healthy/H_3011.jpg  \n",
            "  inflating: Breast Cancer Patients MRI's/Healthy/H_30111.jpg  \n",
            "  inflating: Breast Cancer Patients MRI's/Healthy/H_30211.jpg  \n",
            "  inflating: Breast Cancer Patients MRI's/Healthy/H_30311.jpg  \n",
            "  inflating: Breast Cancer Patients MRI's/Healthy/H_30411.jpg  \n",
            "  inflating: Breast Cancer Patients MRI's/Healthy/H_30511.jpg  \n",
            "  inflating: Breast Cancer Patients MRI's/Healthy/H_30611.jpg  \n",
            "  inflating: Breast Cancer Patients MRI's/Healthy/H_30711.jpg  \n",
            "  inflating: Breast Cancer Patients MRI's/Healthy/H_30811.jpg  \n",
            "  inflating: Breast Cancer Patients MRI's/Healthy/H_30911.jpg  \n",
            "  inflating: Breast Cancer Patients MRI's/Healthy/H_31011.jpg  \n",
            "  inflating: Breast Cancer Patients MRI's/Healthy/H_3111.jpg  \n",
            "  inflating: Breast Cancer Patients MRI's/Healthy/H_31111.jpg  \n",
            "  inflating: Breast Cancer Patients MRI's/Healthy/H_3121.jpg  \n",
            "  inflating: Breast Cancer Patients MRI's/Healthy/H_31221.jpg  \n",
            "  inflating: Breast Cancer Patients MRI's/Healthy/H_31311.jpg  \n",
            "  inflating: Breast Cancer Patients MRI's/Healthy/H_31411.jpg  \n",
            "  inflating: Breast Cancer Patients MRI's/Healthy/H_31511.jpg  \n",
            "  inflating: Breast Cancer Patients MRI's/Healthy/H_31611.jpg  \n",
            "  inflating: Breast Cancer Patients MRI's/Healthy/H_31711.jpg  \n",
            "  inflating: Breast Cancer Patients MRI's/Healthy/H_31811.jpg  \n",
            "  inflating: Breast Cancer Patients MRI's/Healthy/H_31911.jpg  \n",
            "  inflating: Breast Cancer Patients MRI's/Healthy/H_32011.jpg  \n",
            "  inflating: Breast Cancer Patients MRI's/Healthy/H_3211.jpg  \n",
            "  inflating: Breast Cancer Patients MRI's/Healthy/H_32111.jpg  \n",
            "  inflating: Breast Cancer Patients MRI's/Healthy/H_32211.jpg  \n",
            "  inflating: Breast Cancer Patients MRI's/Healthy/H_32311.jpg  \n",
            "  inflating: Breast Cancer Patients MRI's/Healthy/H_32411.jpg  \n",
            "  inflating: Breast Cancer Patients MRI's/Healthy/H_32511.jpg  \n",
            "  inflating: Breast Cancer Patients MRI's/Healthy/H_32611.jpg  \n",
            "  inflating: Breast Cancer Patients MRI's/Healthy/H_32711.jpg  \n",
            "  inflating: Breast Cancer Patients MRI's/Healthy/H_32811.jpg  \n",
            "  inflating: Breast Cancer Patients MRI's/Healthy/H_32911.jpg  \n",
            "  inflating: Breast Cancer Patients MRI's/Healthy/H_33011.jpg  \n",
            "  inflating: Breast Cancer Patients MRI's/Healthy/H_3311.jpg  \n",
            "  inflating: Breast Cancer Patients MRI's/Healthy/H_33111.jpg  \n",
            "  inflating: Breast Cancer Patients MRI's/Healthy/H_33211.jpg  \n",
            "  inflating: Breast Cancer Patients MRI's/Healthy/H_33311.jpg  \n",
            "  inflating: Breast Cancer Patients MRI's/Healthy/H_33411.jpg  \n",
            "  inflating: Breast Cancer Patients MRI's/Healthy/H_33511.jpg  \n",
            "  inflating: Breast Cancer Patients MRI's/Healthy/H_33611.jpg  \n",
            "  inflating: Breast Cancer Patients MRI's/Healthy/H_33711.jpg  \n",
            "  inflating: Breast Cancer Patients MRI's/Healthy/H_33811.jpg  \n",
            "  inflating: Breast Cancer Patients MRI's/Healthy/H_33911.jpg  \n",
            "  inflating: Breast Cancer Patients MRI's/Healthy/H_34011.jpg  \n",
            "  inflating: Breast Cancer Patients MRI's/Healthy/H_3411.jpg  \n",
            "  inflating: Breast Cancer Patients MRI's/Healthy/H_34111.jpg  \n",
            "  inflating: Breast Cancer Patients MRI's/Healthy/H_34211.jpg  \n",
            "  inflating: Breast Cancer Patients MRI's/Healthy/H_34311.jpg  \n",
            "  inflating: Breast Cancer Patients MRI's/Healthy/H_34411.jpg  \n",
            "  inflating: Breast Cancer Patients MRI's/Healthy/H_34511.jpg  \n",
            "  inflating: Breast Cancer Patients MRI's/Healthy/H_34611.jpg  \n",
            "  inflating: Breast Cancer Patients MRI's/Healthy/H_34711.jpg  \n",
            "  inflating: Breast Cancer Patients MRI's/Healthy/H_34811.jpg  \n",
            "  inflating: Breast Cancer Patients MRI's/Healthy/H_34911.jpg  \n",
            "  inflating: Breast Cancer Patients MRI's/Healthy/H_35011.jpg  \n",
            "  inflating: Breast Cancer Patients MRI's/Healthy/H_3511.jpg  \n",
            "  inflating: Breast Cancer Patients MRI's/Healthy/H_35111.jpg  \n",
            "  inflating: Breast Cancer Patients MRI's/Healthy/H_35211.jpg  \n",
            "  inflating: Breast Cancer Patients MRI's/Healthy/H_35311.jpg  \n",
            "  inflating: Breast Cancer Patients MRI's/Healthy/H_35411.jpg  \n",
            "  inflating: Breast Cancer Patients MRI's/Healthy/H_35511.jpg  \n",
            "  inflating: Breast Cancer Patients MRI's/Healthy/H_35611.jpg  \n",
            "  inflating: Breast Cancer Patients MRI's/Healthy/H_35722.jpg  \n",
            "  inflating: Breast Cancer Patients MRI's/Healthy/H_35822.jpg  \n",
            "  inflating: Breast Cancer Patients MRI's/Healthy/H_35911.jpg  \n",
            "  inflating: Breast Cancer Patients MRI's/Healthy/H_36011.jpg  \n",
            "  inflating: Breast Cancer Patients MRI's/Healthy/H_3611.jpg  \n",
            "  inflating: Breast Cancer Patients MRI's/Healthy/H_36111.jpg  \n",
            "  inflating: Breast Cancer Patients MRI's/Healthy/H_36211.jpg  \n",
            "  inflating: Breast Cancer Patients MRI's/Healthy/H_36311.jpg  \n",
            "  inflating: Breast Cancer Patients MRI's/Healthy/H_36411.jpg  \n",
            "  inflating: Breast Cancer Patients MRI's/Healthy/H_36511.jpg  \n",
            "  inflating: Breast Cancer Patients MRI's/Healthy/H_36611.jpg  \n",
            "  inflating: Breast Cancer Patients MRI's/Healthy/H_36711.jpg  \n",
            "  inflating: Breast Cancer Patients MRI's/Healthy/H_36811.jpg  \n",
            "  inflating: Breast Cancer Patients MRI's/Healthy/H_36911.jpg  \n",
            "  inflating: Breast Cancer Patients MRI's/Healthy/H_37011.jpg  \n",
            "  inflating: Breast Cancer Patients MRI's/Healthy/H_3711.jpg  \n",
            "  inflating: Breast Cancer Patients MRI's/Healthy/H_37111.jpg  \n",
            "  inflating: Breast Cancer Patients MRI's/Healthy/H_37211.jpg  \n",
            "  inflating: Breast Cancer Patients MRI's/Healthy/H_37311.jpg  \n",
            "  inflating: Breast Cancer Patients MRI's/Healthy/H_37411.jpg  \n",
            "  inflating: Breast Cancer Patients MRI's/Healthy/H_37511.jpg  \n",
            "  inflating: Breast Cancer Patients MRI's/Healthy/H_37611.jpg  \n",
            "  inflating: Breast Cancer Patients MRI's/Healthy/H_37711.jpg  \n",
            "  inflating: Breast Cancer Patients MRI's/Healthy/H_37811.jpg  \n",
            "  inflating: Breast Cancer Patients MRI's/Healthy/H_37911.jpg  \n",
            "  inflating: Breast Cancer Patients MRI's/Healthy/H_38011.jpg  \n",
            "  inflating: Breast Cancer Patients MRI's/Healthy/H_3811.jpg  \n",
            "  inflating: Breast Cancer Patients MRI's/Healthy/H_38111.jpg  \n",
            "  inflating: Breast Cancer Patients MRI's/Healthy/H_38211.jpg  \n",
            "  inflating: Breast Cancer Patients MRI's/Healthy/H_38311.jpg  \n",
            "  inflating: Breast Cancer Patients MRI's/Healthy/H_38411.jpg  \n",
            "  inflating: Breast Cancer Patients MRI's/Healthy/H_38511.jpg  \n",
            "  inflating: Breast Cancer Patients MRI's/Healthy/H_38611.jpg  \n",
            "  inflating: Breast Cancer Patients MRI's/Healthy/H_38711.jpg  \n",
            "  inflating: Breast Cancer Patients MRI's/Healthy/H_38811.jpg  \n",
            "  inflating: Breast Cancer Patients MRI's/Healthy/H_38911.jpg  \n",
            "  inflating: Breast Cancer Patients MRI's/Healthy/H_39011.jpg  \n",
            "  inflating: Breast Cancer Patients MRI's/Healthy/H_3911.jpg  \n",
            "  inflating: Breast Cancer Patients MRI's/Healthy/H_39111.jpg  \n",
            "  inflating: Breast Cancer Patients MRI's/Healthy/H_39211.jpg  \n",
            "  inflating: Breast Cancer Patients MRI's/Healthy/H_39411.jpg  \n",
            "  inflating: Breast Cancer Patients MRI's/Healthy/H_39511.jpg  \n",
            "  inflating: Breast Cancer Patients MRI's/Healthy/H_39611.jpg  \n",
            "  inflating: Breast Cancer Patients MRI's/Healthy/H_39711.jpg  \n",
            "  inflating: Breast Cancer Patients MRI's/Healthy/H_39811.jpg  \n",
            "  inflating: Breast Cancer Patients MRI's/Healthy/H_39911.jpg  \n",
            "  inflating: Breast Cancer Patients MRI's/Healthy/H_40011.jpg  \n",
            "  inflating: Breast Cancer Patients MRI's/Healthy/H_40211.jpg  \n",
            "  inflating: Breast Cancer Patients MRI's/Healthy/H_40311.jpg  \n",
            "  inflating: Breast Cancer Patients MRI's/Healthy/H_40411.jpg  \n",
            "  inflating: Breast Cancer Patients MRI's/Healthy/H_40511.jpg  \n",
            "  inflating: Breast Cancer Patients MRI's/Healthy/H_40611.jpg  \n",
            "  inflating: Breast Cancer Patients MRI's/Healthy/H_40711.jpg  \n",
            "  inflating: Breast Cancer Patients MRI's/Healthy/H_40811.jpg  \n",
            "  inflating: Breast Cancer Patients MRI's/Healthy/H_40911.jpg  \n",
            "  inflating: Breast Cancer Patients MRI's/Healthy/H_41011.jpg  \n",
            "  inflating: Breast Cancer Patients MRI's/Healthy/H_4111.jpg  \n",
            "  inflating: Breast Cancer Patients MRI's/Healthy/H_41121.jpg  \n",
            "  inflating: Breast Cancer Patients MRI's/Healthy/H_4121.jpg  \n",
            "  inflating: Breast Cancer Patients MRI's/Healthy/H_41211.jpg  \n",
            "  inflating: Breast Cancer Patients MRI's/Healthy/H_41311.jpg  \n",
            "  inflating: Breast Cancer Patients MRI's/Healthy/H_41511.jpg  \n",
            "  inflating: Breast Cancer Patients MRI's/Healthy/H_41611.jpg  \n",
            "  inflating: Breast Cancer Patients MRI's/Healthy/H_41711.jpg  \n",
            "  inflating: Breast Cancer Patients MRI's/Healthy/H_41811.jpg  \n",
            "  inflating: Breast Cancer Patients MRI's/Healthy/H_41911.jpg  \n",
            "  inflating: Breast Cancer Patients MRI's/Healthy/H_42011.jpg  \n",
            "  inflating: Breast Cancer Patients MRI's/Healthy/H_42111.jpg  \n",
            "  inflating: Breast Cancer Patients MRI's/Healthy/H_4212.jpg  \n",
            "  inflating: Breast Cancer Patients MRI's/Healthy/H_42211.jpg  \n",
            "  inflating: Breast Cancer Patients MRI's/Healthy/H_42411.jpg  \n",
            "  inflating: Breast Cancer Patients MRI's/Healthy/H_42511.jpg  \n",
            "  inflating: Breast Cancer Patients MRI's/Healthy/H_42611.jpg  \n",
            "  inflating: Breast Cancer Patients MRI's/Healthy/H_42711.jpg  \n",
            "  inflating: Breast Cancer Patients MRI's/Healthy/H_42811.jpg  \n",
            "  inflating: Breast Cancer Patients MRI's/Healthy/H_42911.jpg  \n",
            "  inflating: Breast Cancer Patients MRI's/Healthy/H_43011.jpg  \n",
            "  inflating: Breast Cancer Patients MRI's/Healthy/H_4311.jpg  \n",
            "  inflating: Breast Cancer Patients MRI's/Healthy/H_43111.jpg  \n",
            "  inflating: Breast Cancer Patients MRI's/Healthy/H_43211.jpg  \n",
            "  inflating: Breast Cancer Patients MRI's/Healthy/H_43311.jpg  \n",
            "  inflating: Breast Cancer Patients MRI's/Healthy/H_43411.jpg  \n",
            "  inflating: Breast Cancer Patients MRI's/Healthy/H_43511.jpg  \n",
            "  inflating: Breast Cancer Patients MRI's/Healthy/H_43611.jpg  \n",
            "  inflating: Breast Cancer Patients MRI's/Healthy/H_43711.jpg  \n",
            "  inflating: Breast Cancer Patients MRI's/Healthy/H_43811.jpg  \n",
            "  inflating: Breast Cancer Patients MRI's/Healthy/H_43911.jpg  \n",
            "  inflating: Breast Cancer Patients MRI's/Healthy/H_44011.jpg  \n",
            "  inflating: Breast Cancer Patients MRI's/Healthy/H_4411.jpg  \n",
            "  inflating: Breast Cancer Patients MRI's/Healthy/H_44111.jpg  \n",
            "  inflating: Breast Cancer Patients MRI's/Healthy/H_44211.jpg  \n",
            "  inflating: Breast Cancer Patients MRI's/Healthy/H_44311.jpg  \n",
            "  inflating: Breast Cancer Patients MRI's/Healthy/H_44411.jpg  \n",
            "  inflating: Breast Cancer Patients MRI's/Healthy/H_44511.jpg  \n",
            "  inflating: Breast Cancer Patients MRI's/Healthy/H_44611.jpg  \n",
            "  inflating: Breast Cancer Patients MRI's/Healthy/H_44711.jpg  \n",
            "  inflating: Breast Cancer Patients MRI's/Healthy/H_44811.jpg  \n",
            "  inflating: Breast Cancer Patients MRI's/Healthy/H_44911.jpg  \n",
            "  inflating: Breast Cancer Patients MRI's/Healthy/H_45011.jpg  \n",
            "  inflating: Breast Cancer Patients MRI's/Healthy/H_4511.jpg  \n",
            "  inflating: Breast Cancer Patients MRI's/Healthy/H_45111.jpg  \n",
            "  inflating: Breast Cancer Patients MRI's/Healthy/H_45211.jpg  \n",
            "  inflating: Breast Cancer Patients MRI's/Healthy/H_45311.jpg  \n",
            "  inflating: Breast Cancer Patients MRI's/Healthy/H_45411.jpg  \n",
            "  inflating: Breast Cancer Patients MRI's/Healthy/H_45511.jpg  \n",
            "  inflating: Breast Cancer Patients MRI's/Healthy/H_45611.jpg  \n",
            "  inflating: Breast Cancer Patients MRI's/Healthy/H_45711.jpg  \n",
            "  inflating: Breast Cancer Patients MRI's/Healthy/H_45811.jpg  \n",
            "  inflating: Breast Cancer Patients MRI's/Healthy/H_45911.jpg  \n",
            "  inflating: Breast Cancer Patients MRI's/Healthy/H_46011.jpg  \n",
            "  inflating: Breast Cancer Patients MRI's/Healthy/H_4611.jpg  \n",
            "  inflating: Breast Cancer Patients MRI's/Healthy/H_46111.jpg  \n",
            "  inflating: Breast Cancer Patients MRI's/Healthy/H_46211.jpg  \n",
            "  inflating: Breast Cancer Patients MRI's/Healthy/H_46311.jpg  \n",
            "  inflating: Breast Cancer Patients MRI's/Healthy/H_46377.jpg  \n",
            "  inflating: Breast Cancer Patients MRI's/Healthy/H_46411.jpg  \n",
            "  inflating: Breast Cancer Patients MRI's/Healthy/H_46511.jpg  \n",
            "  inflating: Breast Cancer Patients MRI's/Healthy/H_46611.jpg  \n",
            "  inflating: Breast Cancer Patients MRI's/Healthy/H_46711.jpg  \n",
            "  inflating: Breast Cancer Patients MRI's/Healthy/H_46811.jpg  \n",
            "  inflating: Breast Cancer Patients MRI's/Healthy/H_46911.jpg  \n",
            "  inflating: Breast Cancer Patients MRI's/Healthy/H_47011.jpg  \n",
            "  inflating: Breast Cancer Patients MRI's/Healthy/H_4711.jpg  \n",
            "  inflating: Breast Cancer Patients MRI's/Healthy/H_47111.jpg  \n",
            "  inflating: Breast Cancer Patients MRI's/Healthy/H_47211.jpg  \n",
            "  inflating: Breast Cancer Patients MRI's/Healthy/H_47311.jpg  \n",
            "  inflating: Breast Cancer Patients MRI's/Healthy/H_47411.jpg  \n",
            "  inflating: Breast Cancer Patients MRI's/Healthy/H_47511.jpg  \n",
            "  inflating: Breast Cancer Patients MRI's/Healthy/H_47611.jpg  \n",
            "  inflating: Breast Cancer Patients MRI's/Healthy/H_47711.jpg  \n",
            "  inflating: Breast Cancer Patients MRI's/Healthy/H_47811.jpg  \n",
            "  inflating: Breast Cancer Patients MRI's/Healthy/H_47911.jpg  \n",
            "  inflating: Breast Cancer Patients MRI's/Healthy/H_48011.jpg  \n",
            "  inflating: Breast Cancer Patients MRI's/Healthy/H_4811.jpg  \n",
            "  inflating: Breast Cancer Patients MRI's/Healthy/H_48111.jpg  \n",
            "  inflating: Breast Cancer Patients MRI's/Healthy/H_48211.jpg  \n",
            "  inflating: Breast Cancer Patients MRI's/Healthy/H_48311.jpg  \n",
            "  inflating: Breast Cancer Patients MRI's/Healthy/H_48411.jpg  \n",
            "  inflating: Breast Cancer Patients MRI's/Healthy/H_48511.jpg  \n",
            "  inflating: Breast Cancer Patients MRI's/Healthy/H_4911.jpg  \n",
            "  inflating: Breast Cancer Patients MRI's/Healthy/H_5011.jpg  \n",
            "  inflating: Breast Cancer Patients MRI's/Healthy/H_5111.jpg  \n",
            "  inflating: Breast Cancer Patients MRI's/Healthy/H_51111.jpg  \n",
            "  inflating: Breast Cancer Patients MRI's/Healthy/H_5211.jpg  \n",
            "  inflating: Breast Cancer Patients MRI's/Healthy/H_52811.jpg  \n",
            "  inflating: Breast Cancer Patients MRI's/Healthy/H_52911.jpg  \n",
            "  inflating: Breast Cancer Patients MRI's/Healthy/H_53011.jpg  \n",
            "  inflating: Breast Cancer Patients MRI's/Healthy/H_5311.jpg  \n",
            "  inflating: Breast Cancer Patients MRI's/Healthy/H_53111.jpg  \n",
            "  inflating: Breast Cancer Patients MRI's/Healthy/H_53211.jpg  \n",
            "  inflating: Breast Cancer Patients MRI's/Healthy/H_53311.jpg  \n",
            "  inflating: Breast Cancer Patients MRI's/Healthy/H_53411.jpg  \n",
            "  inflating: Breast Cancer Patients MRI's/Healthy/H_53511.jpg  \n",
            "  inflating: Breast Cancer Patients MRI's/Healthy/H_53611.jpg  \n",
            "  inflating: Breast Cancer Patients MRI's/Healthy/H_53711.jpg  \n",
            "  inflating: Breast Cancer Patients MRI's/Healthy/H_53811.jpg  \n",
            "  inflating: Breast Cancer Patients MRI's/Healthy/H_53911.jpg  \n",
            "  inflating: Breast Cancer Patients MRI's/Healthy/H_54011.jpg  \n",
            "  inflating: Breast Cancer Patients MRI's/Healthy/H_5411.jpg  \n",
            "  inflating: Breast Cancer Patients MRI's/Healthy/H_54111.jpg  \n",
            "  inflating: Breast Cancer Patients MRI's/Healthy/H_54211.jpg  \n",
            "  inflating: Breast Cancer Patients MRI's/Healthy/H_54311.jpg  \n",
            "  inflating: Breast Cancer Patients MRI's/Healthy/H_54411.jpg  \n",
            "  inflating: Breast Cancer Patients MRI's/Healthy/H_54511.jpg  \n",
            "  inflating: Breast Cancer Patients MRI's/Healthy/H_54611.jpg  \n",
            "  inflating: Breast Cancer Patients MRI's/Healthy/H_54711.jpg  \n",
            "  inflating: Breast Cancer Patients MRI's/Healthy/H_54811.jpg  \n",
            "  inflating: Breast Cancer Patients MRI's/Healthy/H_54911.jpg  \n",
            "  inflating: Breast Cancer Patients MRI's/Healthy/H_55011.jpg  \n",
            "  inflating: Breast Cancer Patients MRI's/Healthy/H_5511.jpg  \n",
            "  inflating: Breast Cancer Patients MRI's/Healthy/H_55111.jpg  \n",
            "  inflating: Breast Cancer Patients MRI's/Healthy/H_55211.jpg  \n",
            "  inflating: Breast Cancer Patients MRI's/Healthy/H_55311.jpg  \n",
            "  inflating: Breast Cancer Patients MRI's/Healthy/H_55411.jpg  \n",
            "  inflating: Breast Cancer Patients MRI's/Healthy/H_55511.jpg  \n",
            "  inflating: Breast Cancer Patients MRI's/Healthy/H_55611.jpg  \n",
            "  inflating: Breast Cancer Patients MRI's/Healthy/H_55711.jpg  \n",
            "  inflating: Breast Cancer Patients MRI's/Healthy/H_55811.jpg  \n",
            "  inflating: Breast Cancer Patients MRI's/Healthy/H_55911.jpg  \n",
            "  inflating: Breast Cancer Patients MRI's/Healthy/H_56011.jpg  \n",
            "  inflating: Breast Cancer Patients MRI's/Healthy/H_5611.jpg  \n",
            "  inflating: Breast Cancer Patients MRI's/Healthy/H_56111.jpg  \n",
            "  inflating: Breast Cancer Patients MRI's/Healthy/H_56211.jpg  \n",
            "  inflating: Breast Cancer Patients MRI's/Healthy/H_56311.jpg  \n",
            "  inflating: Breast Cancer Patients MRI's/Healthy/H_56411.jpg  \n",
            "  inflating: Breast Cancer Patients MRI's/Healthy/H_56511.jpg  \n",
            "  inflating: Breast Cancer Patients MRI's/Healthy/H_56611.jpg  \n",
            "  inflating: Breast Cancer Patients MRI's/Healthy/H_56711.jpg  \n",
            "  inflating: Breast Cancer Patients MRI's/Healthy/H_56811.jpg  \n",
            "  inflating: Breast Cancer Patients MRI's/Healthy/H_56911.jpg  \n",
            "  inflating: Breast Cancer Patients MRI's/Healthy/H_57011.jpg  \n",
            "  inflating: Breast Cancer Patients MRI's/Healthy/H_5711.jpg  \n",
            "  inflating: Breast Cancer Patients MRI's/Healthy/H_57111.jpg  \n",
            "  inflating: Breast Cancer Patients MRI's/Healthy/H_57211.jpg  \n",
            "  inflating: Breast Cancer Patients MRI's/Healthy/H_57311.jpg  \n",
            "  inflating: Breast Cancer Patients MRI's/Healthy/H_57411.jpg  \n",
            "  inflating: Breast Cancer Patients MRI's/Healthy/H_57511.jpg  \n",
            "  inflating: Breast Cancer Patients MRI's/Healthy/H_57611.jpg  \n",
            "  inflating: Breast Cancer Patients MRI's/Healthy/H_57711.jpg  \n",
            "  inflating: Breast Cancer Patients MRI's/Healthy/H_57811.jpg  \n",
            "  inflating: Breast Cancer Patients MRI's/Healthy/H_57911.jpg  \n",
            "  inflating: Breast Cancer Patients MRI's/Healthy/H_58011.jpg  \n",
            "  inflating: Breast Cancer Patients MRI's/Healthy/H_5811.jpg  \n",
            "  inflating: Breast Cancer Patients MRI's/Healthy/H_58111.jpg  \n",
            "  inflating: Breast Cancer Patients MRI's/Healthy/H_58211.jpg  \n",
            "  inflating: Breast Cancer Patients MRI's/Healthy/H_58311.jpg  \n",
            "  inflating: Breast Cancer Patients MRI's/Healthy/H_58411.jpg  \n",
            "  inflating: Breast Cancer Patients MRI's/Healthy/H_58511.jpg  \n",
            "  inflating: Breast Cancer Patients MRI's/Healthy/H_58611.jpg  \n",
            "  inflating: Breast Cancer Patients MRI's/Healthy/H_58711.jpg  \n",
            "  inflating: Breast Cancer Patients MRI's/Healthy/H_58811.jpg  \n",
            "  inflating: Breast Cancer Patients MRI's/Healthy/H_58911.jpg  \n",
            "  inflating: Breast Cancer Patients MRI's/Healthy/H_59011.jpg  \n",
            "  inflating: Breast Cancer Patients MRI's/Healthy/H_5911.jpg  \n",
            "  inflating: Breast Cancer Patients MRI's/Healthy/H_59111.jpg  \n",
            "  inflating: Breast Cancer Patients MRI's/Healthy/H_59211.jpg  \n",
            "  inflating: Breast Cancer Patients MRI's/Healthy/H_59311.jpg  \n",
            "  inflating: Breast Cancer Patients MRI's/Healthy/H_59411.jpg  \n",
            "  inflating: Breast Cancer Patients MRI's/Healthy/H_59511.jpg  \n",
            "  inflating: Breast Cancer Patients MRI's/Healthy/H_59611.jpg  \n",
            "  inflating: Breast Cancer Patients MRI's/Healthy/H_59711.jpg  \n",
            "  inflating: Breast Cancer Patients MRI's/Healthy/H_59811.jpg  \n",
            "  inflating: Breast Cancer Patients MRI's/Healthy/H_59911.jpg  \n",
            "  inflating: Breast Cancer Patients MRI's/Healthy/H_60011.jpg  \n",
            "  inflating: Breast Cancer Patients MRI's/Healthy/H_6011.jpg  \n",
            "  inflating: Breast Cancer Patients MRI's/Healthy/H_60111.jpg  \n",
            "  inflating: Breast Cancer Patients MRI's/Healthy/H_60211.jpg  \n",
            "  inflating: Breast Cancer Patients MRI's/Healthy/H_60311.jpg  \n",
            "  inflating: Breast Cancer Patients MRI's/Healthy/H_60411.jpg  \n",
            "  inflating: Breast Cancer Patients MRI's/Healthy/H_60511.jpg  \n",
            "  inflating: Breast Cancer Patients MRI's/Healthy/H_60611.jpg  \n",
            "  inflating: Breast Cancer Patients MRI's/Healthy/H_60711.jpg  \n",
            "  inflating: Breast Cancer Patients MRI's/Healthy/H_60811.jpg  \n",
            "  inflating: Breast Cancer Patients MRI's/Healthy/H_60911.jpg  \n",
            "  inflating: Breast Cancer Patients MRI's/Healthy/H_61011.jpg  \n",
            "  inflating: Breast Cancer Patients MRI's/Healthy/H_6111.jpg  \n",
            "  inflating: Breast Cancer Patients MRI's/Healthy/H_61111.jpg  \n",
            "  inflating: Breast Cancer Patients MRI's/Healthy/H_6121.jpg  \n",
            "  inflating: Breast Cancer Patients MRI's/Healthy/H_61211.jpg  \n",
            "  inflating: Breast Cancer Patients MRI's/Healthy/H_61311.jpg  \n",
            "  inflating: Breast Cancer Patients MRI's/Healthy/H_614111.jpg  \n",
            "  inflating: Breast Cancer Patients MRI's/Healthy/H_61511.jpg  \n",
            "  inflating: Breast Cancer Patients MRI's/Healthy/H_61611.jpg  \n",
            "  inflating: Breast Cancer Patients MRI's/Healthy/H_61711.jpg  \n",
            "  inflating: Breast Cancer Patients MRI's/Healthy/H_61811.jpg  \n",
            "  inflating: Breast Cancer Patients MRI's/Healthy/H_61911.jpg  \n",
            "  inflating: Breast Cancer Patients MRI's/Healthy/H_62011.jpg  \n",
            "  inflating: Breast Cancer Patients MRI's/Healthy/H_6211.jpg  \n",
            "  inflating: Breast Cancer Patients MRI's/Healthy/H_62111.jpg  \n",
            "  inflating: Breast Cancer Patients MRI's/Healthy/H_62211.jpg  \n",
            "  inflating: Breast Cancer Patients MRI's/Healthy/H_62311.jpg  \n",
            "  inflating: Breast Cancer Patients MRI's/Healthy/H_62411.jpg  \n",
            "  inflating: Breast Cancer Patients MRI's/Healthy/H_62511.jpg  \n",
            "  inflating: Breast Cancer Patients MRI's/Healthy/H_62611.jpg  \n",
            "  inflating: Breast Cancer Patients MRI's/Healthy/H_62711.jpg  \n",
            "  inflating: Breast Cancer Patients MRI's/Healthy/H_62811.jpg  \n",
            "  inflating: Breast Cancer Patients MRI's/Healthy/H_62911.jpg  \n",
            "  inflating: Breast Cancer Patients MRI's/Healthy/H_63011.jpg  \n",
            "  inflating: Breast Cancer Patients MRI's/Healthy/H_6311.jpg  \n",
            "  inflating: Breast Cancer Patients MRI's/Healthy/H_63111.jpg  \n",
            "  inflating: Breast Cancer Patients MRI's/Healthy/H_63211.jpg  \n",
            "  inflating: Breast Cancer Patients MRI's/Healthy/H_63311.jpg  \n",
            "  inflating: Breast Cancer Patients MRI's/Healthy/H_63411.jpg  \n",
            "  inflating: Breast Cancer Patients MRI's/Healthy/H_63511.jpg  \n",
            "  inflating: Breast Cancer Patients MRI's/Healthy/H_63611.jpg  \n",
            "  inflating: Breast Cancer Patients MRI's/Healthy/H_63711.jpg  \n",
            "  inflating: Breast Cancer Patients MRI's/Healthy/H_63811.jpg  \n",
            "  inflating: Breast Cancer Patients MRI's/Healthy/H_63911.jpg  \n",
            "  inflating: Breast Cancer Patients MRI's/Healthy/H_64011.jpg  \n",
            "  inflating: Breast Cancer Patients MRI's/Healthy/H_64111.jpg  \n",
            "  inflating: Breast Cancer Patients MRI's/Healthy/H_64211.jpg  \n",
            "  inflating: Breast Cancer Patients MRI's/Healthy/H_64311.jpg  \n",
            "  inflating: Breast Cancer Patients MRI's/Healthy/H_64411.jpg  \n",
            "  inflating: Breast Cancer Patients MRI's/Healthy/H_64511.jpg  \n",
            "  inflating: Breast Cancer Patients MRI's/Healthy/H_64611.jpg  \n",
            "  inflating: Breast Cancer Patients MRI's/Healthy/H_64711.jpg  \n",
            "  inflating: Breast Cancer Patients MRI's/Healthy/H_64811.jpg  \n",
            "  inflating: Breast Cancer Patients MRI's/Healthy/H_64911.jpg  \n",
            "  inflating: Breast Cancer Patients MRI's/Healthy/H_65011.jpg  \n",
            "  inflating: Breast Cancer Patients MRI's/Healthy/H_6511.jpg  \n",
            "  inflating: Breast Cancer Patients MRI's/Healthy/H_65111.jpg  \n",
            "  inflating: Breast Cancer Patients MRI's/Healthy/H_65211.jpg  \n",
            "  inflating: Breast Cancer Patients MRI's/Healthy/H_65311.jpg  \n",
            "  inflating: Breast Cancer Patients MRI's/Healthy/H_65411.jpg  \n",
            "  inflating: Breast Cancer Patients MRI's/Healthy/H_65511.jpg  \n",
            "  inflating: Breast Cancer Patients MRI's/Healthy/H_65611.jpg  \n",
            "  inflating: Breast Cancer Patients MRI's/Healthy/H_65711.jpg  \n",
            "  inflating: Breast Cancer Patients MRI's/Healthy/H_65811.jpg  \n",
            "  inflating: Breast Cancer Patients MRI's/Healthy/H_65911.jpg  \n",
            "  inflating: Breast Cancer Patients MRI's/Healthy/H_66011.jpg  \n",
            "  inflating: Breast Cancer Patients MRI's/Healthy/H_6611.jpg  \n",
            "  inflating: Breast Cancer Patients MRI's/Healthy/H_66111.jpg  \n",
            "  inflating: Breast Cancer Patients MRI's/Healthy/H_66211.jpg  \n",
            "  inflating: Breast Cancer Patients MRI's/Healthy/H_66311.jpg  \n",
            "  inflating: Breast Cancer Patients MRI's/Healthy/H_66411.jpg  \n",
            "  inflating: Breast Cancer Patients MRI's/Healthy/H_66511.jpg  \n",
            "  inflating: Breast Cancer Patients MRI's/Healthy/H_6654.jpg  \n",
            "  inflating: Breast Cancer Patients MRI's/Healthy/H_66611.jpg  \n",
            "  inflating: Breast Cancer Patients MRI's/Healthy/H_66711.jpg  \n",
            "  inflating: Breast Cancer Patients MRI's/Healthy/H_66811.jpg  \n",
            "  inflating: Breast Cancer Patients MRI's/Healthy/H_66911.jpg  \n",
            "  inflating: Breast Cancer Patients MRI's/Healthy/H_67011.jpg  \n",
            "  inflating: Breast Cancer Patients MRI's/Healthy/H_6711.jpg  \n",
            "  inflating: Breast Cancer Patients MRI's/Healthy/H_67111.jpg  \n",
            "  inflating: Breast Cancer Patients MRI's/Healthy/H_67211.jpg  \n",
            "  inflating: Breast Cancer Patients MRI's/Healthy/H_67311.jpg  \n",
            "  inflating: Breast Cancer Patients MRI's/Healthy/H_67411.jpg  \n",
            "  inflating: Breast Cancer Patients MRI's/Healthy/H_67511.jpg  \n",
            "  inflating: Breast Cancer Patients MRI's/Healthy/H_67611.jpg  \n",
            "  inflating: Breast Cancer Patients MRI's/Healthy/H_67711.jpg  \n",
            "  inflating: Breast Cancer Patients MRI's/Healthy/H_67811.jpg  \n",
            "  inflating: Breast Cancer Patients MRI's/Healthy/H_67911.jpg  \n",
            "  inflating: Breast Cancer Patients MRI's/Healthy/H_68011.jpg  \n",
            "  inflating: Breast Cancer Patients MRI's/Healthy/H_6811.jpg  \n",
            "  inflating: Breast Cancer Patients MRI's/Healthy/H_68111.jpg  \n",
            "  inflating: Breast Cancer Patients MRI's/Healthy/H_68211.jpg  \n",
            "  inflating: Breast Cancer Patients MRI's/Healthy/H_68311.jpg  \n",
            "  inflating: Breast Cancer Patients MRI's/Healthy/H_684111.jpg  \n",
            "  inflating: Breast Cancer Patients MRI's/Healthy/H_68511.jpg  \n",
            "  inflating: Breast Cancer Patients MRI's/Healthy/H_68611.jpg  \n",
            "  inflating: Breast Cancer Patients MRI's/Healthy/H_68711.jpg  \n",
            "  inflating: Breast Cancer Patients MRI's/Healthy/H_68811.jpg  \n",
            "  inflating: Breast Cancer Patients MRI's/Healthy/H_68911.jpg  \n",
            "  inflating: Breast Cancer Patients MRI's/Healthy/H_69011.jpg  \n",
            "  inflating: Breast Cancer Patients MRI's/Healthy/H_69111.jpg  \n",
            "  inflating: Breast Cancer Patients MRI's/Healthy/H_69211.jpg  \n",
            "  inflating: Breast Cancer Patients MRI's/Healthy/H_69311.jpg  \n",
            "  inflating: Breast Cancer Patients MRI's/Healthy/H_69411.jpg  \n",
            "  inflating: Breast Cancer Patients MRI's/Healthy/H_69511.jpg  \n",
            "  inflating: Breast Cancer Patients MRI's/Healthy/H_69611.jpg  \n",
            "  inflating: Breast Cancer Patients MRI's/Healthy/H_69711.jpg  \n",
            "  inflating: Breast Cancer Patients MRI's/Healthy/H_69811.jpg  \n",
            "  inflating: Breast Cancer Patients MRI's/Healthy/H_69911.jpg  \n",
            "  inflating: Breast Cancer Patients MRI's/Healthy/H_70011.jpg  \n",
            "  inflating: Breast Cancer Patients MRI's/Healthy/H_7011.jpg  \n",
            "  inflating: Breast Cancer Patients MRI's/Healthy/H_70111.jpg  \n",
            "  inflating: Breast Cancer Patients MRI's/Healthy/H_70211.jpg  \n",
            "  inflating: Breast Cancer Patients MRI's/Healthy/H_70311.jpg  \n",
            "  inflating: Breast Cancer Patients MRI's/Healthy/H_70411.jpg  \n",
            "  inflating: Breast Cancer Patients MRI's/Healthy/H_70511.jpg  \n",
            "  inflating: Breast Cancer Patients MRI's/Healthy/H_70611.jpg  \n",
            "  inflating: Breast Cancer Patients MRI's/Healthy/H_70711.jpg  \n",
            "  inflating: Breast Cancer Patients MRI's/Healthy/H_70811.jpg  \n",
            "  inflating: Breast Cancer Patients MRI's/Healthy/H_70911.jpg  \n",
            "  inflating: Breast Cancer Patients MRI's/Healthy/H_710111.jpg  \n",
            "  inflating: Breast Cancer Patients MRI's/Healthy/H_7111.jpg  \n",
            "  inflating: Breast Cancer Patients MRI's/Healthy/H_71111.jpg  \n",
            "  inflating: Breast Cancer Patients MRI's/Healthy/H_7121.jpg  \n",
            "  inflating: Breast Cancer Patients MRI's/Healthy/H_71211.jpg  \n",
            "  inflating: Breast Cancer Patients MRI's/Healthy/H_71311.jpg  \n",
            "  inflating: Breast Cancer Patients MRI's/Healthy/H_71411.jpg  \n",
            "  inflating: Breast Cancer Patients MRI's/Healthy/H_71511.jpg  \n",
            "  inflating: Breast Cancer Patients MRI's/Healthy/H_71611.jpg  \n",
            "  inflating: Breast Cancer Patients MRI's/Healthy/H_7221.jpg  \n",
            "  inflating: Breast Cancer Patients MRI's/Healthy/H_7311.jpg  \n",
            "  inflating: Breast Cancer Patients MRI's/Healthy/H_73911.jpg  \n",
            "  inflating: Breast Cancer Patients MRI's/Healthy/H_74011.jpg  \n",
            "  inflating: Breast Cancer Patients MRI's/Healthy/H_7411.jpg  \n",
            "  inflating: Breast Cancer Patients MRI's/Healthy/H_74111.jpg  \n",
            "  inflating: Breast Cancer Patients MRI's/Healthy/H_74211.jpg  \n",
            "  inflating: Breast Cancer Patients MRI's/Healthy/H_74311.jpg  \n",
            "  inflating: Breast Cancer Patients MRI's/Healthy/H_74411.jpg  \n",
            "  inflating: Breast Cancer Patients MRI's/Healthy/H_74511.jpg  \n",
            "  inflating: Breast Cancer Patients MRI's/Healthy/H_74611.jpg  \n",
            "  inflating: Breast Cancer Patients MRI's/Healthy/H_74711.jpg  \n",
            "  inflating: Breast Cancer Patients MRI's/Healthy/H_74747.jpg  \n",
            "  inflating: Breast Cancer Patients MRI's/Healthy/H_74811.jpg  \n",
            "  inflating: Breast Cancer Patients MRI's/Healthy/H_74911.jpg  \n",
            "  inflating: Breast Cancer Patients MRI's/Healthy/H_75011.jpg  \n",
            "  inflating: Breast Cancer Patients MRI's/Healthy/H_7511.jpg  \n",
            "  inflating: Breast Cancer Patients MRI's/Healthy/H_75111.jpg  \n",
            "  inflating: Breast Cancer Patients MRI's/Healthy/H_75211.jpg  \n",
            "  inflating: Breast Cancer Patients MRI's/Healthy/H_75311.jpg  \n",
            "  inflating: Breast Cancer Patients MRI's/Healthy/H_75411.jpg  \n",
            "  inflating: Breast Cancer Patients MRI's/Healthy/H_75511.jpg  \n",
            "  inflating: Breast Cancer Patients MRI's/Healthy/H_75611.jpg  \n",
            "  inflating: Breast Cancer Patients MRI's/Healthy/H_75711.jpg  \n",
            "  inflating: Breast Cancer Patients MRI's/Healthy/H_75811.jpg  \n",
            "  inflating: Breast Cancer Patients MRI's/Healthy/H_75911.jpg  \n",
            "  inflating: Breast Cancer Patients MRI's/Healthy/H_76011.jpg  \n",
            "  inflating: Breast Cancer Patients MRI's/Healthy/H_7611.jpg  \n",
            "  inflating: Breast Cancer Patients MRI's/Healthy/H_76111.jpg  \n",
            "  inflating: Breast Cancer Patients MRI's/Healthy/H_76211.jpg  \n",
            "  inflating: Breast Cancer Patients MRI's/Healthy/H_76311.jpg  \n",
            "  inflating: Breast Cancer Patients MRI's/Healthy/H_76411.jpg  \n",
            "  inflating: Breast Cancer Patients MRI's/Healthy/H_76511.jpg  \n",
            "  inflating: Breast Cancer Patients MRI's/Healthy/H_76611.jpg  \n",
            "  inflating: Breast Cancer Patients MRI's/Healthy/H_76711.jpg  \n",
            "  inflating: Breast Cancer Patients MRI's/Healthy/H_76811.jpg  \n",
            "  inflating: Breast Cancer Patients MRI's/Healthy/H_76911.jpg  \n",
            "  inflating: Breast Cancer Patients MRI's/Healthy/H_77011.jpg  \n",
            "  inflating: Breast Cancer Patients MRI's/Healthy/H_77111.jpg  \n",
            "  inflating: Breast Cancer Patients MRI's/Healthy/H_77211.jpg  \n",
            "  inflating: Breast Cancer Patients MRI's/Healthy/H_77311.jpg  \n",
            "  inflating: Breast Cancer Patients MRI's/Healthy/H_77411.jpg  \n",
            "  inflating: Breast Cancer Patients MRI's/Healthy/H_77511.jpg  \n",
            "  inflating: Breast Cancer Patients MRI's/Healthy/H_77611.jpg  \n",
            "  inflating: Breast Cancer Patients MRI's/Healthy/H_77711.jpg  \n",
            "  inflating: Breast Cancer Patients MRI's/Healthy/H_77811.jpg  \n",
            "  inflating: Breast Cancer Patients MRI's/Healthy/H_77911.jpg  \n",
            "  inflating: Breast Cancer Patients MRI's/Healthy/H_78011.jpg  \n",
            "  inflating: Breast Cancer Patients MRI's/Healthy/H_7811.jpg  \n",
            "  inflating: Breast Cancer Patients MRI's/Healthy/H_78111.jpg  \n",
            "  inflating: Breast Cancer Patients MRI's/Healthy/H_78211.jpg  \n",
            "  inflating: Breast Cancer Patients MRI's/Healthy/H_78311.jpg  \n",
            "  inflating: Breast Cancer Patients MRI's/Healthy/H_78411.jpg  \n",
            "  inflating: Breast Cancer Patients MRI's/Healthy/H_78511.jpg  \n",
            "  inflating: Breast Cancer Patients MRI's/Healthy/H_78611.jpg  \n",
            "  inflating: Breast Cancer Patients MRI's/Healthy/H_78711.jpg  \n",
            "  inflating: Breast Cancer Patients MRI's/Healthy/H_78811.jpg  \n",
            "  inflating: Breast Cancer Patients MRI's/Healthy/H_78911.jpg  \n",
            "  inflating: Breast Cancer Patients MRI's/Healthy/H_79011.jpg  \n",
            "  inflating: Breast Cancer Patients MRI's/Healthy/H_7911.jpg  \n",
            "  inflating: Breast Cancer Patients MRI's/Healthy/H_79111.jpg  \n",
            "  inflating: Breast Cancer Patients MRI's/Healthy/H_79211.jpg  \n",
            "  inflating: Breast Cancer Patients MRI's/Healthy/H_79311.jpg  \n",
            "  inflating: Breast Cancer Patients MRI's/Healthy/H_79411.jpg  \n",
            "  inflating: Breast Cancer Patients MRI's/Healthy/H_79511.jpg  \n",
            "  inflating: Breast Cancer Patients MRI's/Healthy/H_79611.jpg  \n",
            "  inflating: Breast Cancer Patients MRI's/Healthy/H_79711.jpg  \n",
            "  inflating: Breast Cancer Patients MRI's/Healthy/H_79811.jpg  \n",
            "  inflating: Breast Cancer Patients MRI's/Healthy/H_79911.jpg  \n",
            "  inflating: Breast Cancer Patients MRI's/Healthy/H_80011.jpg  \n",
            "  inflating: Breast Cancer Patients MRI's/Healthy/H_8111.jpg  \n",
            "  inflating: Breast Cancer Patients MRI's/Healthy/H_8311.jpg  \n",
            "  inflating: Breast Cancer Patients MRI's/Healthy/H_8511.jpg  \n",
            "  inflating: Breast Cancer Patients MRI's/Healthy/H_8611.jpg  \n",
            "  inflating: Breast Cancer Patients MRI's/Healthy/H_8711.jpg  \n",
            "  inflating: Breast Cancer Patients MRI's/Healthy/H_8765.jpg  \n",
            "  inflating: Breast Cancer Patients MRI's/Healthy/H_8811.jpg  \n",
            "  inflating: Breast Cancer Patients MRI's/Healthy/H_8911.jpg  \n",
            "  inflating: Breast Cancer Patients MRI's/Healthy/H_9011.jpg  \n",
            "  inflating: Breast Cancer Patients MRI's/Healthy/H_9111.jpg  \n",
            "  inflating: Breast Cancer Patients MRI's/Healthy/H_9121.jpg  \n",
            "  inflating: Breast Cancer Patients MRI's/Healthy/H_9211.jpg  \n",
            "  inflating: Breast Cancer Patients MRI's/Healthy/H_9311.jpg  \n",
            "  inflating: Breast Cancer Patients MRI's/Healthy/H_9411.jpg  \n",
            "  inflating: Breast Cancer Patients MRI's/Healthy/H_9511.jpg  \n",
            "  inflating: Breast Cancer Patients MRI's/Healthy/H_9611.jpg  \n",
            "  inflating: Breast Cancer Patients MRI's/Healthy/H_9711.jpg  \n",
            "  inflating: Breast Cancer Patients MRI's/Healthy/H_9811.jpg  \n",
            "  inflating: Breast Cancer Patients MRI's/Healthy/H_9911.jpg  \n",
            "  inflating: Breast Cancer Patients MRI's/Sick/S_12007.jpg  \n",
            "  inflating: Breast Cancer Patients MRI's/Sick/S_3400.jpg  \n",
            "  inflating: Breast Cancer Patients MRI's/Sick/S_3500.jpg  \n",
            "  inflating: Breast Cancer Patients MRI's/Sick/S_3600.jpg  \n",
            "  inflating: Breast Cancer Patients MRI's/Sick/S_3700.jpg  \n",
            "  inflating: Breast Cancer Patients MRI's/Sick/S_3800.jpg  \n",
            "  inflating: Breast Cancer Patients MRI's/Sick/S_3900.jpg  \n",
            "  inflating: Breast Cancer Patients MRI's/Sick/S_4009.jpg  \n",
            "  inflating: Breast Cancer Patients MRI's/Sick/S_4096.jpg  \n",
            "  inflating: Breast Cancer Patients MRI's/Sick/S_4100.jpg  \n",
            "  inflating: Breast Cancer Patients MRI's/Sick/S_4290.jpg  \n",
            "  inflating: Breast Cancer Patients MRI's/Sick/S_4300.jpg  \n",
            "  inflating: Breast Cancer Patients MRI's/Sick/S_4409.jpg  \n",
            "  inflating: Breast Cancer Patients MRI's/Sick/S_4509.jpg  \n",
            "  inflating: Breast Cancer Patients MRI's/Sick/S_4709.jpg  \n",
            "  inflating: Breast Cancer Patients MRI's/Sick/S_4809.jpg  \n",
            "  inflating: Breast Cancer Patients MRI's/Sick/S_4909.jpg  \n",
            "  inflating: Breast Cancer Patients MRI's/Sick/S_5009.jpg  \n",
            "  inflating: Breast Cancer Patients MRI's/Sick/S_5109.jpg  \n",
            "  inflating: Breast Cancer Patients MRI's/Sick/S_5209.jpg  \n",
            "  inflating: Breast Cancer Patients MRI's/Sick/S_5309.jpg  \n",
            "  inflating: Breast Cancer Patients MRI's/Sick/S_5409.jpg  \n",
            "  inflating: Breast Cancer Patients MRI's/Sick/S_5590.jpg  \n",
            "  inflating: Breast Cancer Patients MRI's/Sick/S_5600.jpg  \n",
            "  inflating: Breast Cancer Patients MRI's/Sick/S_5700.jpg  \n",
            "  inflating: Breast Cancer Patients MRI's/Sick/S_6090.jpg  \n",
            "  inflating: Breast Cancer Patients MRI's/Sick/S_6100.jpg  \n",
            "  inflating: Breast Cancer Patients MRI's/Sick/S_6300.jpg  \n",
            "  inflating: Breast Cancer Patients MRI's/Sick/S_6400.jpg  \n",
            "  inflating: Breast Cancer Patients MRI's/Sick/S_6500.jpg  \n",
            "  inflating: Breast Cancer Patients MRI's/Sick/S_6600.jpg  \n",
            "  inflating: Breast Cancer Patients MRI's/Sick/S_6700.jpg  \n",
            "  inflating: Breast Cancer Patients MRI's/Sick/S_6800.jpg  \n",
            "  inflating: Breast Cancer Patients MRI's/Sick/S_6900.jpg  \n",
            "  inflating: Breast Cancer Patients MRI's/Sick/S_70090.jpg  \n",
            "  inflating: Breast Cancer Patients MRI's/Sick/S_7100.jpg  \n",
            "  inflating: Breast Cancer Patients MRI's/Sick/S_7200.jpg  \n",
            "  inflating: Breast Cancer Patients MRI's/Sick/S_7300.jpg  \n",
            "  inflating: Breast Cancer Patients MRI's/Sick/S_7400.jpg  \n",
            "  inflating: Breast Cancer Patients MRI's/Sick/S_7500.jpg  \n"
          ]
        }
      ]
    },
    {
      "cell_type": "code",
      "source": [
        "!ls"
      ],
      "metadata": {
        "colab": {
          "base_uri": "https://localhost:8080/"
        },
        "id": "9xDcV3Dz6Z9_",
        "outputId": "32b59fee-ccdf-4f83-e8fd-a18993dc4dbf"
      },
      "execution_count": null,
      "outputs": [
        {
          "output_type": "stream",
          "name": "stdout",
          "text": [
            "\"Breast Cancer Patients MRI's\"\t model.h5\t   sample_data\n",
            " drive\t\t\t\t model_image.png\n"
          ]
        }
      ]
    },
    {
      "cell_type": "code",
      "source": [
        "import os\n",
        "os.walk(r'/content/drive/MyDrive/Colab Notebooks/archive copy.zip' )"
      ],
      "metadata": {
        "colab": {
          "base_uri": "https://localhost:8080/"
        },
        "id": "C5ZefTDsBBcE",
        "outputId": "f81f9307-7bf8-44c1-aa20-82158e5e1a9a"
      },
      "execution_count": null,
      "outputs": [
        {
          "output_type": "execute_result",
          "data": {
            "text/plain": [
              "<generator object walk at 0x7fe32e6adac0>"
            ]
          },
          "metadata": {},
          "execution_count": 6
        }
      ]
    },
    {
      "cell_type": "code",
      "source": [
        "import os\n",
        "healthy_img = os.listdir(\"/content/Breast Cancer Patients MRI's/Healthy\")\n",
        "print(\"Изображения здоровой железы: \", len(healthy_img))\n",
        "\n",
        "sick_img = os.listdir(\"/content/Breast Cancer Patients MRI's/Sick\")\n",
        "print(\"Изображения больной железы: \", len(sick_img))"
      ],
      "metadata": {
        "colab": {
          "base_uri": "https://localhost:8080/"
        },
        "id": "kMblVD4JoIO8",
        "outputId": "0d56c2e7-df9d-4b01-a0ca-09701d220b19"
      },
      "execution_count": null,
      "outputs": [
        {
          "output_type": "stream",
          "name": "stdout",
          "text": [
            "Изображения здоровой железы:  1400\n",
            "Изображения больной железы:  784\n"
          ]
        }
      ]
    },
    {
      "cell_type": "markdown",
      "metadata": {
        "id": "VBDFhX50hVYF"
      },
      "source": [
        "## Создание датафрейма (таблицы)"
      ]
    },
    {
      "cell_type": "code",
      "execution_count": null,
      "metadata": {
        "id": "VX9FCmV7hVYF"
      },
      "outputs": [],
      "source": [
        "def tab_df(pict_dir, label):\n",
        "    filepaths = pd.Series(list(pict_dir.glob(r'*.jpg')), name='Filepath').astype(str)\n",
        "    labels = pd.Series(label, name='Label', index=filepaths.index)\n",
        "    df = pd.concat([filepaths, labels], axis=1)\n",
        "    return df"
      ]
    },
    {
      "cell_type": "markdown",
      "metadata": {
        "id": "3NqiIT66hVYF"
      },
      "source": [
        "Вызывается функция tab_df, которая принимает pict_dr и метки в качестве аргументов и возвращает таблицу данных.\n",
        "\n",
        "Она создает две серии: пути к файлам, представляющие pict_dir всех изображений в папке, и метки классов, которые являются либо \"здоровыми\", либо \"больными\" в зависимости от того, содержит ли изображение тени и новообразования.\n",
        "\n",
        "Функция возвращает датафрейм после объединения двух датафреймов по оси = 1."
      ]
    },
    {
      "cell_type": "code",
      "execution_count": null,
      "metadata": {
        "colab": {
          "base_uri": "https://localhost:8080/",
          "height": 424
        },
        "id": "BdajPQgGhVYG",
        "outputId": "bff89390-f414-4d5f-9d59-f7ab70892474"
      },
      "outputs": [
        {
          "output_type": "execute_result",
          "data": {
            "text/plain": [
              "                                               Filepath    Label\n",
              "0     /content/Breast Cancer Patients MRI's/Healthy/...  HEALTHY\n",
              "1     /content/Breast Cancer Patients MRI's/Healthy/...  HEALTHY\n",
              "2     /content/Breast Cancer Patients MRI's/Sick/S_2...     SICK\n",
              "3     /content/Breast Cancer Patients MRI's/Sick/S_7...     SICK\n",
              "4     /content/Breast Cancer Patients MRI's/Healthy/...  HEALTHY\n",
              "...                                                 ...      ...\n",
              "2179  /content/Breast Cancer Patients MRI's/Healthy/...  HEALTHY\n",
              "2180  /content/Breast Cancer Patients MRI's/Healthy/...  HEALTHY\n",
              "2181  /content/Breast Cancer Patients MRI's/Healthy/...  HEALTHY\n",
              "2182  /content/Breast Cancer Patients MRI's/Healthy/...  HEALTHY\n",
              "2183  /content/Breast Cancer Patients MRI's/Healthy/...  HEALTHY\n",
              "\n",
              "[2184 rows x 2 columns]"
            ],
            "text/html": [
              "\n",
              "  <div id=\"df-a70ed018-be28-47e1-9666-dfc5797706e8\">\n",
              "    <div class=\"colab-df-container\">\n",
              "      <div>\n",
              "<style scoped>\n",
              "    .dataframe tbody tr th:only-of-type {\n",
              "        vertical-align: middle;\n",
              "    }\n",
              "\n",
              "    .dataframe tbody tr th {\n",
              "        vertical-align: top;\n",
              "    }\n",
              "\n",
              "    .dataframe thead th {\n",
              "        text-align: right;\n",
              "    }\n",
              "</style>\n",
              "<table border=\"1\" class=\"dataframe\">\n",
              "  <thead>\n",
              "    <tr style=\"text-align: right;\">\n",
              "      <th></th>\n",
              "      <th>Filepath</th>\n",
              "      <th>Label</th>\n",
              "    </tr>\n",
              "  </thead>\n",
              "  <tbody>\n",
              "    <tr>\n",
              "      <th>0</th>\n",
              "      <td>/content/Breast Cancer Patients MRI's/Healthy/...</td>\n",
              "      <td>HEALTHY</td>\n",
              "    </tr>\n",
              "    <tr>\n",
              "      <th>1</th>\n",
              "      <td>/content/Breast Cancer Patients MRI's/Healthy/...</td>\n",
              "      <td>HEALTHY</td>\n",
              "    </tr>\n",
              "    <tr>\n",
              "      <th>2</th>\n",
              "      <td>/content/Breast Cancer Patients MRI's/Sick/S_2...</td>\n",
              "      <td>SICK</td>\n",
              "    </tr>\n",
              "    <tr>\n",
              "      <th>3</th>\n",
              "      <td>/content/Breast Cancer Patients MRI's/Sick/S_7...</td>\n",
              "      <td>SICK</td>\n",
              "    </tr>\n",
              "    <tr>\n",
              "      <th>4</th>\n",
              "      <td>/content/Breast Cancer Patients MRI's/Healthy/...</td>\n",
              "      <td>HEALTHY</td>\n",
              "    </tr>\n",
              "    <tr>\n",
              "      <th>...</th>\n",
              "      <td>...</td>\n",
              "      <td>...</td>\n",
              "    </tr>\n",
              "    <tr>\n",
              "      <th>2179</th>\n",
              "      <td>/content/Breast Cancer Patients MRI's/Healthy/...</td>\n",
              "      <td>HEALTHY</td>\n",
              "    </tr>\n",
              "    <tr>\n",
              "      <th>2180</th>\n",
              "      <td>/content/Breast Cancer Patients MRI's/Healthy/...</td>\n",
              "      <td>HEALTHY</td>\n",
              "    </tr>\n",
              "    <tr>\n",
              "      <th>2181</th>\n",
              "      <td>/content/Breast Cancer Patients MRI's/Healthy/...</td>\n",
              "      <td>HEALTHY</td>\n",
              "    </tr>\n",
              "    <tr>\n",
              "      <th>2182</th>\n",
              "      <td>/content/Breast Cancer Patients MRI's/Healthy/...</td>\n",
              "      <td>HEALTHY</td>\n",
              "    </tr>\n",
              "    <tr>\n",
              "      <th>2183</th>\n",
              "      <td>/content/Breast Cancer Patients MRI's/Healthy/...</td>\n",
              "      <td>HEALTHY</td>\n",
              "    </tr>\n",
              "  </tbody>\n",
              "</table>\n",
              "<p>2184 rows × 2 columns</p>\n",
              "</div>\n",
              "      <button class=\"colab-df-convert\" onclick=\"convertToInteractive('df-a70ed018-be28-47e1-9666-dfc5797706e8')\"\n",
              "              title=\"Convert this dataframe to an interactive table.\"\n",
              "              style=\"display:none;\">\n",
              "        \n",
              "  <svg xmlns=\"http://www.w3.org/2000/svg\" height=\"24px\"viewBox=\"0 0 24 24\"\n",
              "       width=\"24px\">\n",
              "    <path d=\"M0 0h24v24H0V0z\" fill=\"none\"/>\n",
              "    <path d=\"M18.56 5.44l.94 2.06.94-2.06 2.06-.94-2.06-.94-.94-2.06-.94 2.06-2.06.94zm-11 1L8.5 8.5l.94-2.06 2.06-.94-2.06-.94L8.5 2.5l-.94 2.06-2.06.94zm10 10l.94 2.06.94-2.06 2.06-.94-2.06-.94-.94-2.06-.94 2.06-2.06.94z\"/><path d=\"M17.41 7.96l-1.37-1.37c-.4-.4-.92-.59-1.43-.59-.52 0-1.04.2-1.43.59L10.3 9.45l-7.72 7.72c-.78.78-.78 2.05 0 2.83L4 21.41c.39.39.9.59 1.41.59.51 0 1.02-.2 1.41-.59l7.78-7.78 2.81-2.81c.8-.78.8-2.07 0-2.86zM5.41 20L4 18.59l7.72-7.72 1.47 1.35L5.41 20z\"/>\n",
              "  </svg>\n",
              "      </button>\n",
              "      \n",
              "  <style>\n",
              "    .colab-df-container {\n",
              "      display:flex;\n",
              "      flex-wrap:wrap;\n",
              "      gap: 12px;\n",
              "    }\n",
              "\n",
              "    .colab-df-convert {\n",
              "      background-color: #E8F0FE;\n",
              "      border: none;\n",
              "      border-radius: 50%;\n",
              "      cursor: pointer;\n",
              "      display: none;\n",
              "      fill: #1967D2;\n",
              "      height: 32px;\n",
              "      padding: 0 0 0 0;\n",
              "      width: 32px;\n",
              "    }\n",
              "\n",
              "    .colab-df-convert:hover {\n",
              "      background-color: #E2EBFA;\n",
              "      box-shadow: 0px 1px 2px rgba(60, 64, 67, 0.3), 0px 1px 3px 1px rgba(60, 64, 67, 0.15);\n",
              "      fill: #174EA6;\n",
              "    }\n",
              "\n",
              "    [theme=dark] .colab-df-convert {\n",
              "      background-color: #3B4455;\n",
              "      fill: #D2E3FC;\n",
              "    }\n",
              "\n",
              "    [theme=dark] .colab-df-convert:hover {\n",
              "      background-color: #434B5C;\n",
              "      box-shadow: 0px 1px 3px 1px rgba(0, 0, 0, 0.15);\n",
              "      filter: drop-shadow(0px 1px 2px rgba(0, 0, 0, 0.3));\n",
              "      fill: #FFFFFF;\n",
              "    }\n",
              "  </style>\n",
              "\n",
              "      <script>\n",
              "        const buttonEl =\n",
              "          document.querySelector('#df-a70ed018-be28-47e1-9666-dfc5797706e8 button.colab-df-convert');\n",
              "        buttonEl.style.display =\n",
              "          google.colab.kernel.accessAllowed ? 'block' : 'none';\n",
              "\n",
              "        async function convertToInteractive(key) {\n",
              "          const element = document.querySelector('#df-a70ed018-be28-47e1-9666-dfc5797706e8');\n",
              "          const dataTable =\n",
              "            await google.colab.kernel.invokeFunction('convertToInteractive',\n",
              "                                                     [key], {});\n",
              "          if (!dataTable) return;\n",
              "\n",
              "          const docLinkHtml = 'Like what you see? Visit the ' +\n",
              "            '<a target=\"_blank\" href=https://colab.research.google.com/notebooks/data_table.ipynb>data table notebook</a>'\n",
              "            + ' to learn more about interactive tables.';\n",
              "          element.innerHTML = '';\n",
              "          dataTable['output_type'] = 'display_data';\n",
              "          await google.colab.output.renderOutput(dataTable, element);\n",
              "          const docLink = document.createElement('div');\n",
              "          docLink.innerHTML = docLinkHtml;\n",
              "          element.appendChild(docLink);\n",
              "        }\n",
              "      </script>\n",
              "    </div>\n",
              "  </div>\n",
              "  "
            ]
          },
          "metadata": {},
          "execution_count": 9
        }
      ],
      "source": [
        "# Объединяет два датафрейма – positive_df и negative_df с положительными и отрицательными метками классов\n",
        "healthy_df = tab_df(Path(\"/content/Breast Cancer Patients MRI's/Healthy\"), label=\"HEALTHY\")\n",
        "sick_df = tab_df(Path(\"/content/Breast Cancer Patients MRI's/Sick\"), label=\"SICK\")\n",
        "\n",
        "all_df = pd.concat([healthy_df, sick_df], axis=0).sample(frac=1.0, random_state=1).reset_index(drop=True)\n",
        "all_df"
      ]
    },
    {
      "cell_type": "markdown",
      "metadata": {
        "id": "ryHrQks1hVYG"
      },
      "source": [
        "## Предварительный анализ данных"
      ]
    },
    {
      "cell_type": "code",
      "execution_count": null,
      "metadata": {
        "colab": {
          "base_uri": "https://localhost:8080/",
          "height": 206
        },
        "id": "hDib5OpdhVYG",
        "outputId": "97a527a6-061f-45bb-8e30-9a683936a767"
      },
      "outputs": [
        {
          "output_type": "execute_result",
          "data": {
            "text/plain": [
              "                                            Filepath    Label\n",
              "0  /content/Breast Cancer Patients MRI's/Healthy/...  HEALTHY\n",
              "1  /content/Breast Cancer Patients MRI's/Healthy/...  HEALTHY\n",
              "2  /content/Breast Cancer Patients MRI's/Sick/S_2...     SICK\n",
              "3  /content/Breast Cancer Patients MRI's/Sick/S_7...     SICK\n",
              "4  /content/Breast Cancer Patients MRI's/Healthy/...  HEALTHY"
            ],
            "text/html": [
              "\n",
              "  <div id=\"df-c430bb1e-f21d-448d-b567-bf2da611915b\">\n",
              "    <div class=\"colab-df-container\">\n",
              "      <div>\n",
              "<style scoped>\n",
              "    .dataframe tbody tr th:only-of-type {\n",
              "        vertical-align: middle;\n",
              "    }\n",
              "\n",
              "    .dataframe tbody tr th {\n",
              "        vertical-align: top;\n",
              "    }\n",
              "\n",
              "    .dataframe thead th {\n",
              "        text-align: right;\n",
              "    }\n",
              "</style>\n",
              "<table border=\"1\" class=\"dataframe\">\n",
              "  <thead>\n",
              "    <tr style=\"text-align: right;\">\n",
              "      <th></th>\n",
              "      <th>Filepath</th>\n",
              "      <th>Label</th>\n",
              "    </tr>\n",
              "  </thead>\n",
              "  <tbody>\n",
              "    <tr>\n",
              "      <th>0</th>\n",
              "      <td>/content/Breast Cancer Patients MRI's/Healthy/...</td>\n",
              "      <td>HEALTHY</td>\n",
              "    </tr>\n",
              "    <tr>\n",
              "      <th>1</th>\n",
              "      <td>/content/Breast Cancer Patients MRI's/Healthy/...</td>\n",
              "      <td>HEALTHY</td>\n",
              "    </tr>\n",
              "    <tr>\n",
              "      <th>2</th>\n",
              "      <td>/content/Breast Cancer Patients MRI's/Sick/S_2...</td>\n",
              "      <td>SICK</td>\n",
              "    </tr>\n",
              "    <tr>\n",
              "      <th>3</th>\n",
              "      <td>/content/Breast Cancer Patients MRI's/Sick/S_7...</td>\n",
              "      <td>SICK</td>\n",
              "    </tr>\n",
              "    <tr>\n",
              "      <th>4</th>\n",
              "      <td>/content/Breast Cancer Patients MRI's/Healthy/...</td>\n",
              "      <td>HEALTHY</td>\n",
              "    </tr>\n",
              "  </tbody>\n",
              "</table>\n",
              "</div>\n",
              "      <button class=\"colab-df-convert\" onclick=\"convertToInteractive('df-c430bb1e-f21d-448d-b567-bf2da611915b')\"\n",
              "              title=\"Convert this dataframe to an interactive table.\"\n",
              "              style=\"display:none;\">\n",
              "        \n",
              "  <svg xmlns=\"http://www.w3.org/2000/svg\" height=\"24px\"viewBox=\"0 0 24 24\"\n",
              "       width=\"24px\">\n",
              "    <path d=\"M0 0h24v24H0V0z\" fill=\"none\"/>\n",
              "    <path d=\"M18.56 5.44l.94 2.06.94-2.06 2.06-.94-2.06-.94-.94-2.06-.94 2.06-2.06.94zm-11 1L8.5 8.5l.94-2.06 2.06-.94-2.06-.94L8.5 2.5l-.94 2.06-2.06.94zm10 10l.94 2.06.94-2.06 2.06-.94-2.06-.94-.94-2.06-.94 2.06-2.06.94z\"/><path d=\"M17.41 7.96l-1.37-1.37c-.4-.4-.92-.59-1.43-.59-.52 0-1.04.2-1.43.59L10.3 9.45l-7.72 7.72c-.78.78-.78 2.05 0 2.83L4 21.41c.39.39.9.59 1.41.59.51 0 1.02-.2 1.41-.59l7.78-7.78 2.81-2.81c.8-.78.8-2.07 0-2.86zM5.41 20L4 18.59l7.72-7.72 1.47 1.35L5.41 20z\"/>\n",
              "  </svg>\n",
              "      </button>\n",
              "      \n",
              "  <style>\n",
              "    .colab-df-container {\n",
              "      display:flex;\n",
              "      flex-wrap:wrap;\n",
              "      gap: 12px;\n",
              "    }\n",
              "\n",
              "    .colab-df-convert {\n",
              "      background-color: #E8F0FE;\n",
              "      border: none;\n",
              "      border-radius: 50%;\n",
              "      cursor: pointer;\n",
              "      display: none;\n",
              "      fill: #1967D2;\n",
              "      height: 32px;\n",
              "      padding: 0 0 0 0;\n",
              "      width: 32px;\n",
              "    }\n",
              "\n",
              "    .colab-df-convert:hover {\n",
              "      background-color: #E2EBFA;\n",
              "      box-shadow: 0px 1px 2px rgba(60, 64, 67, 0.3), 0px 1px 3px 1px rgba(60, 64, 67, 0.15);\n",
              "      fill: #174EA6;\n",
              "    }\n",
              "\n",
              "    [theme=dark] .colab-df-convert {\n",
              "      background-color: #3B4455;\n",
              "      fill: #D2E3FC;\n",
              "    }\n",
              "\n",
              "    [theme=dark] .colab-df-convert:hover {\n",
              "      background-color: #434B5C;\n",
              "      box-shadow: 0px 1px 3px 1px rgba(0, 0, 0, 0.15);\n",
              "      filter: drop-shadow(0px 1px 2px rgba(0, 0, 0, 0.3));\n",
              "      fill: #FFFFFF;\n",
              "    }\n",
              "  </style>\n",
              "\n",
              "      <script>\n",
              "        const buttonEl =\n",
              "          document.querySelector('#df-c430bb1e-f21d-448d-b567-bf2da611915b button.colab-df-convert');\n",
              "        buttonEl.style.display =\n",
              "          google.colab.kernel.accessAllowed ? 'block' : 'none';\n",
              "\n",
              "        async function convertToInteractive(key) {\n",
              "          const element = document.querySelector('#df-c430bb1e-f21d-448d-b567-bf2da611915b');\n",
              "          const dataTable =\n",
              "            await google.colab.kernel.invokeFunction('convertToInteractive',\n",
              "                                                     [key], {});\n",
              "          if (!dataTable) return;\n",
              "\n",
              "          const docLinkHtml = 'Like what you see? Visit the ' +\n",
              "            '<a target=\"_blank\" href=https://colab.research.google.com/notebooks/data_table.ipynb>data table notebook</a>'\n",
              "            + ' to learn more about interactive tables.';\n",
              "          element.innerHTML = '';\n",
              "          dataTable['output_type'] = 'display_data';\n",
              "          await google.colab.output.renderOutput(dataTable, element);\n",
              "          const docLink = document.createElement('div');\n",
              "          docLink.innerHTML = docLinkHtml;\n",
              "          element.appendChild(docLink);\n",
              "        }\n",
              "      </script>\n",
              "    </div>\n",
              "  </div>\n",
              "  "
            ]
          },
          "metadata": {},
          "execution_count": 10
        }
      ],
      "source": [
        "# Первые пять строк итогового набора\n",
        "df1 = all_df\n",
        "df1.head()"
      ]
    },
    {
      "cell_type": "code",
      "execution_count": null,
      "metadata": {
        "colab": {
          "base_uri": "https://localhost:8080/",
          "height": 206
        },
        "id": "lSYpSC-jhVYH",
        "outputId": "b059a483-8938-43f1-b484-a9f10379c898"
      },
      "outputs": [
        {
          "output_type": "execute_result",
          "data": {
            "text/plain": [
              "                                               Filepath    Label\n",
              "2179  /content/Breast Cancer Patients MRI's/Healthy/...  HEALTHY\n",
              "2180  /content/Breast Cancer Patients MRI's/Healthy/...  HEALTHY\n",
              "2181  /content/Breast Cancer Patients MRI's/Healthy/...  HEALTHY\n",
              "2182  /content/Breast Cancer Patients MRI's/Healthy/...  HEALTHY\n",
              "2183  /content/Breast Cancer Patients MRI's/Healthy/...  HEALTHY"
            ],
            "text/html": [
              "\n",
              "  <div id=\"df-9805d567-70dd-4dd0-8763-084c34a1e0a2\">\n",
              "    <div class=\"colab-df-container\">\n",
              "      <div>\n",
              "<style scoped>\n",
              "    .dataframe tbody tr th:only-of-type {\n",
              "        vertical-align: middle;\n",
              "    }\n",
              "\n",
              "    .dataframe tbody tr th {\n",
              "        vertical-align: top;\n",
              "    }\n",
              "\n",
              "    .dataframe thead th {\n",
              "        text-align: right;\n",
              "    }\n",
              "</style>\n",
              "<table border=\"1\" class=\"dataframe\">\n",
              "  <thead>\n",
              "    <tr style=\"text-align: right;\">\n",
              "      <th></th>\n",
              "      <th>Filepath</th>\n",
              "      <th>Label</th>\n",
              "    </tr>\n",
              "  </thead>\n",
              "  <tbody>\n",
              "    <tr>\n",
              "      <th>2179</th>\n",
              "      <td>/content/Breast Cancer Patients MRI's/Healthy/...</td>\n",
              "      <td>HEALTHY</td>\n",
              "    </tr>\n",
              "    <tr>\n",
              "      <th>2180</th>\n",
              "      <td>/content/Breast Cancer Patients MRI's/Healthy/...</td>\n",
              "      <td>HEALTHY</td>\n",
              "    </tr>\n",
              "    <tr>\n",
              "      <th>2181</th>\n",
              "      <td>/content/Breast Cancer Patients MRI's/Healthy/...</td>\n",
              "      <td>HEALTHY</td>\n",
              "    </tr>\n",
              "    <tr>\n",
              "      <th>2182</th>\n",
              "      <td>/content/Breast Cancer Patients MRI's/Healthy/...</td>\n",
              "      <td>HEALTHY</td>\n",
              "    </tr>\n",
              "    <tr>\n",
              "      <th>2183</th>\n",
              "      <td>/content/Breast Cancer Patients MRI's/Healthy/...</td>\n",
              "      <td>HEALTHY</td>\n",
              "    </tr>\n",
              "  </tbody>\n",
              "</table>\n",
              "</div>\n",
              "      <button class=\"colab-df-convert\" onclick=\"convertToInteractive('df-9805d567-70dd-4dd0-8763-084c34a1e0a2')\"\n",
              "              title=\"Convert this dataframe to an interactive table.\"\n",
              "              style=\"display:none;\">\n",
              "        \n",
              "  <svg xmlns=\"http://www.w3.org/2000/svg\" height=\"24px\"viewBox=\"0 0 24 24\"\n",
              "       width=\"24px\">\n",
              "    <path d=\"M0 0h24v24H0V0z\" fill=\"none\"/>\n",
              "    <path d=\"M18.56 5.44l.94 2.06.94-2.06 2.06-.94-2.06-.94-.94-2.06-.94 2.06-2.06.94zm-11 1L8.5 8.5l.94-2.06 2.06-.94-2.06-.94L8.5 2.5l-.94 2.06-2.06.94zm10 10l.94 2.06.94-2.06 2.06-.94-2.06-.94-.94-2.06-.94 2.06-2.06.94z\"/><path d=\"M17.41 7.96l-1.37-1.37c-.4-.4-.92-.59-1.43-.59-.52 0-1.04.2-1.43.59L10.3 9.45l-7.72 7.72c-.78.78-.78 2.05 0 2.83L4 21.41c.39.39.9.59 1.41.59.51 0 1.02-.2 1.41-.59l7.78-7.78 2.81-2.81c.8-.78.8-2.07 0-2.86zM5.41 20L4 18.59l7.72-7.72 1.47 1.35L5.41 20z\"/>\n",
              "  </svg>\n",
              "      </button>\n",
              "      \n",
              "  <style>\n",
              "    .colab-df-container {\n",
              "      display:flex;\n",
              "      flex-wrap:wrap;\n",
              "      gap: 12px;\n",
              "    }\n",
              "\n",
              "    .colab-df-convert {\n",
              "      background-color: #E8F0FE;\n",
              "      border: none;\n",
              "      border-radius: 50%;\n",
              "      cursor: pointer;\n",
              "      display: none;\n",
              "      fill: #1967D2;\n",
              "      height: 32px;\n",
              "      padding: 0 0 0 0;\n",
              "      width: 32px;\n",
              "    }\n",
              "\n",
              "    .colab-df-convert:hover {\n",
              "      background-color: #E2EBFA;\n",
              "      box-shadow: 0px 1px 2px rgba(60, 64, 67, 0.3), 0px 1px 3px 1px rgba(60, 64, 67, 0.15);\n",
              "      fill: #174EA6;\n",
              "    }\n",
              "\n",
              "    [theme=dark] .colab-df-convert {\n",
              "      background-color: #3B4455;\n",
              "      fill: #D2E3FC;\n",
              "    }\n",
              "\n",
              "    [theme=dark] .colab-df-convert:hover {\n",
              "      background-color: #434B5C;\n",
              "      box-shadow: 0px 1px 3px 1px rgba(0, 0, 0, 0.15);\n",
              "      filter: drop-shadow(0px 1px 2px rgba(0, 0, 0, 0.3));\n",
              "      fill: #FFFFFF;\n",
              "    }\n",
              "  </style>\n",
              "\n",
              "      <script>\n",
              "        const buttonEl =\n",
              "          document.querySelector('#df-9805d567-70dd-4dd0-8763-084c34a1e0a2 button.colab-df-convert');\n",
              "        buttonEl.style.display =\n",
              "          google.colab.kernel.accessAllowed ? 'block' : 'none';\n",
              "\n",
              "        async function convertToInteractive(key) {\n",
              "          const element = document.querySelector('#df-9805d567-70dd-4dd0-8763-084c34a1e0a2');\n",
              "          const dataTable =\n",
              "            await google.colab.kernel.invokeFunction('convertToInteractive',\n",
              "                                                     [key], {});\n",
              "          if (!dataTable) return;\n",
              "\n",
              "          const docLinkHtml = 'Like what you see? Visit the ' +\n",
              "            '<a target=\"_blank\" href=https://colab.research.google.com/notebooks/data_table.ipynb>data table notebook</a>'\n",
              "            + ' to learn more about interactive tables.';\n",
              "          element.innerHTML = '';\n",
              "          dataTable['output_type'] = 'display_data';\n",
              "          await google.colab.output.renderOutput(dataTable, element);\n",
              "          const docLink = document.createElement('div');\n",
              "          docLink.innerHTML = docLinkHtml;\n",
              "          element.appendChild(docLink);\n",
              "        }\n",
              "      </script>\n",
              "    </div>\n",
              "  </div>\n",
              "  "
            ]
          },
          "metadata": {},
          "execution_count": 11
        }
      ],
      "source": [
        "# Последние пять строк\n",
        "df1.tail()"
      ]
    },
    {
      "cell_type": "code",
      "execution_count": null,
      "metadata": {
        "colab": {
          "base_uri": "https://localhost:8080/",
          "height": 363
        },
        "id": "BX80Ix1yhVYH",
        "outputId": "bfc1891a-5fcc-41cd-b526-c87be7d2dded"
      },
      "outputs": [
        {
          "output_type": "execute_result",
          "data": {
            "text/plain": [
              "                                               Filepath    Label\n",
              "1055  /content/Breast Cancer Patients MRI's/Sick/S_1...     SICK\n",
              "1172  /content/Breast Cancer Patients MRI's/Healthy/...  HEALTHY\n",
              "795   /content/Breast Cancer Patients MRI's/Healthy/...  HEALTHY\n",
              "632   /content/Breast Cancer Patients MRI's/Healthy/...  HEALTHY\n",
              "1395  /content/Breast Cancer Patients MRI's/Sick/S_3...     SICK\n",
              "2091  /content/Breast Cancer Patients MRI's/Healthy/...  HEALTHY\n",
              "1752  /content/Breast Cancer Patients MRI's/Healthy/...  HEALTHY\n",
              "18    /content/Breast Cancer Patients MRI's/Healthy/...  HEALTHY\n",
              "564   /content/Breast Cancer Patients MRI's/Healthy/...  HEALTHY\n",
              "1828  /content/Breast Cancer Patients MRI's/Healthy/...  HEALTHY"
            ],
            "text/html": [
              "\n",
              "  <div id=\"df-ebc33f1c-f49a-4276-a73e-ff5455f56be1\">\n",
              "    <div class=\"colab-df-container\">\n",
              "      <div>\n",
              "<style scoped>\n",
              "    .dataframe tbody tr th:only-of-type {\n",
              "        vertical-align: middle;\n",
              "    }\n",
              "\n",
              "    .dataframe tbody tr th {\n",
              "        vertical-align: top;\n",
              "    }\n",
              "\n",
              "    .dataframe thead th {\n",
              "        text-align: right;\n",
              "    }\n",
              "</style>\n",
              "<table border=\"1\" class=\"dataframe\">\n",
              "  <thead>\n",
              "    <tr style=\"text-align: right;\">\n",
              "      <th></th>\n",
              "      <th>Filepath</th>\n",
              "      <th>Label</th>\n",
              "    </tr>\n",
              "  </thead>\n",
              "  <tbody>\n",
              "    <tr>\n",
              "      <th>1055</th>\n",
              "      <td>/content/Breast Cancer Patients MRI's/Sick/S_1...</td>\n",
              "      <td>SICK</td>\n",
              "    </tr>\n",
              "    <tr>\n",
              "      <th>1172</th>\n",
              "      <td>/content/Breast Cancer Patients MRI's/Healthy/...</td>\n",
              "      <td>HEALTHY</td>\n",
              "    </tr>\n",
              "    <tr>\n",
              "      <th>795</th>\n",
              "      <td>/content/Breast Cancer Patients MRI's/Healthy/...</td>\n",
              "      <td>HEALTHY</td>\n",
              "    </tr>\n",
              "    <tr>\n",
              "      <th>632</th>\n",
              "      <td>/content/Breast Cancer Patients MRI's/Healthy/...</td>\n",
              "      <td>HEALTHY</td>\n",
              "    </tr>\n",
              "    <tr>\n",
              "      <th>1395</th>\n",
              "      <td>/content/Breast Cancer Patients MRI's/Sick/S_3...</td>\n",
              "      <td>SICK</td>\n",
              "    </tr>\n",
              "    <tr>\n",
              "      <th>2091</th>\n",
              "      <td>/content/Breast Cancer Patients MRI's/Healthy/...</td>\n",
              "      <td>HEALTHY</td>\n",
              "    </tr>\n",
              "    <tr>\n",
              "      <th>1752</th>\n",
              "      <td>/content/Breast Cancer Patients MRI's/Healthy/...</td>\n",
              "      <td>HEALTHY</td>\n",
              "    </tr>\n",
              "    <tr>\n",
              "      <th>18</th>\n",
              "      <td>/content/Breast Cancer Patients MRI's/Healthy/...</td>\n",
              "      <td>HEALTHY</td>\n",
              "    </tr>\n",
              "    <tr>\n",
              "      <th>564</th>\n",
              "      <td>/content/Breast Cancer Patients MRI's/Healthy/...</td>\n",
              "      <td>HEALTHY</td>\n",
              "    </tr>\n",
              "    <tr>\n",
              "      <th>1828</th>\n",
              "      <td>/content/Breast Cancer Patients MRI's/Healthy/...</td>\n",
              "      <td>HEALTHY</td>\n",
              "    </tr>\n",
              "  </tbody>\n",
              "</table>\n",
              "</div>\n",
              "      <button class=\"colab-df-convert\" onclick=\"convertToInteractive('df-ebc33f1c-f49a-4276-a73e-ff5455f56be1')\"\n",
              "              title=\"Convert this dataframe to an interactive table.\"\n",
              "              style=\"display:none;\">\n",
              "        \n",
              "  <svg xmlns=\"http://www.w3.org/2000/svg\" height=\"24px\"viewBox=\"0 0 24 24\"\n",
              "       width=\"24px\">\n",
              "    <path d=\"M0 0h24v24H0V0z\" fill=\"none\"/>\n",
              "    <path d=\"M18.56 5.44l.94 2.06.94-2.06 2.06-.94-2.06-.94-.94-2.06-.94 2.06-2.06.94zm-11 1L8.5 8.5l.94-2.06 2.06-.94-2.06-.94L8.5 2.5l-.94 2.06-2.06.94zm10 10l.94 2.06.94-2.06 2.06-.94-2.06-.94-.94-2.06-.94 2.06-2.06.94z\"/><path d=\"M17.41 7.96l-1.37-1.37c-.4-.4-.92-.59-1.43-.59-.52 0-1.04.2-1.43.59L10.3 9.45l-7.72 7.72c-.78.78-.78 2.05 0 2.83L4 21.41c.39.39.9.59 1.41.59.51 0 1.02-.2 1.41-.59l7.78-7.78 2.81-2.81c.8-.78.8-2.07 0-2.86zM5.41 20L4 18.59l7.72-7.72 1.47 1.35L5.41 20z\"/>\n",
              "  </svg>\n",
              "      </button>\n",
              "      \n",
              "  <style>\n",
              "    .colab-df-container {\n",
              "      display:flex;\n",
              "      flex-wrap:wrap;\n",
              "      gap: 12px;\n",
              "    }\n",
              "\n",
              "    .colab-df-convert {\n",
              "      background-color: #E8F0FE;\n",
              "      border: none;\n",
              "      border-radius: 50%;\n",
              "      cursor: pointer;\n",
              "      display: none;\n",
              "      fill: #1967D2;\n",
              "      height: 32px;\n",
              "      padding: 0 0 0 0;\n",
              "      width: 32px;\n",
              "    }\n",
              "\n",
              "    .colab-df-convert:hover {\n",
              "      background-color: #E2EBFA;\n",
              "      box-shadow: 0px 1px 2px rgba(60, 64, 67, 0.3), 0px 1px 3px 1px rgba(60, 64, 67, 0.15);\n",
              "      fill: #174EA6;\n",
              "    }\n",
              "\n",
              "    [theme=dark] .colab-df-convert {\n",
              "      background-color: #3B4455;\n",
              "      fill: #D2E3FC;\n",
              "    }\n",
              "\n",
              "    [theme=dark] .colab-df-convert:hover {\n",
              "      background-color: #434B5C;\n",
              "      box-shadow: 0px 1px 3px 1px rgba(0, 0, 0, 0.15);\n",
              "      filter: drop-shadow(0px 1px 2px rgba(0, 0, 0, 0.3));\n",
              "      fill: #FFFFFF;\n",
              "    }\n",
              "  </style>\n",
              "\n",
              "      <script>\n",
              "        const buttonEl =\n",
              "          document.querySelector('#df-ebc33f1c-f49a-4276-a73e-ff5455f56be1 button.colab-df-convert');\n",
              "        buttonEl.style.display =\n",
              "          google.colab.kernel.accessAllowed ? 'block' : 'none';\n",
              "\n",
              "        async function convertToInteractive(key) {\n",
              "          const element = document.querySelector('#df-ebc33f1c-f49a-4276-a73e-ff5455f56be1');\n",
              "          const dataTable =\n",
              "            await google.colab.kernel.invokeFunction('convertToInteractive',\n",
              "                                                     [key], {});\n",
              "          if (!dataTable) return;\n",
              "\n",
              "          const docLinkHtml = 'Like what you see? Visit the ' +\n",
              "            '<a target=\"_blank\" href=https://colab.research.google.com/notebooks/data_table.ipynb>data table notebook</a>'\n",
              "            + ' to learn more about interactive tables.';\n",
              "          element.innerHTML = '';\n",
              "          dataTable['output_type'] = 'display_data';\n",
              "          await google.colab.output.renderOutput(dataTable, element);\n",
              "          const docLink = document.createElement('div');\n",
              "          docLink.innerHTML = docLinkHtml;\n",
              "          element.appendChild(docLink);\n",
              "        }\n",
              "      </script>\n",
              "    </div>\n",
              "  </div>\n",
              "  "
            ]
          },
          "metadata": {},
          "execution_count": 12
        }
      ],
      "source": [
        "# Случайная выборка из 10 строк\n",
        "df1.sample(10)"
      ]
    },
    {
      "cell_type": "code",
      "execution_count": null,
      "metadata": {
        "colab": {
          "base_uri": "https://localhost:8080/"
        },
        "id": "M7SB6985hVYI",
        "outputId": "86933ea9-0b73-4cee-d952-a30ac5c4cf9c"
      },
      "outputs": [
        {
          "output_type": "execute_result",
          "data": {
            "text/plain": [
              "Filepath    0\n",
              "Label       0\n",
              "dtype: int64"
            ]
          },
          "metadata": {},
          "execution_count": 13
        }
      ],
      "source": [
        "# Проверка пропущенных значений\n",
        "df1.isnull().sum()"
      ]
    },
    {
      "cell_type": "code",
      "execution_count": null,
      "metadata": {
        "colab": {
          "base_uri": "https://localhost:8080/"
        },
        "id": "OGj6hWLThVYI",
        "outputId": "8584a1d3-ede6-487d-93d2-8ef07a62c684"
      },
      "outputs": [
        {
          "output_type": "execute_result",
          "data": {
            "text/plain": [
              "(2184, 2)"
            ]
          },
          "metadata": {},
          "execution_count": 14
        }
      ],
      "source": [
        "# Форма данных\n",
        "df1.shape"
      ]
    },
    {
      "cell_type": "markdown",
      "source": [
        "Таким образом, в наборе данных нет пропущенных значений. Данные включают в себя 2184 изображения, которые разделены на два класса."
      ],
      "metadata": {
        "id": "HuU_0BdjDudI"
      }
    },
    {
      "cell_type": "markdown",
      "metadata": {
        "id": "vxZumTwXhVYI"
      },
      "source": [
        "## Разбиение данных на обучающую и тестовую выборку"
      ]
    },
    {
      "cell_type": "code",
      "execution_count": null,
      "metadata": {
        "id": "ShFBg0E9hVYJ"
      },
      "outputs": [],
      "source": [
        "np.random.seed(0) # гарантирует псевдослучайность набора\n",
        "\n",
        "# Данные перемешиваются и разделяются в отношении 80% : 20%\n",
        "train_df, test_df = train_test_split(df1,\n",
        "    train_size=0.8,\n",
        "    shuffle=True,\n",
        "    random_state=1)"
      ]
    },
    {
      "cell_type": "code",
      "execution_count": null,
      "metadata": {
        "colab": {
          "base_uri": "https://localhost:8080/"
        },
        "id": "aWVqdjfvhVYJ",
        "outputId": "38050902-85ad-40f4-bd70-2627da13a893"
      },
      "outputs": [
        {
          "output_type": "execute_result",
          "data": {
            "text/plain": [
              "(1747, 2)"
            ]
          },
          "metadata": {},
          "execution_count": 16
        }
      ],
      "source": [
        "# Размер обучающей выборки\n",
        "train_df.shape"
      ]
    },
    {
      "cell_type": "code",
      "execution_count": null,
      "metadata": {
        "colab": {
          "base_uri": "https://localhost:8080/"
        },
        "id": "tu8LWzqyhVYJ",
        "outputId": "7e235425-c606-4af8-ec51-286a7583c68c"
      },
      "outputs": [
        {
          "output_type": "execute_result",
          "data": {
            "text/plain": [
              "(437, 2)"
            ]
          },
          "metadata": {},
          "execution_count": 17
        }
      ],
      "source": [
        "# Размер тестовой выборки\n",
        "test_df.shape"
      ]
    },
    {
      "cell_type": "markdown",
      "metadata": {
        "id": "3c6lWje1hVYK"
      },
      "source": [
        "## Предварительная обработка и аугментация изображений"
      ]
    },
    {
      "cell_type": "markdown",
      "metadata": {
        "id": "6k5NtTmvhVYK"
      },
      "source": [
        "Аугментация данных — это методы, используемые для увеличения объема данных путем добавления слегка измененных копий уже существующих экземпляров или вновь созданных синтетических данных из имеющихся.\n",
        "\n",
        "Вариации включают:\n",
        "Обрезка, дополнение, отражение по горизонтали и вертикали, сдвиг, вращение, масштабирование и смещение по горизонтали и вертикали"
      ]
    },
    {
      "cell_type": "markdown",
      "metadata": {
        "id": "cbyMebQbhVYK"
      },
      "source": [
        "### Преимущества аугментации данных:\n",
        "– Улучшение производительности и способности модели к обобщению\n",
        "– Требуется гораздо меньше усилий при создании набора данных (небольшой набор данных легко превращается в огромный набор)\n",
        "– Снижает переобучение за счет увеличения разнообразия\n",
        "– Помогает повысить точность предсказания модели\n",
        "\n",
        "### Недостаток аугментации данных:\n",
        "Может потребоваться много времени для создания изображений"
      ]
    },
    {
      "cell_type": "code",
      "execution_count": null,
      "metadata": {
        "id": "7NFAUPcKhVYL"
      },
      "outputs": [],
      "source": [
        "# Инициализация генераторов для обучающих и тестовых данных\n",
        "# Параметр масштабирования обеспечивает диапазон входных данных на отрезке [0, 1]\n",
        "train_gen = tf.keras.preprocessing.image.ImageDataGenerator(\n",
        "    rescale = 1./255,\n",
        "    validation_split = 0.10,\n",
        "    rotation_range = 30,\n",
        "    width_shift_range = 0.2,\n",
        "    height_shift_range = 0.2,\n",
        "    shear_range = 0.2,\n",
        "    zoom_range = 0.2,\n",
        "    horizontal_flip = True,\n",
        "    fill_mode = 'nearest')\n",
        "\n",
        "test_gen = tf.keras.preprocessing.image.ImageDataGenerator(\n",
        "  rescale = 1./255,)"
      ]
    },
    {
      "cell_type": "markdown",
      "metadata": {
        "id": "Hbr3lAEahVYM"
      },
      "source": [
        "## Создание генератора с размером мини-выборки 64"
      ]
    },
    {
      "cell_type": "markdown",
      "source": [
        "### Обучающая выборка"
      ],
      "metadata": {
        "id": "eg2xYy6gU8ZE"
      }
    },
    {
      "cell_type": "code",
      "execution_count": null,
      "metadata": {
        "colab": {
          "base_uri": "https://localhost:8080/"
        },
        "id": "lQtcMTfKhVYM",
        "outputId": "b28f3c20-218d-4638-d852-d19905b8f5ea"
      },
      "outputs": [
        {
          "output_type": "stream",
          "name": "stdout",
          "text": [
            "Found 1573 validated image filenames belonging to 2 classes.\n"
          ]
        }
      ],
      "source": [
        "# Создание генераторов с размером мини-выборки в 64 изображения\n",
        "# train_df содержит входные классы\n",
        "# Здесь это «Sick» (больной) и «Negative» (Healthy), \n",
        "# поэтому class_mode (тип возвращаемых меток классов) – категориальный\n",
        "# Целевой размер - это размер входных изображений, каждое изображение будет изменено до этого размера\n",
        "# shuffle: перемешивать ли данные. По умолчанию True. Если установлено значение False, данные сортируются в алфавитно-цифровом порядке.\n",
        "# batch_size: Размер мини-выборки данных. По умолчанию: 32.\n",
        "# Цветовой режим: RGB\n",
        "# Размер мини-выборки определяет количество экземпляров, которые будут распространяться по сети на каждой эпохе обучения\n",
        "\n",
        "train_data = train_gen.flow_from_dataframe(\n",
        "    train_df,\n",
        "    x_col = 'Filepath',\n",
        "    y_col = 'Label',\n",
        "    target_size = (120, 120),\n",
        "    color_mode = 'rgb',\n",
        "    class_mode = 'categorical',\n",
        "    batch_size = 64,\n",
        "    shuffle = True,\n",
        "    seed = 42,\n",
        "    subset = 'training')"
      ]
    },
    {
      "cell_type": "code",
      "execution_count": null,
      "metadata": {
        "colab": {
          "base_uri": "https://localhost:8080/"
        },
        "id": "MTa7YAY5hVYM",
        "outputId": "f6f1399b-cd1c-400f-bc90-58f108ce7f95"
      },
      "outputs": [
        {
          "output_type": "execute_result",
          "data": {
            "text/plain": [
              "{'HEALTHY': 0, 'SICK': 1}"
            ]
          },
          "metadata": {},
          "execution_count": 21
        }
      ],
      "source": [
        "# Можно получить словарь, который сопоставляет метки классов с индексом \n",
        "# вектора предсказания модели, который является выходным\n",
        "label_map1 = (train_data.class_indices)\n",
        "label_map1"
      ]
    },
    {
      "cell_type": "markdown",
      "source": [
        "### Валидационная выборка"
      ],
      "metadata": {
        "id": "xiHVMGriU_9z"
      }
    },
    {
      "cell_type": "code",
      "execution_count": null,
      "metadata": {
        "colab": {
          "base_uri": "https://localhost:8080/"
        },
        "id": "5s6Q2PwchVYM",
        "outputId": "2726afce-df8f-4e01-a725-feb0dbb5db6d"
      },
      "outputs": [
        {
          "output_type": "stream",
          "name": "stdout",
          "text": [
            "Found 174 validated image filenames belonging to 2 classes.\n"
          ]
        }
      ],
      "source": [
        "val_data = train_gen.flow_from_dataframe(\n",
        "    train_df,\n",
        "    x_col='Filepath',\n",
        "    y_col='Label',\n",
        "    target_size=(120, 120),\n",
        "    color_mode='rgb',\n",
        "    class_mode='categorical',\n",
        "    batch_size=64,\n",
        "    shuffle=True,\n",
        "    seed=42,\n",
        "    subset='validation')"
      ]
    },
    {
      "cell_type": "code",
      "execution_count": null,
      "metadata": {
        "colab": {
          "base_uri": "https://localhost:8080/"
        },
        "id": "GPVzHkLWhVYN",
        "outputId": "445f9be0-2c4a-4177-d402-0cdfaa338af7"
      },
      "outputs": [
        {
          "output_type": "execute_result",
          "data": {
            "text/plain": [
              "{'HEALTHY': 0, 'SICK': 1}"
            ]
          },
          "metadata": {},
          "execution_count": 23
        }
      ],
      "source": [
        "label_map2 = (val_data.class_indices)\n",
        "label_map2"
      ]
    },
    {
      "cell_type": "markdown",
      "source": [
        "### Тестовая выборка"
      ],
      "metadata": {
        "id": "FIYwl8UXVC77"
      }
    },
    {
      "cell_type": "code",
      "execution_count": null,
      "metadata": {
        "colab": {
          "base_uri": "https://localhost:8080/"
        },
        "id": "fgnkmTNhhVYN",
        "outputId": "374b8fd4-040c-4c41-bb1a-a0c8cca919fd"
      },
      "outputs": [
        {
          "output_type": "stream",
          "name": "stdout",
          "text": [
            "Found 437 validated image filenames belonging to 2 classes.\n"
          ]
        }
      ],
      "source": [
        "test_data = test_gen.flow_from_dataframe(\n",
        "    test_df,\n",
        "    x_col='Filepath',\n",
        "    y_col='Label',\n",
        "    target_size=(120, 120),\n",
        "    color_mode='rgb',\n",
        "    class_mode='categorical',\n",
        "    batch_size=64,\n",
        "    shuffle=False,\n",
        "    seed=42)"
      ]
    },
    {
      "cell_type": "code",
      "execution_count": null,
      "metadata": {
        "colab": {
          "base_uri": "https://localhost:8080/"
        },
        "id": "oHWemRUmhVYN",
        "outputId": "6f923282-e384-4989-e098-fc475d00ce7c"
      },
      "outputs": [
        {
          "output_type": "execute_result",
          "data": {
            "text/plain": [
              "{'HEALTHY': 0, 'SICK': 1}"
            ]
          },
          "metadata": {},
          "execution_count": 25
        }
      ],
      "source": [
        "label_map3 = (test_data.class_indices)\n",
        "label_map3"
      ]
    },
    {
      "cell_type": "markdown",
      "metadata": {
        "id": "J3dzAegchVYO"
      },
      "source": [
        "## Визуализация"
      ]
    },
    {
      "cell_type": "code",
      "execution_count": null,
      "metadata": {
        "colab": {
          "base_uri": "https://localhost:8080/",
          "height": 693
        },
        "id": "PdlCXcWahVYO",
        "outputId": "fc128b5c-1a04-49df-90fd-d15341373a91"
      },
      "outputs": [
        {
          "output_type": "stream",
          "name": "stderr",
          "text": [
            "/usr/local/lib/python3.8/dist-packages/seaborn/_decorators.py:36: FutureWarning: Pass the following variable as a keyword arg: x. From version 0.12, the only valid positional argument will be `data`, and passing other arguments without an explicit keyword will result in an error or misinterpretation.\n",
            "  warnings.warn(\n"
          ]
        },
        {
          "output_type": "execute_result",
          "data": {
            "text/plain": [
              "Text(0.5, 1.0, 'Количество объектов каждого класса')"
            ]
          },
          "metadata": {},
          "execution_count": 26
        },
        {
          "output_type": "display_data",
          "data": {
            "text/plain": [
              "<Figure size 720x720 with 1 Axes>"
            ],
            "image/png": "[encoded data removed]"
          },
          "metadata": {
            "needs_background": "light"
          }
        }
      ],
      "source": [
        "plt.figure(figsize = (10,10)) \n",
        "sns.set_style(\"darkgrid\")\n",
        "sns.countplot(df1['Label'])\n",
        "plt.title(\"Количество объектов каждого класса\")"
      ]
    },
    {
      "cell_type": "markdown",
      "metadata": {
        "id": "WouamudThVYO"
      },
      "source": [
        "## Отобразить первые 10 изображений из обучающей выборки"
      ]
    },
    {
      "cell_type": "code",
      "execution_count": null,
      "metadata": {
        "colab": {
          "base_uri": "https://localhost:8080/",
          "height": 116
        },
        "id": "aPXiyv3mhVYP",
        "outputId": "2f124d65-23f2-4905-8641-80b6a2d265ac"
      },
      "outputs": [
        {
          "output_type": "display_data",
          "data": {
            "text/plain": [
              "<Figure size 2160x2160 with 10 Axes>"
            ],
            "image/png": "[encoded data removed]"
          },
          "metadata": {}
        }
      ],
      "source": [
        "fig, a =  plt.subplots(1,10)\n",
        "fig.set_figheight(30)\n",
        "fig.set_figwidth(30)\n",
        "for i in range(10):\n",
        "    img = cv.imread(str(train_df.iloc[i]['Filepath']))\n",
        "    a[i].imshow(img)\n",
        "    if train_df.iloc[i]['Label'] == 'SICK':\n",
        "        title = \"С патологией \" + str(i)\n",
        "    else:\n",
        "        title = \"Без патологии \" + str(i)\n",
        "    a[i].set_title(title)"
      ]
    },
    {
      "cell_type": "markdown",
      "source": [
        "## Отобразить первые 10 изображений из тестовой выборки"
      ],
      "metadata": {
        "id": "qhagStvQWBBE"
      }
    },
    {
      "cell_type": "code",
      "execution_count": null,
      "metadata": {
        "colab": {
          "base_uri": "https://localhost:8080/",
          "height": 116
        },
        "id": "wN3gCeXBhVYP",
        "outputId": "60e1123d-20b9-414d-e839-6036d1b1a314"
      },
      "outputs": [
        {
          "output_type": "display_data",
          "data": {
            "text/plain": [
              "<Figure size 2160x2160 with 10 Axes>"
            ],
            "image/png": "[encoded data removed]"
          },
          "metadata": {}
        }
      ],
      "source": [
        "fig,a =  plt.subplots(1,10)\n",
        "fig.set_figheight(30)\n",
        "fig.set_figwidth(30)\n",
        "for i in range(10):\n",
        "    img = cv.imread(str(test_df.iloc[i]['Filepath']))\n",
        "    a[i].imshow(img)\n",
        "    if test_df.iloc[i]['Label']=='SICK':\n",
        "        title = \"С патологией \" + str(i)\n",
        "    else:\n",
        "        title=\"Без патологии \" + str(i)\n",
        "    a[i].set_title(title)"
      ]
    },
    {
      "cell_type": "markdown",
      "metadata": {
        "id": "c_ECS4PWhVYP"
      },
      "source": [
        "## Отдельное изображение из обучающей выборки"
      ]
    },
    {
      "cell_type": "code",
      "execution_count": null,
      "metadata": {
        "colab": {
          "base_uri": "https://localhost:8080/",
          "height": 224
        },
        "id": "Ses2MuvahVYP",
        "outputId": "6a657f52-94fb-463c-8bb3-780cc0add2e0"
      },
      "outputs": [
        {
          "output_type": "execute_result",
          "data": {
            "text/plain": [
              "<matplotlib.image.AxesImage at 0x7fe3299af850>"
            ]
          },
          "metadata": {},
          "execution_count": 30
        },
        {
          "output_type": "display_data",
          "data": {
            "text/plain": [
              "<Figure size 432x288 with 1 Axes>"
            ],
            "image/png": "[encoded data removed]"
          },
          "metadata": {}
        }
      ],
      "source": [
        "from tensorflow.keras.utils import load_img\n",
        "img = load_img(train_df.iloc[1]['Filepath'])\n",
        "plt.imshow(img)"
      ]
    },
    {
      "cell_type": "markdown",
      "metadata": {
        "id": "wmVH_YryhVYQ"
      },
      "source": [
        "## Случайный поворот\n",
        "Техника поворота изображения позволяет модели создавать изображения с разной ориентацией. Класс ImageDataGenerator в Keras использует эту технику для создания случайно повернутых изображений."
      ]
    },
    {
      "cell_type": "code",
      "execution_count": null,
      "metadata": {
        "colab": {
          "base_uri": "https://localhost:8080/",
          "height": 251
        },
        "id": "sQ9tLyZYhVYQ",
        "outputId": "1d9222d4-a31d-4536-8a9d-f9463102756e"
      },
      "outputs": [
        {
          "output_type": "display_data",
          "data": {
            "text/plain": [
              "<Figure size 432x288 with 9 Axes>"
            ],
            "image/png": "[encoded data removed]"
          },
          "metadata": {}
        }
      ],
      "source": [
        "# Преобразовать изображение в массив для дальнейшей обработки\n",
        "data = img_to_array(img)\n",
        "# Увеличить размерность data на 1 образец и сохранить в samples\n",
        "samples = expand_dims(data, 0)\n",
        "# Вызвать ImageDataGenerator для аугментации изображений\n",
        "datagen = ImageDataGenerator(rotation_range=90)\n",
        "# Создать итератор для генератора\n",
        "it = datagen.flow(samples, batch_size=1)\n",
        "# В цикле (9 итераций): \n",
        "for i in range(9):\n",
        "    # Создать график 3 x 3 \n",
        "    pyplot.subplot(330 + 1 + i)\n",
        "    # Сгенерировать изображение\n",
        "    batch = it.next()\n",
        "    # Сохранить в массиве беззнаковых целых для просмотра\n",
        "    image = batch[0].astype('uint8')\n",
        "    # Добавить на график\n",
        "    pyplot.imshow(image)\n",
        "# Отобразить график\n",
        "pyplot.show()"
      ]
    },
    {
      "cell_type": "markdown",
      "metadata": {
        "id": "KmgnfRePhVYQ"
      },
      "source": [
        "## Случайные сдвиги\n",
        "\n",
        "Техника случайных сдвигов помогает улучшить те изображения, которые расположены неправильно. Может существовать сценарий, при котором они не находятся не в центре. ImageDataGenerator использует параметр height_shift_range для вертикального смещения изображения, а для горизонтального смещения изображения можно использовать width_shift_range. Значения указываются в виде процентов или целых чисел."
      ]
    },
    {
      "cell_type": "markdown",
      "metadata": {
        "id": "3qtsJO8vhVYQ"
      },
      "source": [
        "### Случайный горизонтальный сдвиг"
      ]
    },
    {
      "cell_type": "code",
      "execution_count": null,
      "metadata": {
        "colab": {
          "base_uri": "https://localhost:8080/",
          "height": 251
        },
        "id": "relCg92nhVYR",
        "outputId": "f67b69f4-9480-425f-a1dc-4f7ef78dacf4"
      },
      "outputs": [
        {
          "output_type": "display_data",
          "data": {
            "text/plain": [
              "<Figure size 432x288 with 9 Axes>"
            ],
            "image/png": "[encoded data removed]"
          },
          "metadata": {}
        }
      ],
      "source": [
        "data = img_to_array(img)\n",
        "samples = expand_dims(data, 0)\n",
        "datagen = ImageDataGenerator(width_shift_range=[-100,100]) # генератор с определением диапазона общей ширины сдвига [-100, +100]\n",
        "it = datagen.flow(samples, batch_size=1)\n",
        "for i in range(9):\n",
        "    pyplot.subplot(330 + 1 + i)\n",
        "    batch = it.next()\n",
        "    image = batch[0].astype('uint8')\n",
        "    pyplot.imshow(image)\n",
        "pyplot.show()"
      ]
    },
    {
      "cell_type": "markdown",
      "metadata": {
        "id": "zDER9nTMhVYR"
      },
      "source": [
        "### Случайный вертикальный сдвиг"
      ]
    },
    {
      "cell_type": "code",
      "execution_count": null,
      "metadata": {
        "colab": {
          "base_uri": "https://localhost:8080/",
          "height": 251
        },
        "id": "qvFunwNbhVYR",
        "outputId": "0e7b0069-c8f7-46ec-a3e7-639943711b53"
      },
      "outputs": [
        {
          "output_type": "display_data",
          "data": {
            "text/plain": [
              "<Figure size 432x288 with 9 Axes>"
            ],
            "image/png": "[encoded data removed]"
          },
          "metadata": {}
        }
      ],
      "source": [
        "data = img_to_array(img)\n",
        "samples = expand_dims(data, 0)\n",
        "datagen = ImageDataGenerator(height_shift_range=0.5) # высота сдвига – 0.5\n",
        "it = datagen.flow(samples, batch_size=1)\n",
        "for i in range(9):\n",
        "    pyplot.subplot(330 + 1 + i)\n",
        "    batch = it.next()\n",
        "    image = batch[0].astype('uint8')\n",
        "    pyplot.imshow(image)\n",
        "pyplot.show()"
      ]
    },
    {
      "cell_type": "markdown",
      "metadata": {
        "id": "pPJqWkkQhVYT"
      },
      "source": [
        "## Случайная яркость\n",
        "\n",
        "Еще одна разновидность аугментации — изменение яркости изображений. Таким образом, можно обучать модель на изображениях, сгенерированных с использованием уже имеющихся. Для управления яркостью изображений с помощью ImageDataGenerator есть аргумент, называемый brightness_range (диапазон яркости). Для этого параметра отрицательные значения приведут к затемнению изображений, тогда как положительные значения сделают изображения яркими."
      ]
    },
    {
      "cell_type": "code",
      "execution_count": null,
      "metadata": {
        "colab": {
          "base_uri": "https://localhost:8080/",
          "height": 251
        },
        "id": "z2zOnUmchVYT",
        "outputId": "5e3368a1-ef49-4f20-8ce3-6c99ed13ae0b"
      },
      "outputs": [
        {
          "output_type": "display_data",
          "data": {
            "text/plain": [
              "<Figure size 432x288 with 9 Axes>"
            ],
            "image/png": "[encoded data removed]"
          },
          "metadata": {}
        }
      ],
      "source": [
        "data = img_to_array(img)\n",
        "samples = expand_dims(data, 0)\n",
        "datagen = ImageDataGenerator(brightness_range=[0.2,1.0]) # диапазон изменения яркости - [0,2...1,0]\n",
        "it = datagen.flow(samples, batch_size=1)\n",
        "for i in range(9):\n",
        "    pyplot.subplot(330 + 1 + i)\n",
        "    batch = it.next()\n",
        "    image = batch[0].astype('uint8')\n",
        "    pyplot.imshow(image)\n",
        "pyplot.show()"
      ]
    },
    {
      "cell_type": "markdown",
      "metadata": {
        "id": "_a_-KPD4hVYU"
      },
      "source": [
        "## Случайный зум \n",
        "\n",
        "Для увеличения масштаба следует использовать значения меньше 1, для уменьшения – больше 1. Эта операция увеличения и уменьшения масштаба реализуется с использованием аргумента zoom_range."
      ]
    },
    {
      "cell_type": "code",
      "execution_count": null,
      "metadata": {
        "colab": {
          "base_uri": "https://localhost:8080/",
          "height": 251
        },
        "id": "tO8vqKDShVYU",
        "outputId": "954d6683-b4c5-40d6-a9dc-7e8cd47a85ec"
      },
      "outputs": [
        {
          "output_type": "display_data",
          "data": {
            "text/plain": [
              "<Figure size 432x288 with 9 Axes>"
            ],
            "image/png": "[encoded data removed]"
          },
          "metadata": {}
        }
      ],
      "source": [
        "data = img_to_array(img)\n",
        "samples = expand_dims(data, 0)\n",
        "datagen = ImageDataGenerator(zoom_range=[0.1,1.0]) # изменение размеров изображения – от 0,1 до 1,0 от исходного\n",
        "it = datagen.flow(samples, batch_size=1)\n",
        "for i in range(9):\n",
        "    pyplot.subplot(330 + 1 + i)\n",
        "    batch = it.next()\n",
        "    image = batch[0].astype('uint8')\n",
        "    pyplot.imshow(image)\n",
        "pyplot.show()"
      ]
    },
    {
      "cell_type": "markdown",
      "metadata": {
        "id": "771jXwNchVYU"
      },
      "source": [
        "## Создание модели CNN"
      ]
    },
    {
      "cell_type": "markdown",
      "metadata": {
        "id": "W3wD-t7DhVYU"
      },
      "source": [
        "CNN состоит из нескольких слоев нейронов. Слои в основном включают сверточные слои и слои пулинга. Сверточный слой содержит набор фильтров, параметры которых необходимо изучить нейронной сети. Размерность фильтров меньше, чем размерность входных данных. Каждый фильтр выполняет операцию свертки на входном слое для вычисления карты признаков."
      ]
    },
    {
      "cell_type": "markdown",
      "metadata": {
        "id": "eskQsR-FhVYU"
      },
      "source": [
        "## Создание сверточных слоев"
      ]
    },
    {
      "cell_type": "markdown",
      "metadata": {
        "id": "Yr6hRpFbhVYV"
      },
      "source": [
        "Последовательная модель позволяет создавать модели слой за слоем поэтапно.\n",
        "\n",
        "В качестве входных данных CNN принимает тензоры вида \"высота изображения, ширина изображения, каналы цвета\".\n",
        "\n",
        "Функция активации — это математические «ворота» между входом, питающим текущий нейрон, и его выходом, идущим к следующему слою. Они решают, должен ли нейрон быть активирован или нет.\n",
        "\n",
        "Функция активации ReLU широко используется и является выбором по умолчанию, поскольку дает лучшие результаты. RеLU распространена, потому что она проста в реализации и эффективна для преодоления ограничений других ранее популярных функций активации (проблема затухающего градиента). Она менее восприимчива к затухающим градиентам, которые мешают обучению глубоких моделей – по мере добавления в нейронные сети большего количества слоев, использующих определенные функции активации, градиенты функции потерь приближаются к нулю, что затрудняет обучение сети."
      ]
    },
    {
      "cell_type": "markdown",
      "metadata": {
        "id": "ADAWsJhdhVYV"
      },
      "source": [
        "### Слой Conv2D\n",
        "Keras Conv2D — это слой 2D-свертки, который создает ядро, выполняющее свертку с входными данными для создания нового тензора (выходных данных). Обязательный параметр Conv2D — это количество фильтров, при помощи которых будут обучаться сверточные слои. Другие параметры – размер ядра и функция активации.\n",
        "\n",
        "### Слой пулинга\n",
        "Слои пулинга используются для уменьшения размерности карты признаков. Таким образом, это уменьшает количество параметров обучения и объем вычислений, выполняемых в сети.\n",
        "Пулинг максимума представляет собой операцию, которая выбирает максимальный элемент из области карты признаков, охватываемой фильтром."
      ]
    },
    {
      "cell_type": "code",
      "execution_count": null,
      "metadata": {
        "id": "9Q-DSi1shVYV"
      },
      "outputs": [],
      "source": [
        "model = models.Sequential()\n",
        "model.add(layers.Conv2D(32, kernel_size=(3, 3), padding=\"same\", activation='relu', input_shape=(120, 120, 3)))\n",
        "model.add(layers.MaxPooling2D((2, 2)))\n",
        "model.add(layers.Conv2D(64, (3, 3), padding=\"same\", activation='relu'))\n",
        "model.add(layers.MaxPooling2D((2, 2)))\n",
        "model.add(layers.Conv2D(64, (3, 3), padding=\"same\", activation='relu'))\n",
        "model.add(layers.MaxPooling2D((2, 2)))\n",
        "model.add(layers.Conv2D(64, (3, 3), padding=\"same\", activation='relu'))\n",
        "model.add(layers.MaxPooling2D((2, 2)))\n",
        "model.add(layers.Conv2D(64, (3, 3), padding=\"same\", activation='relu'))"
      ]
    },
    {
      "cell_type": "code",
      "execution_count": null,
      "metadata": {
        "colab": {
          "base_uri": "https://localhost:8080/"
        },
        "id": "AB1TuRfLhVYW",
        "outputId": "8cc476e9-9683-43cf-d45b-d28e88a07551"
      },
      "outputs": [
        {
          "output_type": "stream",
          "name": "stdout",
          "text": [
            "Model: \"sequential\"\n",
            "_________________________________________________________________\n",
            " Layer (type)                Output Shape              Param #   \n",
            "=================================================================\n",
            " conv2d (Conv2D)             (None, 120, 120, 32)      896       \n",
            "                                                                 \n",
            " max_pooling2d (MaxPooling2D  (None, 60, 60, 32)       0         \n",
            " )                                                               \n",
            "                                                                 \n",
            " conv2d_1 (Conv2D)           (None, 60, 60, 64)        18496     \n",
            "                                                                 \n",
            " max_pooling2d_1 (MaxPooling  (None, 30, 30, 64)       0         \n",
            " 2D)                                                             \n",
            "                                                                 \n",
            " conv2d_2 (Conv2D)           (None, 30, 30, 64)        36928     \n",
            "                                                                 \n",
            " max_pooling2d_2 (MaxPooling  (None, 15, 15, 64)       0         \n",
            " 2D)                                                             \n",
            "                                                                 \n",
            " conv2d_3 (Conv2D)           (None, 15, 15, 64)        36928     \n",
            "                                                                 \n",
            " max_pooling2d_3 (MaxPooling  (None, 7, 7, 64)         0         \n",
            " 2D)                                                             \n",
            "                                                                 \n",
            " conv2d_4 (Conv2D)           (None, 7, 7, 64)          36928     \n",
            "                                                                 \n",
            "=================================================================\n",
            "Total params: 130,176\n",
            "Trainable params: 130,176\n",
            "Non-trainable params: 0\n",
            "_________________________________________________________________\n"
          ]
        }
      ],
      "source": [
        "# вывод информации о модели\n",
        "model.summary()"
      ]
    },
    {
      "cell_type": "markdown",
      "metadata": {
        "id": "kUcVtVKohVYW"
      },
      "source": [
        "Выход каждого слоя Conv2D и MaxPooling2D представляет собой трехмерный тензор \"высота, ширина, каналы\". Размеры ширины и высоты имеют тенденцию уменьшаться по мере того, как сеть становится все более глубокой. Количество выходных каналов для каждого слоя Conv2D является первым аргументом. Как правило, по мере уменьшения ширины и высоты можно добавлять больше выходных каналов в каждый слой Conv2D."
      ]
    },
    {
      "cell_type": "markdown",
      "metadata": {
        "id": "J4mAiIeZhVYW"
      },
      "source": [
        "## Добавление полносвязных слоев"
      ]
    },
    {
      "cell_type": "markdown",
      "metadata": {
        "id": "0uhY8YTVhVYW"
      },
      "source": [
        "Чтобы завершить модель, достаточно передать последний выходной тензор из сверточного слоя (26, 26, 32) в один или несколько полносвязных слоев для выполнения классификации. Эти слои принимают в качестве входных данных векторы (которые являются одномерными), а текущий вывод представляет собой трехмерный тензор. Сначала необходимо выполнить сглаживание (Flatten), преобразовав 3D-выход в 1D, а затем добавить один или несколько полносвязных слоев. В имеющемся наборе данных есть 2 выходных класса, поэтому на выходном слое используется 2 нейрона по каждому из них."
      ]
    },
    {
      "cell_type": "code",
      "execution_count": null,
      "metadata": {
        "id": "bCkYYuvkhVYX"
      },
      "outputs": [],
      "source": [
        "model.add(layers.Flatten())\n",
        "model.add(layers.Dense(64, activation='relu'))\n",
        "model.add(layers.Dense(2, activation='softmax'))"
      ]
    },
    {
      "cell_type": "code",
      "execution_count": null,
      "metadata": {
        "colab": {
          "base_uri": "https://localhost:8080/"
        },
        "id": "UxwKaueDhVYX",
        "outputId": "428dde3b-f4ae-477a-c3f5-1dc8fbd700ce"
      },
      "outputs": [
        {
          "output_type": "stream",
          "name": "stdout",
          "text": [
            "Model: \"sequential\"\n",
            "_________________________________________________________________\n",
            " Layer (type)                Output Shape              Param #   \n",
            "=================================================================\n",
            " conv2d (Conv2D)             (None, 120, 120, 32)      896       \n",
            "                                                                 \n",
            " max_pooling2d (MaxPooling2D  (None, 60, 60, 32)       0         \n",
            " )                                                               \n",
            "                                                                 \n",
            " conv2d_1 (Conv2D)           (None, 60, 60, 64)        18496     \n",
            "                                                                 \n",
            " max_pooling2d_1 (MaxPooling  (None, 30, 30, 64)       0         \n",
            " 2D)                                                             \n",
            "                                                                 \n",
            " conv2d_2 (Conv2D)           (None, 30, 30, 64)        36928     \n",
            "                                                                 \n",
            " max_pooling2d_2 (MaxPooling  (None, 15, 15, 64)       0         \n",
            " 2D)                                                             \n",
            "                                                                 \n",
            " conv2d_3 (Conv2D)           (None, 15, 15, 64)        36928     \n",
            "                                                                 \n",
            " max_pooling2d_3 (MaxPooling  (None, 7, 7, 64)         0         \n",
            " 2D)                                                             \n",
            "                                                                 \n",
            " conv2d_4 (Conv2D)           (None, 7, 7, 64)          36928     \n",
            "                                                                 \n",
            " flatten (Flatten)           (None, 3136)              0         \n",
            "                                                                 \n",
            " dense (Dense)               (None, 64)                200768    \n",
            "                                                                 \n",
            " dense_1 (Dense)             (None, 2)                 130       \n",
            "                                                                 \n",
            "=================================================================\n",
            "Total params: 331,074\n",
            "Trainable params: 331,074\n",
            "Non-trainable params: 0\n",
            "_________________________________________________________________\n"
          ]
        }
      ],
      "source": [
        "model.summary()"
      ]
    },
    {
      "cell_type": "code",
      "source": [
        "# визуализация построенной модели\n",
        "from tensorflow.keras.utils import plot_model\n",
        "plot_model(model, to_file='model_image.png', show_layer_names=False, show_shapes=True)"
      ],
      "metadata": {
        "colab": {
          "base_uri": "https://localhost:8080/",
          "height": 1000
        },
        "id": "PfINXQWMOnxq",
        "outputId": "f15825c4-623f-4619-8092-7468a5077a6c"
      },
      "execution_count": null,
      "outputs": [
        {
          "output_type": "execute_result",
          "data": {
            "image/png": "[encoded data removed]",
            "text/plain": [
              "<IPython.core.display.Image object>"
            ]
          },
          "metadata": {},
          "execution_count": 40
        }
      ]
    },
    {
      "cell_type": "markdown",
      "metadata": {
        "id": "jufe86P5hVYX"
      },
      "source": [
        "## Компиляция и обучение модели"
      ]
    },
    {
      "cell_type": "markdown",
      "metadata": {
        "id": "rQhRBeczhVYX"
      },
      "source": [
        "После того, как модель создана, она компилируется с помощью оптимизатора Adam, одного из самых популярных алгоритмов оптимизации. Кроме того, указывается тип функции потерь, который представляет собой категориальную кросс-энтропию, используемую для решения задач многоклассовой классификации. Бинарная кросс-энтропия также может использоваться в качестве функции потерь. Наконец, в качестве метрики указывается точность, которую необходимо проанализировать во время обучения модели."
      ]
    },
    {
      "cell_type": "code",
      "execution_count": null,
      "metadata": {
        "id": "ozHqoZkVhVYY"
      },
      "outputs": [],
      "source": [
        "model.compile(optimizer='adam',\n",
        "              loss='categorical_crossentropy',\n",
        "              metrics=['accuracy'])"
      ]
    },
    {
      "cell_type": "markdown",
      "metadata": {
        "id": "W0BsIlTehVYY"
      },
      "source": [
        "### Обучение модели\n",
        "Модель обучается с помощью Keras-функции fit() в течение 5 эпох. Функция fit() возвращает объект history – записывается результат этой функции в \"историю\", которая используется для построения графиков функций точности и потерь на обучающем и валидационном наборе данных, что позволяет визуально проанализировать производительность модели."
      ]
    },
    {
      "cell_type": "code",
      "execution_count": null,
      "metadata": {
        "colab": {
          "base_uri": "https://localhost:8080/"
        },
        "id": "nXg62RaNhVYY",
        "outputId": "b0ca17a4-11ea-4ab6-8ba8-d2c3f84cbd32"
      },
      "outputs": [
        {
          "output_type": "stream",
          "name": "stdout",
          "text": [
            "Epoch 1/5\n",
            "25/25 [==============================] - 21s 372ms/step - loss: 0.6589 - accuracy: 0.6383 - val_loss: 0.6552 - val_accuracy: 0.6264\n",
            "Epoch 2/5\n",
            "25/25 [==============================] - 7s 272ms/step - loss: 0.6440 - accuracy: 0.6345 - val_loss: 0.6563 - val_accuracy: 0.6264\n",
            "Epoch 3/5\n",
            "25/25 [==============================] - 8s 320ms/step - loss: 0.6371 - accuracy: 0.6478 - val_loss: 0.6413 - val_accuracy: 0.6552\n",
            "Epoch 4/5\n",
            "25/25 [==============================] - 7s 263ms/step - loss: 0.6302 - accuracy: 0.6580 - val_loss: 0.6343 - val_accuracy: 0.6782\n",
            "Epoch 5/5\n",
            "25/25 [==============================] - 8s 324ms/step - loss: 0.6287 - accuracy: 0.6535 - val_loss: 0.6456 - val_accuracy: 0.5977\n"
          ]
        }
      ],
      "source": [
        "history = model.fit(train_data, validation_data = val_data, batch_size=64, epochs=5)"
      ]
    },
    {
      "cell_type": "markdown",
      "metadata": {
        "id": "98PJuPyMhVYY"
      },
      "source": [
        "Наблюдая за точностью на обучающей выборке и имеющимися потерями, можно сказать, что модель требует большего количества файлов и доработки."
      ]
    },
    {
      "cell_type": "markdown",
      "metadata": {
        "id": "DmSvmN3ChVYZ"
      },
      "source": [
        "### Проверка модели на тестовой выборке"
      ]
    },
    {
      "cell_type": "code",
      "execution_count": null,
      "metadata": {
        "colab": {
          "base_uri": "https://localhost:8080/"
        },
        "id": "aB6yOje3hVYZ",
        "outputId": "91b20589-b7fd-4753-d06f-87abaff2806c"
      },
      "outputs": [
        {
          "output_type": "stream",
          "name": "stdout",
          "text": [
            "7/7 [==============================] - 1s 94ms/step - loss: 0.6085 - accuracy: 0.7002\n"
          ]
        }
      ],
      "source": [
        "(ls, acc) = model.evaluate(test_data)"
      ]
    },
    {
      "cell_type": "code",
      "execution_count": null,
      "metadata": {
        "colab": {
          "base_uri": "https://localhost:8080/"
        },
        "id": "3mVU5p-BhVYZ",
        "outputId": "df4f0258-12b2-4683-f9bd-292c943f4cf0"
      },
      "outputs": [
        {
          "output_type": "stream",
          "name": "stdout",
          "text": [
            "Точность модели = 70.02288103103638 % . Величина ошибки = 60.85461974143982 %\n"
          ]
        }
      ],
      "source": [
        "print('Точность модели = {} %'.format(acc * 100), '. Величина ошибки = {} %'.format(ls * 100))"
      ]
    },
    {
      "cell_type": "markdown",
      "metadata": {
        "id": "s8Y2rMc9hVYZ"
      },
      "source": [
        "### Точность на тестовой выборке: 70.02%   Потери на тестовой выборке: 60.8%\n"
      ]
    },
    {
      "cell_type": "markdown",
      "metadata": {
        "id": "GqDXXmnyhVYa"
      },
      "source": [
        "## Визуализация точности и потерь модели\n",
        "Представить оценку модели в перспективе можно, построив графики точности и потерь на данных обучающей и валидационной выборки:"
      ]
    },
    {
      "cell_type": "code",
      "execution_count": null,
      "metadata": {
        "colab": {
          "base_uri": "https://localhost:8080/",
          "height": 513
        },
        "id": "_QjMLR2jhVYa",
        "outputId": "96fc197b-945a-496b-a59b-ed6bb2803c9b"
      },
      "outputs": [
        {
          "output_type": "display_data",
          "data": {
            "text/plain": [
              "<Figure size 1152x576 with 2 Axes>"
            ],
            "image/png": "[encoded data removed]"
          },
          "metadata": {}
        }
      ],
      "source": [
        "epochs = [i for i in range(5)]\n",
        "fig , ax = plt.subplots(1,2)\n",
        "train_acc = history.history['accuracy']\n",
        "train_loss = history.history['loss']\n",
        "val_acc = history.history['val_accuracy']\n",
        "val_loss = history.history['val_loss']\n",
        "fig.set_size_inches(16,8)\n",
        "\n",
        "ax[0].plot(epochs , train_acc , 'go-' , label = 'обучающая')\n",
        "ax[0].plot(epochs , val_acc , 'ro-' , label = 'валидационная')\n",
        "ax[0].set_title('Точность на обучающей и валидационной выборке')\n",
        "ax[0].legend()\n",
        "ax[0].set_xlabel(\"Число эпох\")\n",
        "ax[0].set_ylabel(\"Точность\")\n",
        "\n",
        "ax[1].plot(epochs , train_loss , 'g-o' , label = 'обучающая')\n",
        "ax[1].plot(epochs , val_loss , 'r-o' , label = 'валидационная')\n",
        "ax[1].set_title('Величина ошибки на обучающей и валидационной выборке')\n",
        "ax[1].legend()\n",
        "ax[1].set_xlabel(\"Число эпох\")\n",
        "ax[1].set_ylabel(\"Величина ошибки\")\n",
        "plt.show()"
      ]
    },
    {
      "cell_type": "code",
      "execution_count": null,
      "metadata": {
        "colab": {
          "base_uri": "https://localhost:8080/"
        },
        "id": "pzrTR_PqhVYa",
        "outputId": "ebaff82d-d3e2-4ceb-f642-abb9ec167f68"
      },
      "outputs": [
        {
          "output_type": "execute_result",
          "data": {
            "text/plain": [
              "{'HEALTHY': 0, 'SICK': 1}"
            ]
          },
          "metadata": {},
          "execution_count": 46
        }
      ],
      "source": [
        "# Словарь, который сопоставляет метки классов с индексом вектора предсказания, который получается в качестве вывода при использовании\n",
        "label_map = (test_data.class_indices)\n",
        "label_map"
      ]
    },
    {
      "cell_type": "markdown",
      "metadata": {
        "id": "ZcsXzMl6hVYa"
      },
      "source": [
        "## Предсказание меток"
      ]
    },
    {
      "cell_type": "code",
      "execution_count": null,
      "metadata": {
        "colab": {
          "base_uri": "https://localhost:8080/"
        },
        "id": "IkTIdW2ChVYb",
        "outputId": "0d440354-f3be-4a35-8965-2d9af423ab15"
      },
      "outputs": [
        {
          "output_type": "stream",
          "name": "stdout",
          "text": [
            "7/7 [==============================] - 1s 56ms/step\n"
          ]
        },
        {
          "output_type": "execute_result",
          "data": {
            "text/plain": [
              "array([[0.5958197 , 0.40418023],\n",
              "       [0.39179385, 0.60820615],\n",
              "       [0.5381468 , 0.4618532 ],\n",
              "       [0.6454098 , 0.35459015],\n",
              "       [0.57890344, 0.42109656],\n",
              "       [0.421142  , 0.578858  ],\n",
              "       [0.7323629 , 0.2676371 ],\n",
              "       [0.48212045, 0.51787955],\n",
              "       [0.6128335 , 0.38716656],\n",
              "       [0.78308827, 0.21691173],\n",
              "       [0.55536073, 0.44463927],\n",
              "       [0.62981117, 0.37018883],\n",
              "       [0.54616475, 0.45383528],\n",
              "       [0.5827444 , 0.41725555],\n",
              "       [0.6245374 , 0.37546253],\n",
              "       [0.44325355, 0.5567465 ],\n",
              "       [0.6021453 , 0.3978547 ],\n",
              "       [0.38945723, 0.6105427 ],\n",
              "       [0.85985386, 0.14014609],\n",
              "       [0.781997  , 0.21800295],\n",
              "       [0.54954475, 0.45045522],\n",
              "       [0.7895988 , 0.2104012 ],\n",
              "       [0.6080657 , 0.3919343 ],\n",
              "       [0.4370208 , 0.56297916],\n",
              "       [0.50852585, 0.49147412],\n",
              "       [0.7281211 , 0.27187893],\n",
              "       [0.5168653 , 0.48313466],\n",
              "       [0.5554354 , 0.4445646 ],\n",
              "       [0.6037369 , 0.39626312],\n",
              "       [0.5701474 , 0.42985266],\n",
              "       [0.5822536 , 0.41774642],\n",
              "       [0.53171057, 0.46828943],\n",
              "       [0.54177934, 0.4582207 ],\n",
              "       [0.5299159 , 0.47008407],\n",
              "       [0.40936717, 0.5906328 ],\n",
              "       [0.41226605, 0.5877339 ],\n",
              "       [0.3958886 , 0.60411143],\n",
              "       [0.8466865 , 0.15331356],\n",
              "       [0.52645725, 0.4735427 ],\n",
              "       [0.6589272 , 0.3410728 ],\n",
              "       [0.604649  , 0.39535102],\n",
              "       [0.5095332 , 0.49046674],\n",
              "       [0.8084876 , 0.19151242],\n",
              "       [0.660393  , 0.33960694],\n",
              "       [0.51512486, 0.4848752 ],\n",
              "       [0.677087  , 0.32291302],\n",
              "       [0.44519666, 0.5548033 ],\n",
              "       [0.49688342, 0.50311655],\n",
              "       [0.72837895, 0.27162108],\n",
              "       [0.5490882 , 0.45091182],\n",
              "       [0.5753543 , 0.42464572],\n",
              "       [0.52509487, 0.4749051 ],\n",
              "       [0.8508853 , 0.14911471],\n",
              "       [0.7126778 , 0.28732222],\n",
              "       [0.5978732 , 0.40212682],\n",
              "       [0.547618  , 0.45238203],\n",
              "       [0.3937961 , 0.606204  ],\n",
              "       [0.5958976 , 0.40410239],\n",
              "       [0.48914298, 0.510857  ],\n",
              "       [0.447878  , 0.552122  ],\n",
              "       [0.46498403, 0.53501594],\n",
              "       [0.3892    , 0.6108    ],\n",
              "       [0.39374903, 0.606251  ],\n",
              "       [0.5399802 , 0.46001986],\n",
              "       [0.52812976, 0.47187024],\n",
              "       [0.5834976 , 0.41650242],\n",
              "       [0.7000606 , 0.2999394 ],\n",
              "       [0.38601136, 0.61398864],\n",
              "       [0.5157672 , 0.48423278],\n",
              "       [0.6021453 , 0.3978547 ],\n",
              "       [0.6685103 , 0.33148962],\n",
              "       [0.4188757 , 0.5811243 ],\n",
              "       [0.39653268, 0.6034673 ],\n",
              "       [0.5787575 , 0.42124248],\n",
              "       [0.5131963 , 0.48680368],\n",
              "       [0.80246854, 0.19753148],\n",
              "       [0.4085991 , 0.5914009 ],\n",
              "       [0.42979383, 0.5702062 ],\n",
              "       [0.43137053, 0.5686295 ],\n",
              "       [0.4749737 , 0.52502626],\n",
              "       [0.60300714, 0.39699286],\n",
              "       [0.4511346 , 0.5488654 ],\n",
              "       [0.56871337, 0.43128663],\n",
              "       [0.62694734, 0.37305272],\n",
              "       [0.56855303, 0.43144694],\n",
              "       [0.54742026, 0.45257977],\n",
              "       [0.7093461 , 0.2906539 ],\n",
              "       [0.649847  , 0.35015303],\n",
              "       [0.6784016 , 0.32159838],\n",
              "       [0.51584685, 0.48415315],\n",
              "       [0.7267141 , 0.27328593],\n",
              "       [0.3598372 , 0.6401628 ],\n",
              "       [0.5296351 , 0.47036493],\n",
              "       [0.5174962 , 0.48250374],\n",
              "       [0.5103191 , 0.48968095],\n",
              "       [0.7490991 , 0.25090092],\n",
              "       [0.51931226, 0.48068777],\n",
              "       [0.66192764, 0.3380724 ],\n",
              "       [0.48193887, 0.51806116],\n",
              "       [0.58640456, 0.41359544],\n",
              "       [0.5371551 , 0.46284488],\n",
              "       [0.6383215 , 0.36167854],\n",
              "       [0.60829824, 0.3917018 ],\n",
              "       [0.5673986 , 0.43260145],\n",
              "       [0.3868962 , 0.6131038 ],\n",
              "       [0.603499  , 0.39650097],\n",
              "       [0.63915557, 0.36084443],\n",
              "       [0.60812795, 0.39187202],\n",
              "       [0.56188154, 0.43811843],\n",
              "       [0.79504377, 0.2049562 ],\n",
              "       [0.5299051 , 0.47009492],\n",
              "       [0.74543655, 0.25456345],\n",
              "       [0.7122068 , 0.28779325],\n",
              "       [0.59271014, 0.40728986],\n",
              "       [0.47573933, 0.5242607 ],\n",
              "       [0.41503975, 0.5849603 ],\n",
              "       [0.76555973, 0.23444025],\n",
              "       [0.7383554 , 0.26164457],\n",
              "       [0.7584779 , 0.24152204],\n",
              "       [0.71595263, 0.28404737],\n",
              "       [0.48672572, 0.5132743 ],\n",
              "       [0.48300081, 0.5169992 ],\n",
              "       [0.48608035, 0.51391965],\n",
              "       [0.56026936, 0.4397307 ],\n",
              "       [0.79304993, 0.2069501 ],\n",
              "       [0.5591649 , 0.4408351 ],\n",
              "       [0.668584  , 0.33141607],\n",
              "       [0.7120679 , 0.28793207],\n",
              "       [0.38744572, 0.6125543 ],\n",
              "       [0.4821504 , 0.5178496 ],\n",
              "       [0.6759126 , 0.32408738],\n",
              "       [0.56871337, 0.43128663],\n",
              "       [0.6386231 , 0.36137685],\n",
              "       [0.5570267 , 0.44297335],\n",
              "       [0.5325499 , 0.4674501 ],\n",
              "       [0.6944552 , 0.3055448 ],\n",
              "       [0.753901  , 0.24609904],\n",
              "       [0.44739518, 0.5526048 ],\n",
              "       [0.48984542, 0.5101546 ],\n",
              "       [0.4722629 , 0.5277371 ],\n",
              "       [0.4362976 , 0.5637024 ],\n",
              "       [0.4534645 , 0.5465355 ],\n",
              "       [0.7500373 , 0.24996269],\n",
              "       [0.66981816, 0.3301818 ],\n",
              "       [0.7093461 , 0.2906539 ],\n",
              "       [0.5262321 , 0.47376788],\n",
              "       [0.54754263, 0.4524574 ],\n",
              "       [0.51678157, 0.4832185 ],\n",
              "       [0.64973843, 0.3502615 ],\n",
              "       [0.3889786 , 0.6110214 ],\n",
              "       [0.5460465 , 0.45395347],\n",
              "       [0.8077739 , 0.19222611],\n",
              "       [0.5797694 , 0.42023063],\n",
              "       [0.5994021 , 0.40059787],\n",
              "       [0.70605403, 0.29394594],\n",
              "       [0.6843134 , 0.31568658],\n",
              "       [0.5827937 , 0.4172063 ],\n",
              "       [0.4913266 , 0.5086734 ],\n",
              "       [0.84534246, 0.15465757],\n",
              "       [0.86825615, 0.13174386],\n",
              "       [0.6128335 , 0.38716656],\n",
              "       [0.5133064 , 0.48669365],\n",
              "       [0.53892523, 0.46107483],\n",
              "       [0.54162776, 0.45837224],\n",
              "       [0.66174734, 0.33825272],\n",
              "       [0.72562665, 0.27437335],\n",
              "       [0.451682  , 0.548318  ],\n",
              "       [0.54162776, 0.45837224],\n",
              "       [0.68688464, 0.3131154 ],\n",
              "       [0.5369035 , 0.46309647],\n",
              "       [0.51362985, 0.48637018],\n",
              "       [0.4755425 , 0.5244575 ],\n",
              "       [0.60967165, 0.39032835],\n",
              "       [0.44279236, 0.55720764],\n",
              "       [0.45831445, 0.5416856 ],\n",
              "       [0.81463677, 0.18536326],\n",
              "       [0.46800172, 0.5319983 ],\n",
              "       [0.8533144 , 0.14668559],\n",
              "       [0.43540692, 0.5645931 ],\n",
              "       [0.48501834, 0.5149817 ],\n",
              "       [0.5616772 , 0.43832278],\n",
              "       [0.697315  , 0.30268502],\n",
              "       [0.7230856 , 0.27691436],\n",
              "       [0.39526066, 0.60473937],\n",
              "       [0.7142334 , 0.28576654],\n",
              "       [0.4046776 , 0.5953224 ],\n",
              "       [0.37567413, 0.6243258 ],\n",
              "       [0.7735056 , 0.22649434],\n",
              "       [0.5213798 , 0.47862023],\n",
              "       [0.5800781 , 0.41992188],\n",
              "       [0.44020143, 0.5597986 ],\n",
              "       [0.6060324 , 0.39396763],\n",
              "       [0.47827643, 0.52172357],\n",
              "       [0.44726485, 0.55273515],\n",
              "       [0.59914416, 0.40085584],\n",
              "       [0.51383984, 0.4861602 ],\n",
              "       [0.5487768 , 0.45122316],\n",
              "       [0.5690787 , 0.43092135],\n",
              "       [0.6572931 , 0.34270698],\n",
              "       [0.5449353 , 0.45506477],\n",
              "       [0.7198711 , 0.2801289 ],\n",
              "       [0.4268199 , 0.57318014],\n",
              "       [0.52955556, 0.47044444],\n",
              "       [0.5406292 , 0.45937082],\n",
              "       [0.7542992 , 0.24570073],\n",
              "       [0.5775093 , 0.42249072],\n",
              "       [0.5283472 , 0.4716528 ],\n",
              "       [0.48621437, 0.51378566],\n",
              "       [0.40195495, 0.59804505],\n",
              "       [0.7162657 , 0.2837343 ],\n",
              "       [0.5848152 , 0.4151848 ],\n",
              "       [0.58488494, 0.41511503],\n",
              "       [0.3890425 , 0.6109575 ],\n",
              "       [0.74158394, 0.258416  ],\n",
              "       [0.7512826 , 0.24871741],\n",
              "       [0.72278714, 0.2772129 ],\n",
              "       [0.78057706, 0.21942292],\n",
              "       [0.5390986 , 0.46090138],\n",
              "       [0.47449583, 0.5255042 ],\n",
              "       [0.555954  , 0.44404602],\n",
              "       [0.7776088 , 0.22239122],\n",
              "       [0.69990206, 0.30009797],\n",
              "       [0.40936717, 0.5906328 ],\n",
              "       [0.5773467 , 0.4226533 ],\n",
              "       [0.59780806, 0.40219197],\n",
              "       [0.575621  , 0.42437896],\n",
              "       [0.3990238 , 0.60097617],\n",
              "       [0.53716534, 0.46283472],\n",
              "       [0.38965315, 0.61034685],\n",
              "       [0.4947745 , 0.50522554],\n",
              "       [0.6172156 , 0.3827844 ],\n",
              "       [0.5490966 , 0.45090345],\n",
              "       [0.588223  , 0.41177705],\n",
              "       [0.47666332, 0.52333665],\n",
              "       [0.79726   , 0.20273997],\n",
              "       [0.49500707, 0.5049929 ],\n",
              "       [0.52560633, 0.4743937 ],\n",
              "       [0.42486593, 0.57513404],\n",
              "       [0.79417884, 0.20582111],\n",
              "       [0.61178845, 0.3882116 ],\n",
              "       [0.41103044, 0.5889696 ],\n",
              "       [0.6960368 , 0.30396318],\n",
              "       [0.5095332 , 0.49046674],\n",
              "       [0.4188757 , 0.5811243 ],\n",
              "       [0.44845894, 0.5515411 ],\n",
              "       [0.5262321 , 0.47376788],\n",
              "       [0.53834826, 0.4616518 ],\n",
              "       [0.69353586, 0.30646417],\n",
              "       [0.6223146 , 0.37768543],\n",
              "       [0.4230573 , 0.5769427 ],\n",
              "       [0.39558408, 0.60441595],\n",
              "       [0.608994  , 0.391006  ],\n",
              "       [0.6265028 , 0.37349716],\n",
              "       [0.77199405, 0.2280059 ],\n",
              "       [0.6068449 , 0.39315513],\n",
              "       [0.46861243, 0.53138757],\n",
              "       [0.8274532 , 0.17254682],\n",
              "       [0.55042803, 0.449572  ],\n",
              "       [0.40133464, 0.59866536],\n",
              "       [0.45140204, 0.54859793],\n",
              "       [0.47059742, 0.52940255],\n",
              "       [0.47932047, 0.52067953],\n",
              "       [0.547452  , 0.45254797],\n",
              "       [0.7126147 , 0.2873853 ],\n",
              "       [0.54910594, 0.45089406],\n",
              "       [0.39393657, 0.6060634 ],\n",
              "       [0.54559207, 0.45440793],\n",
              "       [0.40330112, 0.5966989 ],\n",
              "       [0.38400316, 0.61599684],\n",
              "       [0.38534316, 0.61465687],\n",
              "       [0.5924987 , 0.40750128],\n",
              "       [0.426946  , 0.57305396],\n",
              "       [0.63946044, 0.3605396 ],\n",
              "       [0.41293356, 0.5870665 ],\n",
              "       [0.47293705, 0.5270629 ],\n",
              "       [0.8162009 , 0.18379909],\n",
              "       [0.5984268 , 0.40157318],\n",
              "       [0.43971926, 0.5602808 ],\n",
              "       [0.568152  , 0.43184793],\n",
              "       [0.6944552 , 0.3055448 ],\n",
              "       [0.4947745 , 0.50522554],\n",
              "       [0.4788112 , 0.52118874],\n",
              "       [0.7126778 , 0.28732222],\n",
              "       [0.44109547, 0.5589045 ],\n",
              "       [0.44886857, 0.5511314 ],\n",
              "       [0.4702846 , 0.5297154 ],\n",
              "       [0.5437924 , 0.4562076 ],\n",
              "       [0.6020218 , 0.39797822],\n",
              "       [0.6224152 , 0.37758487],\n",
              "       [0.49685198, 0.503148  ],\n",
              "       [0.5157367 , 0.48426333],\n",
              "       [0.8178949 , 0.18210512],\n",
              "       [0.61486894, 0.385131  ],\n",
              "       [0.7267141 , 0.27328593],\n",
              "       [0.5846392 , 0.41536078],\n",
              "       [0.6512947 , 0.3487053 ],\n",
              "       [0.51249707, 0.48750293],\n",
              "       [0.6944518 , 0.30554816],\n",
              "       [0.59907234, 0.40092766],\n",
              "       [0.5301536 , 0.46984643],\n",
              "       [0.59089035, 0.40910962],\n",
              "       [0.61436486, 0.38563508],\n",
              "       [0.40087444, 0.5991256 ],\n",
              "       [0.7043308 , 0.2956692 ],\n",
              "       [0.46768445, 0.5323155 ],\n",
              "       [0.51329   , 0.48671004],\n",
              "       [0.39351347, 0.6064865 ],\n",
              "       [0.5444913 , 0.45550874],\n",
              "       [0.66174734, 0.33825272],\n",
              "       [0.7436936 , 0.25630635],\n",
              "       [0.48453847, 0.51546156],\n",
              "       [0.663941  , 0.336059  ],\n",
              "       [0.47979105, 0.5202089 ],\n",
              "       [0.3814308 , 0.61856914],\n",
              "       [0.5499595 , 0.45004055],\n",
              "       [0.604608  , 0.39539197],\n",
              "       [0.5203613 , 0.47963873],\n",
              "       [0.5346559 , 0.46534404],\n",
              "       [0.66192764, 0.3380724 ],\n",
              "       [0.53056335, 0.46943668],\n",
              "       [0.40272775, 0.5972722 ],\n",
              "       [0.616033  , 0.383967  ],\n",
              "       [0.5449353 , 0.45506477],\n",
              "       [0.6191385 , 0.38086152],\n",
              "       [0.69229287, 0.30770716],\n",
              "       [0.38945723, 0.6105427 ],\n",
              "       [0.6287753 , 0.37122476],\n",
              "       [0.44269064, 0.5573093 ],\n",
              "       [0.5821202 , 0.41787982],\n",
              "       [0.5224286 , 0.4775715 ],\n",
              "       [0.8509936 , 0.14900646],\n",
              "       [0.63144827, 0.36855176],\n",
              "       [0.50295395, 0.49704608],\n",
              "       [0.5839575 , 0.41604245],\n",
              "       [0.5505005 , 0.44949946],\n",
              "       [0.51574177, 0.48425826],\n",
              "       [0.38668597, 0.61331403],\n",
              "       [0.46026626, 0.53973377],\n",
              "       [0.67277133, 0.32722864],\n",
              "       [0.41284704, 0.587153  ],\n",
              "       [0.73960626, 0.2603938 ],\n",
              "       [0.51383984, 0.4861602 ],\n",
              "       [0.69412124, 0.30587876],\n",
              "       [0.55974025, 0.44025975],\n",
              "       [0.53227663, 0.46772337],\n",
              "       [0.5914436 , 0.40855634],\n",
              "       [0.5998878 , 0.40011215],\n",
              "       [0.5268367 , 0.47316328],\n",
              "       [0.39573073, 0.60426927],\n",
              "       [0.41503975, 0.5849603 ],\n",
              "       [0.612401  , 0.38759893],\n",
              "       [0.46264723, 0.53735274],\n",
              "       [0.8607832 , 0.13921681],\n",
              "       [0.62082666, 0.37917334],\n",
              "       [0.5740184 , 0.42598158],\n",
              "       [0.5798046 , 0.42019537],\n",
              "       [0.53198206, 0.4680179 ],\n",
              "       [0.44414404, 0.555856  ],\n",
              "       [0.6949279 , 0.30507213],\n",
              "       [0.7158619 , 0.2841381 ],\n",
              "       [0.5488589 , 0.45114112],\n",
              "       [0.5028111 , 0.49718893],\n",
              "       [0.71595263, 0.28404737],\n",
              "       [0.52742356, 0.47257644],\n",
              "       [0.51565933, 0.4843407 ],\n",
              "       [0.60854155, 0.3914584 ],\n",
              "       [0.649847  , 0.35015303],\n",
              "       [0.56948394, 0.4305161 ],\n",
              "       [0.51470834, 0.48529172],\n",
              "       [0.5307842 , 0.46921584],\n",
              "       [0.73960626, 0.2603938 ],\n",
              "       [0.5143405 , 0.48565948],\n",
              "       [0.73935366, 0.26064634],\n",
              "       [0.5249249 , 0.4750751 ],\n",
              "       [0.5180409 , 0.48195913],\n",
              "       [0.59544885, 0.40455115],\n",
              "       [0.41477007, 0.58522993],\n",
              "       [0.6300805 , 0.36991948],\n",
              "       [0.6064457 , 0.39355433],\n",
              "       [0.8178949 , 0.18210512],\n",
              "       [0.71274465, 0.2872554 ],\n",
              "       [0.40241325, 0.59758675],\n",
              "       [0.63058203, 0.369418  ],\n",
              "       [0.5822819 , 0.41771808],\n",
              "       [0.6711103 , 0.3288897 ],\n",
              "       [0.7154851 , 0.28451484],\n",
              "       [0.80327046, 0.19672951],\n",
              "       [0.41745484, 0.58254516],\n",
              "       [0.36209473, 0.63790524],\n",
              "       [0.6025515 , 0.3974485 ],\n",
              "       [0.3645292 , 0.6354708 ],\n",
              "       [0.47170627, 0.5282937 ],\n",
              "       [0.51935804, 0.48064196],\n",
              "       [0.7718366 , 0.22816344],\n",
              "       [0.69046336, 0.30953664],\n",
              "       [0.5949269 , 0.40507314],\n",
              "       [0.5133064 , 0.48669365],\n",
              "       [0.81579167, 0.18420829],\n",
              "       [0.79034233, 0.20965765],\n",
              "       [0.36826026, 0.63173974],\n",
              "       [0.5133698 , 0.48663023],\n",
              "       [0.39266217, 0.60733783],\n",
              "       [0.80864227, 0.19135773],\n",
              "       [0.6654438 , 0.33455628],\n",
              "       [0.6050683 , 0.3949317 ],\n",
              "       [0.63859355, 0.36140642],\n",
              "       [0.60563236, 0.39436767],\n",
              "       [0.4840177 , 0.5159823 ],\n",
              "       [0.5042812 , 0.49571875],\n",
              "       [0.65892714, 0.34107283],\n",
              "       [0.6050683 , 0.3949317 ],\n",
              "       [0.3949641 , 0.6050359 ],\n",
              "       [0.6639409 , 0.33605903],\n",
              "       [0.56269914, 0.43730086],\n",
              "       [0.6001274 , 0.39987257],\n",
              "       [0.6491983 , 0.3508017 ],\n",
              "       [0.5672866 , 0.43271333],\n",
              "       [0.48025197, 0.519748  ],\n",
              "       [0.42344213, 0.5765579 ],\n",
              "       [0.5086843 , 0.49131572],\n",
              "       [0.5459613 , 0.4540387 ],\n",
              "       [0.44141462, 0.5585854 ],\n",
              "       [0.7770014 , 0.22299863],\n",
              "       [0.67198503, 0.32801497],\n",
              "       [0.56554514, 0.4344549 ],\n",
              "       [0.515035  , 0.48496503],\n",
              "       [0.5981398 , 0.40186024],\n",
              "       [0.68688464, 0.31311536],\n",
              "       [0.733347  , 0.26665306],\n",
              "       [0.610131  , 0.38986897],\n",
              "       [0.8430922 , 0.15690781],\n",
              "       [0.54100955, 0.45899045],\n",
              "       [0.5966348 , 0.4033652 ],\n",
              "       [0.5102415 , 0.48975846],\n",
              "       [0.46768448, 0.5323155 ],\n",
              "       [0.5846392 , 0.41536084],\n",
              "       [0.67323273, 0.3267673 ]], dtype=float32)"
            ]
          },
          "metadata": {},
          "execution_count": 47
        }
      ],
      "source": [
        "y_pred1 = model.predict(test_data)\n",
        "y_pred1"
      ]
    },
    {
      "cell_type": "code",
      "execution_count": null,
      "metadata": {
        "colab": {
          "base_uri": "https://localhost:8080/"
        },
        "id": "28hSlLZzhVYb",
        "outputId": "96db77f5-8edf-41d0-fa71-9acec961cdc7"
      },
      "outputs": [
        {
          "output_type": "stream",
          "name": "stdout",
          "text": [
            "7/7 [==============================] - 0s 57ms/step\n"
          ]
        },
        {
          "output_type": "execute_result",
          "data": {
            "text/plain": [
              "array([0, 1, 0, 0, 0, 1, 0, 1, 0, 0, 0, 0, 0, 0, 0, 1, 0, 1, 0, 0, 0, 0,\n",
              "       0, 1, 0, 0, 0, 0, 0, 0, 0, 0, 0, 0, 1, 1, 1, 0, 0, 0, 0, 0, 0, 0,\n",
              "       0, 0, 1, 1, 0, 0, 0, 0, 0, 0, 0, 0, 1, 0, 1, 1, 1, 1, 1, 0, 0, 0,\n",
              "       0, 1, 0, 0, 0, 1, 1, 0, 0, 0, 1, 1, 1, 1, 0, 1, 0, 0, 0, 0, 0, 0,\n",
              "       0, 0, 0, 1, 0, 0, 0, 0, 0, 0, 1, 0, 0, 0, 0, 0, 1, 0, 0, 0, 0, 0,\n",
              "       0, 0, 0, 0, 1, 1, 0, 0, 0, 0, 1, 1, 1, 0, 0, 0, 0, 0, 1, 1, 0, 0,\n",
              "       0, 0, 0, 0, 0, 1, 1, 1, 1, 1, 0, 0, 0, 0, 0, 0, 0, 1, 0, 0, 0, 0,\n",
              "       0, 0, 0, 1, 0, 0, 0, 0, 0, 0, 0, 0, 1, 0, 0, 0, 0, 1, 0, 1, 1, 0,\n",
              "       1, 0, 1, 1, 0, 0, 0, 1, 0, 1, 1, 0, 0, 0, 1, 0, 1, 1, 0, 0, 0, 0,\n",
              "       0, 0, 0, 1, 0, 0, 0, 0, 0, 1, 1, 0, 0, 0, 1, 0, 0, 0, 0, 0, 1, 0,\n",
              "       0, 0, 1, 0, 0, 0, 1, 0, 1, 1, 0, 0, 0, 1, 0, 1, 0, 1, 0, 0, 1, 0,\n",
              "       0, 1, 1, 0, 0, 0, 0, 1, 1, 0, 0, 0, 0, 1, 0, 0, 1, 1, 1, 1, 0, 0,\n",
              "       0, 1, 0, 1, 1, 1, 0, 1, 0, 1, 1, 0, 0, 1, 0, 0, 1, 1, 0, 1, 1, 1,\n",
              "       0, 0, 0, 1, 0, 0, 0, 0, 0, 0, 0, 0, 0, 0, 0, 0, 1, 0, 1, 0, 1, 0,\n",
              "       0, 0, 1, 0, 1, 1, 0, 0, 0, 0, 0, 0, 1, 0, 0, 0, 0, 1, 0, 1, 0, 0,\n",
              "       0, 0, 0, 0, 0, 0, 1, 1, 0, 1, 0, 0, 0, 0, 0, 0, 0, 0, 1, 1, 0, 1,\n",
              "       0, 0, 0, 0, 0, 1, 0, 0, 0, 0, 0, 0, 0, 0, 0, 0, 0, 0, 0, 0, 0, 0,\n",
              "       0, 0, 1, 0, 0, 0, 0, 1, 0, 0, 0, 0, 0, 1, 1, 0, 1, 1, 0, 0, 0, 0,\n",
              "       0, 0, 0, 1, 0, 1, 0, 0, 0, 0, 0, 1, 0, 0, 0, 1, 0, 0, 0, 0, 0, 1,\n",
              "       1, 0, 0, 1, 0, 0, 0, 0, 0, 0, 0, 0, 0, 0, 0, 0, 1, 0, 0])"
            ]
          },
          "metadata": {},
          "execution_count": 48
        }
      ],
      "source": [
        "y_pred1 = model.predict(test_data)\n",
        "y_pred2 = np.argmax(np.round(y_pred1),axis=1)\n",
        "y_pred2"
      ]
    },
    {
      "cell_type": "markdown",
      "metadata": {
        "id": "kGi-FUuMhVYb"
      },
      "source": [
        "## Матрица ошибок модели"
      ]
    },
    {
      "cell_type": "code",
      "execution_count": null,
      "metadata": {
        "id": "EhkHBM_GhVYc"
      },
      "outputs": [],
      "source": [
        "cm = confusion_matrix(test_data.labels, y_pred2)"
      ]
    },
    {
      "cell_type": "code",
      "execution_count": null,
      "metadata": {
        "colab": {
          "base_uri": "https://localhost:8080/",
          "height": 622
        },
        "id": "eJyaJvgshVYc",
        "outputId": "cdd3e79d-fbd7-4700-c2d0-4e63cd718cd3"
      },
      "outputs": [
        {
          "output_type": "display_data",
          "data": {
            "text/plain": [
              "<Figure size 720x720 with 2 Axes>"
            ],
            "image/png": "[encoded data removed]"
          },
          "metadata": {}
        }
      ],
      "source": [
        "plt.figure(figsize = (10,10))\n",
        "sns.heatmap(cm,cmap = \"Blues\", linecolor = 'black' , linewidth = 1 , annot = True, fmt='')\n",
        "plt.xlabel(\"Предсказанное значение\")\n",
        "plt.ylabel(\"Истинное значение\")\n",
        "plt.title(\"Матрица ошибок\")\n",
        "plt.show()  "
      ]
    },
    {
      "cell_type": "markdown",
      "metadata": {
        "id": "o34sjeQThVYc"
      },
      "source": [
        "### Истинный положительный результат (True Positive; TP):\n",
        "73 правильно прогнозируются как положительные. Таким образом, значение True Positive равно 73.\n",
        "### Ложный положительный результат (FP; False Positive)\n",
        "48 были ложно предсказаны как положительные. Таким образом, значение ложного срабатывания равно 48.\n",
        "### Истинный отрицательный результат (TN; True Negative)\n",
        "233 правильно предсказанных отрицательных результатов. Таким образом, значение True Negative равно 233.\n",
        "### Ложный отрицательный результат (FN; False Negative)\n",
        "83 ложно предсказаны как отрицательные. Таким образом, значение False Negative равно 83. "
      ]
    },
    {
      "cell_type": "markdown",
      "metadata": {
        "id": "qFKxc3ZYhVYc"
      },
      "source": [
        "### Precision (точность) \n",
        "Точность: оценка точности модели представляет собой способность модели правильно предсказывать положительные результаты из всех сделанных ей положительных прогнозов. Она представляет собой отношение между количеством положительных образцов, правильно классифицированных, к общему количеству образцов, классифицированных как положительные (правильно или неправильно).\n",
        "\n",
        "### Precision Score = TP / (FP + TP)\n",
        "\n",
        "###                 = 73/( 48+73)\n",
        "\n",
        "###                 = 0.603"
      ]
    },
    {
      "cell_type": "markdown",
      "metadata": {
        "id": "jyfhGr_7hVYd"
      },
      "source": [
        "### Recall (полнота) \n",
        "Оценка полноты модели представляет собой способность модели правильно предсказывать положительные результаты из фактических положительных результатов.\n",
        "Полнота рассчитывается как отношение количества положительных образцов, правильно классифицированных как положительные, к общему количеству положительных образцов.\n",
        "\n",
        "### Recall score = TP/(TP+FN)\n",
        "\n",
        "###                 = 233/(233+83)\n",
        "\n",
        "###                 = 0.737"
      ]
    },
    {
      "cell_type": "markdown",
      "metadata": {
        "id": "sU7O8T-ghVYd"
      },
      "source": [
        "### Accuracy (точность измерений – доля правильных ответов)\n",
        "\n",
        "Оценка точности модели представляет собой способность модели правильно прогнозировать как положительные, так и отрицательные стороны всех прогнозов.\n",
        "Математически она представляет собой отношение суммы истинных положительных и истинных отрицательных значений ко всем предсказаниям.\n",
        "\n",
        "### Accuracy Score = (TP + TN)/ (TP + FN + TN + FP)\n",
        "\n",
        "###                = (73+233)/(233+48+73+83)\n",
        "\n",
        "###                = 0.7"
      ]
    },
    {
      "cell_type": "markdown",
      "metadata": {
        "id": "oC0-ayM6hVYd"
      },
      "source": [
        "### F1-мера\n",
        "\n",
        "Оценка модели F1 представляет оценку модели как функцию от метрик точности и полноты. F1-мера — это способ объединения точности и полноты модели, и она определяется как среднее гармоническое точности и полноты модели.\n",
        "\n",
        "### F1 Score = 2* Precision Score * Recall Score/ (Precision Score + Recall Score/)\n",
        "\n",
        "###          = 2* 0.603*0.737/(0.603+0.737)\n",
        "\n",
        "###          = 0.663"
      ]
    },
    {
      "cell_type": "markdown",
      "metadata": {
        "id": "FLvgenGshVYd"
      },
      "source": [
        "## Отчет о классификации"
      ]
    },
    {
      "cell_type": "markdown",
      "metadata": {
        "id": "Qvc2_fZVhVYd"
      },
      "source": [
        "Отчет о классификации позволяет наблюдать за тем, для какого класса модель отработала лучше."
      ]
    },
    {
      "cell_type": "code",
      "execution_count": null,
      "metadata": {
        "colab": {
          "base_uri": "https://localhost:8080/"
        },
        "id": "_6eXRRpqhVYe",
        "outputId": "4bca9b16-31ae-4271-d6a0-1e88d5c7b357"
      },
      "outputs": [
        {
          "output_type": "stream",
          "name": "stdout",
          "text": [
            "              precision    recall  f1-score   support\n",
            "\n",
            "        SICK       0.74      0.83      0.78       281\n",
            "     HEALTHY       0.60      0.47      0.53       156\n",
            "\n",
            "    accuracy                           0.70       437\n",
            "   macro avg       0.67      0.65      0.65       437\n",
            "weighted avg       0.69      0.70      0.69       437\n",
            "\n"
          ]
        }
      ],
      "source": [
        "clr = classification_report(test_data.labels, y_pred2, target_names=[\"SICK\", \"HEALTHY\"])\n",
        "print(clr)"
      ]
    },
    {
      "cell_type": "markdown",
      "source": [
        "## Проверка модели на входном изображении"
      ],
      "metadata": {
        "id": "09eYWnX3zlMC"
      }
    },
    {
      "cell_type": "code",
      "source": [
        "# Загрузка изображения из входного файла (размер – 120 x 120)\n",
        "img = tf.keras.utils.load_img(\"Breast Cancer Patients MRI's/Sick/S_259.jpg\", target_size=(120, 120))\n",
        "\n",
        "# Преобразование изображения к массиву\n",
        "img1 =  tf.keras.preprocessing.image.img_to_array(img)\n",
        "\n",
        "# Изменение размерности и масштабирование\n",
        "img1 = np.expand_dims(img1,[0])\n",
        "img1 = img1 / 255"
      ],
      "metadata": {
        "id": "A0b4CpWjignR"
      },
      "execution_count": null,
      "outputs": []
    },
    {
      "cell_type": "code",
      "source": [
        "# Показать изображение \n",
        "plt.imshow(img)"
      ],
      "metadata": {
        "colab": {
          "base_uri": "https://localhost:8080/",
          "height": 285
        },
        "id": "45Idnf07mwWJ",
        "outputId": "a5356008-aa9f-4e67-f682-cb1d7df38b4a"
      },
      "execution_count": null,
      "outputs": [
        {
          "output_type": "execute_result",
          "data": {
            "text/plain": [
              "<matplotlib.image.AxesImage at 0x7fe329786580>"
            ]
          },
          "metadata": {},
          "execution_count": 53
        },
        {
          "output_type": "display_data",
          "data": {
            "text/plain": [
              "<Figure size 432x288 with 1 Axes>"
            ],
            "image/png": "[encoded data removed]"
          },
          "metadata": {}
        }
      ]
    },
    {
      "cell_type": "code",
      "source": [
        "# Вывести размерность изображения\n",
        "print(img1.shape)"
      ],
      "metadata": {
        "colab": {
          "base_uri": "https://localhost:8080/"
        },
        "id": "8u0Op3oAm0o4",
        "outputId": "1ff5b9c5-8449-4361-c961-9d5f771f0948"
      },
      "execution_count": null,
      "outputs": [
        {
          "output_type": "stream",
          "name": "stdout",
          "text": [
            "(1, 120, 120, 3)\n"
          ]
        }
      ]
    },
    {
      "cell_type": "code",
      "source": [
        "# Определить функцию для определения веротности дефекта на изображении\n",
        "# (предположительно, изображение содержит дефект, если отклик модели с \n",
        "# вероятностью дефекта на этом изображении не меньше значения в 50%)\n",
        "def display_prediction_stats(prob):\n",
        "  print(\"Вероятность заболевания: \", prob * 100, \"%\")\n",
        "  if prob >= 0.5:\n",
        "    print(\"Заболевание обнаружено!\")\n",
        "  else:\n",
        "    print(\"Заболевание не обнаружено!\")"
      ],
      "metadata": {
        "id": "7YEXL-OQnWz8"
      },
      "execution_count": null,
      "outputs": []
    },
    {
      "cell_type": "code",
      "source": [
        "# Проверить отклик модели на этом изображении\n",
        "prediction = model.predict(img1)\n",
        "\n",
        "# Отобразить результат проверки при помощи функции\n",
        "display_prediction_stats(prediction[0][1])"
      ],
      "metadata": {
        "colab": {
          "base_uri": "https://localhost:8080/"
        },
        "id": "9YxDaiUcnIff",
        "outputId": "c17c96e5-1c85-4776-c4af-7b9a8be330b7"
      },
      "execution_count": null,
      "outputs": [
        {
          "output_type": "stream",
          "name": "stdout",
          "text": [
            "1/1 [==============================] - 0s 212ms/step\n",
            "Вероятность заболевания:  59.672945737838745 %\n",
            "Заболевание обнаружено!\n"
          ]
        }
      ]
    },
    {
      "cell_type": "code",
      "source": [
        "# Сохранить модель в *.h5-файл\n",
        "model.save('model.h5')"
      ],
      "metadata": {
        "id": "IE7UDliOz_oh"
      },
      "execution_count": null,
      "outputs": []
    },
    {
      "cell_type": "markdown",
      "metadata": {
        "id": "TgGYm_56hVYe"
      },
      "source": [
        "## Плюсы и минусы итоговой модели CNN\n",
        "\n",
        "### Плюсы\n",
        "– С точки зрения производительности эта модель CNN очень эффективна по сравнению с другими моделями.\n",
        "\n",
        "– Она проста в реализации и требует меньше параметров для построения\n",
        "\n",
        "– Она может быть использована в различных областях и выполнять основные задачи, такие как распознавание лиц, анализ документов, прогнозирование климата, распознавание изображений и идентификация объектов.\n",
        "\n",
        "### Минусы\n",
        "\n",
        "– Переобучение — распространенная проблема при обучении модели, особенно когда недостаточно данных для обучения модели. Эта проблема может быть решена путем увеличения данных за счет аугментации.\n",
        "\n",
        "– Еще одна распространенная проблема — потеря данных в процессе обучения. Это можно уменьшить, увеличив количество эпох и увеличив объем данных за счет аугментации.\n",
        "\n",
        "– Если CNN имеет несколько слоев, то процесс обучения занимает много времени без современного графического процессора."
      ]
    },
    {
      "cell_type": "markdown",
      "source": [
        "###Вывод:\n",
        "Программа работает, хоть и не имеет достаточной точности. Необходимо увеличить количество данных. Планируется доработка на производстве с помощью привлечения более опытных специалистов. Есть возможность заменить данные на снимки рентген аппара, что позволит расширить сферу применения, так как маммографию проходят все женщины в возрасте от 35 лет.\n"
      ],
      "metadata": {
        "id": "neJI8FcDObdZ"
      }
    }
  ],
  "metadata": {
    "kernelspec": {
      "display_name": "Python 3",
      "language": "python",
      "name": "python3"
    },
    "language_info": {
      "codemirror_mode": {
        "name": "ipython",
        "version": 3
      },
      "file_extension": ".py",
      "mimetype": "text/x-python",
      "name": "python",
      "nbconvert_exporter": "python",
      "pygments_lexer": "ipython3",
      "version": "3.8.3"
    },
    "colab": {
      "provenance": [],
      "collapsed_sections": [
        "s8Y2rMc9hVYZ",
        "qFKxc3ZYhVYc",
        "jyfhGr_7hVYd",
        "sU7O8T-ghVYd",
        "oC0-ayM6hVYd"
      ],
      "include_colab_link": true
    },
    "accelerator": "GPU"
  },
  "nbformat": 4,
  "nbformat_minor": 0
}